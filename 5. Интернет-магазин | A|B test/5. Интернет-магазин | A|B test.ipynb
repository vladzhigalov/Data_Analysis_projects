{
 "cells": [
  {
   "cell_type": "markdown",
   "metadata": {},
   "source": [
    "# Описание данных\n",
    "\n",
    "- Данные для первой части\n",
    "      Файл /datasets/hypothesis.csv. \n",
    "      Hypothesis — краткое описание гипотезы;\n",
    "      Reach — охват пользователей по 10-балльной шкале;\n",
    "      Impact — влияние на пользователей по 10-балльной шкале;\n",
    "      Confidence — уверенность в гипотезе по 10-балльной шкале;\n",
    "      Efforts — затраты ресурсов на проверку гипотезы по 10-балльной шкале. Чем больше значение Efforts, тем дороже проверка гипотезы.\n",
    "\n",
    "- Данные для второй части\n",
    "     \n",
    "    Файл /datasets/orders.csv.\n",
    "\t  transactionId — идентификатор заказа;\n",
    "\t  visitorId — идентификатор пользователя, совершившего заказ;\n",
    "\t  date — дата, когда был совершён заказ;\n",
    "\t  revenue — выручка заказа;\n",
    "\t  group — группа A/B-теста, в которую попал заказ.\n",
    "\n",
    "    Файл /datasets/visitors.csv.\n",
    "\t  date — дата;\n",
    "\t  group — группа A/B-теста;\n",
    "\t  visitors — количество пользователей в указанную дату в указанной группе A/B-теста\n"
   ]
  },
  {
   "cell_type": "markdown",
   "metadata": {},
   "source": [
    "# План работы:\n",
    "\n",
    "- Изучить файлы с данными.\n",
    "- Проверить данные на пропуски, дубликаты.\n",
    "- Провести предобработку данных.\n",
    "- Провести приоритизацию гипотез (ICE, RICE)\n",
    "- Проанализировать результаты А/В теста: построить графики, сформулировать гипотезы, посчитать стастические значимости\n",
    "- Принять решение по результатам А/В теста"
   ]
  },
  {
   "cell_type": "markdown",
   "metadata": {},
   "source": [
    "## Предобработка данных"
   ]
  },
  {
   "cell_type": "code",
   "execution_count": 1,
   "metadata": {},
   "outputs": [],
   "source": [
    "import pandas as pd\n",
    "import numpy as np\n",
    "\n",
    "import math\n",
    "from scipy import stats\n",
    "\n",
    "from datetime import timedelta\n",
    "import datetime as dt\n",
    "\n",
    "import seaborn as sns\n",
    "from matplotlib import pyplot as plt\n",
    "\n",
    "from statsmodels.stats.proportion import proportions_ztest\n",
    "import warnings\n",
    "\n",
    "warnings.filterwarnings('ignore')"
   ]
  },
  {
   "cell_type": "code",
   "execution_count": 2,
   "metadata": {},
   "outputs": [],
   "source": [
    "hype = pd.read_csv('/datasets/hypothesis.csv')\n",
    "\n",
    "orders = pd.read_csv('/datasets/orders.csv')\n",
    "visits = pd.read_csv('/datasets/visitors.csv')"
   ]
  },
  {
   "cell_type": "code",
   "execution_count": 3,
   "metadata": {},
   "outputs": [],
   "source": [
    "def check(data):\n",
    "    data.info()\n",
    "    nan_perc = data.isna().sum() / data.shape[0] * 100\n",
    "    print()\n",
    "    print('Индекс упорядочен:',data.index.is_monotonic)\n",
    "    print('Кол-во дубликатов -',data.duplicated().sum())\n",
    "    print()\n",
    "    print('\\033[1mКол-во пропусков:\\033[0m')\n",
    "    print(data.isna().sum())\n",
    "    print()\n",
    "    print('\\033[1mПроцент пропусков:\\033[0m')\n",
    "    print(nan_perc.sort_values(ascending=False))\n",
    "    print('---------------------------')\n",
    "    for column in data.columns:\n",
    "        print()\n",
    "        print('\\033[1mCтолбец\\033[0m', column)\n",
    "        print('Кол-во уникальных значений -',data[column].nunique())\n",
    "        print('Кол-во пропусков -',data[column].isnull().sum())\n",
    "        print('Кол-во дубликатов -', data[column].duplicated().sum())\n",
    "        print()\n",
    "        print(data[column].value_counts().head())\n",
    "        print()"
   ]
  },
  {
   "cell_type": "code",
   "execution_count": 4,
   "metadata": {},
   "outputs": [],
   "source": [
    "sns.set(palette='mako', context='talk',style='darkgrid')\n",
    "def charts(data, column, title):\n",
    "    fig, axs = plt.subplots(ncols=2,figsize=(20,5))\n",
    "    plt.suptitle(title, fontsize = \"xx-large\")\n",
    "    distplot = sns.distplot(data[column],ax=axs[0])\n",
    "    sns.boxplot(data[column], ax=axs[1])"
   ]
  },
  {
   "cell_type": "code",
   "execution_count": 5,
   "metadata": {},
   "outputs": [],
   "source": [
    "def bar(data, column, title):\n",
    "    plt.suptitle(title, fontsize = \"xx-large\")\n",
    "    data[column].value_counts().plot(kind='bar',grid=True,figsize=(10,5))"
   ]
  },
  {
   "cell_type": "markdown",
   "metadata": {},
   "source": [
    "### Данные о гипотезах"
   ]
  },
  {
   "cell_type": "code",
   "execution_count": 6,
   "metadata": {
    "scrolled": true
   },
   "outputs": [
    {
     "data": {
      "text/html": [
       "<div>\n",
       "<style scoped>\n",
       "    .dataframe tbody tr th:only-of-type {\n",
       "        vertical-align: middle;\n",
       "    }\n",
       "\n",
       "    .dataframe tbody tr th {\n",
       "        vertical-align: top;\n",
       "    }\n",
       "\n",
       "    .dataframe thead th {\n",
       "        text-align: right;\n",
       "    }\n",
       "</style>\n",
       "<table border=\"1\" class=\"dataframe\">\n",
       "  <thead>\n",
       "    <tr style=\"text-align: right;\">\n",
       "      <th></th>\n",
       "      <th>Hypothesis</th>\n",
       "      <th>Reach</th>\n",
       "      <th>Impact</th>\n",
       "      <th>Confidence</th>\n",
       "      <th>Efforts</th>\n",
       "    </tr>\n",
       "  </thead>\n",
       "  <tbody>\n",
       "    <tr>\n",
       "      <th>0</th>\n",
       "      <td>Добавить два новых канала привлечения трафика,...</td>\n",
       "      <td>3</td>\n",
       "      <td>10</td>\n",
       "      <td>8</td>\n",
       "      <td>6</td>\n",
       "    </tr>\n",
       "    <tr>\n",
       "      <th>1</th>\n",
       "      <td>Запустить собственную службу доставки, что сок...</td>\n",
       "      <td>2</td>\n",
       "      <td>5</td>\n",
       "      <td>4</td>\n",
       "      <td>10</td>\n",
       "    </tr>\n",
       "    <tr>\n",
       "      <th>2</th>\n",
       "      <td>Добавить блоки рекомендаций товаров на сайт ин...</td>\n",
       "      <td>8</td>\n",
       "      <td>3</td>\n",
       "      <td>7</td>\n",
       "      <td>3</td>\n",
       "    </tr>\n",
       "    <tr>\n",
       "      <th>3</th>\n",
       "      <td>Изменить структура категорий, что увеличит кон...</td>\n",
       "      <td>8</td>\n",
       "      <td>3</td>\n",
       "      <td>3</td>\n",
       "      <td>8</td>\n",
       "    </tr>\n",
       "    <tr>\n",
       "      <th>4</th>\n",
       "      <td>Изменить цвет фона главной страницы, чтобы уве...</td>\n",
       "      <td>3</td>\n",
       "      <td>1</td>\n",
       "      <td>1</td>\n",
       "      <td>1</td>\n",
       "    </tr>\n",
       "    <tr>\n",
       "      <th>5</th>\n",
       "      <td>Добавить страницу отзывов клиентов о магазине,...</td>\n",
       "      <td>3</td>\n",
       "      <td>2</td>\n",
       "      <td>2</td>\n",
       "      <td>3</td>\n",
       "    </tr>\n",
       "    <tr>\n",
       "      <th>6</th>\n",
       "      <td>Показать на главной странице баннеры с актуаль...</td>\n",
       "      <td>5</td>\n",
       "      <td>3</td>\n",
       "      <td>8</td>\n",
       "      <td>3</td>\n",
       "    </tr>\n",
       "    <tr>\n",
       "      <th>7</th>\n",
       "      <td>Добавить форму подписки на все основные страни...</td>\n",
       "      <td>10</td>\n",
       "      <td>7</td>\n",
       "      <td>8</td>\n",
       "      <td>5</td>\n",
       "    </tr>\n",
       "    <tr>\n",
       "      <th>8</th>\n",
       "      <td>Запустить акцию, дающую скидку на товар в день...</td>\n",
       "      <td>1</td>\n",
       "      <td>9</td>\n",
       "      <td>9</td>\n",
       "      <td>5</td>\n",
       "    </tr>\n",
       "  </tbody>\n",
       "</table>\n",
       "</div>"
      ],
      "text/plain": [
       "                                          Hypothesis  Reach  Impact  \\\n",
       "0  Добавить два новых канала привлечения трафика,...      3      10   \n",
       "1  Запустить собственную службу доставки, что сок...      2       5   \n",
       "2  Добавить блоки рекомендаций товаров на сайт ин...      8       3   \n",
       "3  Изменить структура категорий, что увеличит кон...      8       3   \n",
       "4  Изменить цвет фона главной страницы, чтобы уве...      3       1   \n",
       "5  Добавить страницу отзывов клиентов о магазине,...      3       2   \n",
       "6  Показать на главной странице баннеры с актуаль...      5       3   \n",
       "7  Добавить форму подписки на все основные страни...     10       7   \n",
       "8  Запустить акцию, дающую скидку на товар в день...      1       9   \n",
       "\n",
       "   Confidence  Efforts  \n",
       "0           8        6  \n",
       "1           4       10  \n",
       "2           7        3  \n",
       "3           3        8  \n",
       "4           1        1  \n",
       "5           2        3  \n",
       "6           8        3  \n",
       "7           8        5  \n",
       "8           9        5  "
      ]
     },
     "execution_count": 6,
     "metadata": {},
     "output_type": "execute_result"
    }
   ],
   "source": [
    "hype.head(10)"
   ]
  },
  {
   "cell_type": "code",
   "execution_count": 7,
   "metadata": {},
   "outputs": [
    {
     "name": "stdout",
     "output_type": "stream",
     "text": [
      "<class 'pandas.core.frame.DataFrame'>\n",
      "RangeIndex: 9 entries, 0 to 8\n",
      "Data columns (total 5 columns):\n",
      " #   Column      Non-Null Count  Dtype \n",
      "---  ------      --------------  ----- \n",
      " 0   Hypothesis  9 non-null      object\n",
      " 1   Reach       9 non-null      int64 \n",
      " 2   Impact      9 non-null      int64 \n",
      " 3   Confidence  9 non-null      int64 \n",
      " 4   Efforts     9 non-null      int64 \n",
      "dtypes: int64(4), object(1)\n",
      "memory usage: 488.0+ bytes\n",
      "\n",
      "Индекс упорядочен: True\n",
      "Кол-во дубликатов - 0\n",
      "\n",
      "\u001b[1mКол-во пропусков:\u001b[0m\n",
      "Hypothesis    0\n",
      "Reach         0\n",
      "Impact        0\n",
      "Confidence    0\n",
      "Efforts       0\n",
      "dtype: int64\n",
      "\n",
      "\u001b[1mПроцент пропусков:\u001b[0m\n",
      "Hypothesis    0.0\n",
      "Reach         0.0\n",
      "Impact        0.0\n",
      "Confidence    0.0\n",
      "Efforts       0.0\n",
      "dtype: float64\n",
      "---------------------------\n",
      "\n",
      "\u001b[1mCтолбец\u001b[0m Hypothesis\n",
      "Кол-во уникальных значений - 9\n",
      "Кол-во пропусков - 0\n",
      "Кол-во дубликатов - 0\n",
      "\n",
      "Запустить акцию, дающую скидку на товар в день рождения                                                 1\n",
      "Добавить форму подписки на все основные страницы, чтобы собрать базу клиентов для email-рассылок        1\n",
      "Показать на главной странице баннеры с актуальными акциями и распродажами, чтобы увеличить конверсию    1\n",
      "Изменить структура категорий, что увеличит конверсию, т.к. пользователи быстрее найдут нужный товар     1\n",
      "Запустить собственную службу доставки, что сократит срок доставки заказов                               1\n",
      "Name: Hypothesis, dtype: int64\n",
      "\n",
      "\n",
      "\u001b[1mCтолбец\u001b[0m Reach\n",
      "Кол-во уникальных значений - 6\n",
      "Кол-во пропусков - 0\n",
      "Кол-во дубликатов - 3\n",
      "\n",
      "3    3\n",
      "8    2\n",
      "1    1\n",
      "2    1\n",
      "5    1\n",
      "Name: Reach, dtype: int64\n",
      "\n",
      "\n",
      "\u001b[1mCтолбец\u001b[0m Impact\n",
      "Кол-во уникальных значений - 7\n",
      "Кол-во пропусков - 0\n",
      "Кол-во дубликатов - 2\n",
      "\n",
      "3    3\n",
      "1    1\n",
      "2    1\n",
      "5    1\n",
      "7    1\n",
      "Name: Impact, dtype: int64\n",
      "\n",
      "\n",
      "\u001b[1mCтолбец\u001b[0m Confidence\n",
      "Кол-во уникальных значений - 7\n",
      "Кол-во пропусков - 0\n",
      "Кол-во дубликатов - 2\n",
      "\n",
      "8    3\n",
      "1    1\n",
      "2    1\n",
      "3    1\n",
      "4    1\n",
      "Name: Confidence, dtype: int64\n",
      "\n",
      "\n",
      "\u001b[1mCтолбец\u001b[0m Efforts\n",
      "Кол-во уникальных значений - 6\n",
      "Кол-во пропусков - 0\n",
      "Кол-во дубликатов - 3\n",
      "\n",
      "3    3\n",
      "5    2\n",
      "1    1\n",
      "6    1\n",
      "8    1\n",
      "Name: Efforts, dtype: int64\n",
      "\n"
     ]
    }
   ],
   "source": [
    "check(hype)"
   ]
  },
  {
   "cell_type": "markdown",
   "metadata": {},
   "source": [
    "**Промежуточный вывод:**\n",
    "- Пропуски и дубликаты отсутствуют. \n",
    "- Данные не нуждаются в предобратке и готовы к анализу."
   ]
  },
  {
   "cell_type": "markdown",
   "metadata": {},
   "source": [
    "### Данные с A/B тестом"
   ]
  },
  {
   "cell_type": "markdown",
   "metadata": {},
   "source": [
    "#### Orders"
   ]
  },
  {
   "cell_type": "code",
   "execution_count": 8,
   "metadata": {},
   "outputs": [
    {
     "data": {
      "text/html": [
       "<div>\n",
       "<style scoped>\n",
       "    .dataframe tbody tr th:only-of-type {\n",
       "        vertical-align: middle;\n",
       "    }\n",
       "\n",
       "    .dataframe tbody tr th {\n",
       "        vertical-align: top;\n",
       "    }\n",
       "\n",
       "    .dataframe thead th {\n",
       "        text-align: right;\n",
       "    }\n",
       "</style>\n",
       "<table border=\"1\" class=\"dataframe\">\n",
       "  <thead>\n",
       "    <tr style=\"text-align: right;\">\n",
       "      <th></th>\n",
       "      <th>transactionId</th>\n",
       "      <th>visitorId</th>\n",
       "      <th>date</th>\n",
       "      <th>revenue</th>\n",
       "      <th>group</th>\n",
       "    </tr>\n",
       "  </thead>\n",
       "  <tbody>\n",
       "    <tr>\n",
       "      <th>0</th>\n",
       "      <td>3667963787</td>\n",
       "      <td>3312258926</td>\n",
       "      <td>2019-08-15</td>\n",
       "      <td>1650</td>\n",
       "      <td>B</td>\n",
       "    </tr>\n",
       "    <tr>\n",
       "      <th>1</th>\n",
       "      <td>2804400009</td>\n",
       "      <td>3642806036</td>\n",
       "      <td>2019-08-15</td>\n",
       "      <td>730</td>\n",
       "      <td>B</td>\n",
       "    </tr>\n",
       "    <tr>\n",
       "      <th>2</th>\n",
       "      <td>2961555356</td>\n",
       "      <td>4069496402</td>\n",
       "      <td>2019-08-15</td>\n",
       "      <td>400</td>\n",
       "      <td>A</td>\n",
       "    </tr>\n",
       "    <tr>\n",
       "      <th>3</th>\n",
       "      <td>3797467345</td>\n",
       "      <td>1196621759</td>\n",
       "      <td>2019-08-15</td>\n",
       "      <td>9759</td>\n",
       "      <td>B</td>\n",
       "    </tr>\n",
       "    <tr>\n",
       "      <th>4</th>\n",
       "      <td>2282983706</td>\n",
       "      <td>2322279887</td>\n",
       "      <td>2019-08-15</td>\n",
       "      <td>2308</td>\n",
       "      <td>B</td>\n",
       "    </tr>\n",
       "  </tbody>\n",
       "</table>\n",
       "</div>"
      ],
      "text/plain": [
       "   transactionId   visitorId        date  revenue group\n",
       "0     3667963787  3312258926  2019-08-15     1650     B\n",
       "1     2804400009  3642806036  2019-08-15      730     B\n",
       "2     2961555356  4069496402  2019-08-15      400     A\n",
       "3     3797467345  1196621759  2019-08-15     9759     B\n",
       "4     2282983706  2322279887  2019-08-15     2308     B"
      ]
     },
     "execution_count": 8,
     "metadata": {},
     "output_type": "execute_result"
    }
   ],
   "source": [
    "orders.head()"
   ]
  },
  {
   "cell_type": "code",
   "execution_count": 9,
   "metadata": {},
   "outputs": [
    {
     "name": "stdout",
     "output_type": "stream",
     "text": [
      "<class 'pandas.core.frame.DataFrame'>\n",
      "RangeIndex: 1197 entries, 0 to 1196\n",
      "Data columns (total 5 columns):\n",
      " #   Column         Non-Null Count  Dtype \n",
      "---  ------         --------------  ----- \n",
      " 0   transactionId  1197 non-null   int64 \n",
      " 1   visitorId      1197 non-null   int64 \n",
      " 2   date           1197 non-null   object\n",
      " 3   revenue        1197 non-null   int64 \n",
      " 4   group          1197 non-null   object\n",
      "dtypes: int64(3), object(2)\n",
      "memory usage: 46.9+ KB\n",
      "\n",
      "Индекс упорядочен: True\n",
      "Кол-во дубликатов - 0\n",
      "\n",
      "\u001b[1mКол-во пропусков:\u001b[0m\n",
      "transactionId    0\n",
      "visitorId        0\n",
      "date             0\n",
      "revenue          0\n",
      "group            0\n",
      "dtype: int64\n",
      "\n",
      "\u001b[1mПроцент пропусков:\u001b[0m\n",
      "transactionId    0.0\n",
      "visitorId        0.0\n",
      "date             0.0\n",
      "revenue          0.0\n",
      "group            0.0\n",
      "dtype: float64\n",
      "---------------------------\n",
      "\n",
      "\u001b[1mCтолбец\u001b[0m transactionId\n",
      "Кол-во уникальных значений - 1197\n",
      "Кол-во пропусков - 0\n",
      "Кол-во дубликатов - 0\n",
      "\n",
      "1658608862    1\n",
      "2211880073    1\n",
      "3913205113    1\n",
      "437656952     1\n",
      "3592105335    1\n",
      "Name: transactionId, dtype: int64\n",
      "\n",
      "\n",
      "\u001b[1mCтолбец\u001b[0m visitorId\n",
      "Кол-во уникальных значений - 1031\n",
      "Кол-во пропусков - 0\n",
      "Кол-во дубликатов - 166\n",
      "\n",
      "4256040402    11\n",
      "2458001652    11\n",
      "2378935119     9\n",
      "2038680547     8\n",
      "199603092      5\n",
      "Name: visitorId, dtype: int64\n",
      "\n",
      "\n",
      "\u001b[1mCтолбец\u001b[0m date\n",
      "Кол-во уникальных значений - 31\n",
      "Кол-во пропусков - 0\n",
      "Кол-во дубликатов - 1166\n",
      "\n",
      "2019-08-05    48\n",
      "2019-08-12    47\n",
      "2019-08-14    47\n",
      "2019-08-15    46\n",
      "2019-08-06    46\n",
      "Name: date, dtype: int64\n",
      "\n",
      "\n",
      "\u001b[1mCтолбец\u001b[0m revenue\n",
      "Кол-во уникальных значений - 713\n",
      "Кол-во пропусков - 0\n",
      "Кол-во дубликатов - 484\n",
      "\n",
      "990     17\n",
      "890     13\n",
      "390     13\n",
      "1190    10\n",
      "400     10\n",
      "Name: revenue, dtype: int64\n",
      "\n",
      "\n",
      "\u001b[1mCтолбец\u001b[0m group\n",
      "Кол-во уникальных значений - 2\n",
      "Кол-во пропусков - 0\n",
      "Кол-во дубликатов - 1195\n",
      "\n",
      "B    640\n",
      "A    557\n",
      "Name: group, dtype: int64\n",
      "\n"
     ]
    }
   ],
   "source": [
    "check(orders)"
   ]
  },
  {
   "cell_type": "markdown",
   "metadata": {},
   "source": [
    "**Промежуточные выводы:**\n",
    "- Пропуски дубликаты отсутствуют.\n",
    "- Заменить тип данных столбца date. \n",
    "- Переименовать столбцы: transactionId, visitorId на orderId, userId."
   ]
  },
  {
   "cell_type": "markdown",
   "metadata": {},
   "source": [
    "#### Visits"
   ]
  },
  {
   "cell_type": "code",
   "execution_count": 10,
   "metadata": {
    "scrolled": true
   },
   "outputs": [
    {
     "data": {
      "text/html": [
       "<div>\n",
       "<style scoped>\n",
       "    .dataframe tbody tr th:only-of-type {\n",
       "        vertical-align: middle;\n",
       "    }\n",
       "\n",
       "    .dataframe tbody tr th {\n",
       "        vertical-align: top;\n",
       "    }\n",
       "\n",
       "    .dataframe thead th {\n",
       "        text-align: right;\n",
       "    }\n",
       "</style>\n",
       "<table border=\"1\" class=\"dataframe\">\n",
       "  <thead>\n",
       "    <tr style=\"text-align: right;\">\n",
       "      <th></th>\n",
       "      <th>date</th>\n",
       "      <th>group</th>\n",
       "      <th>visitors</th>\n",
       "    </tr>\n",
       "  </thead>\n",
       "  <tbody>\n",
       "    <tr>\n",
       "      <th>0</th>\n",
       "      <td>2019-08-01</td>\n",
       "      <td>A</td>\n",
       "      <td>719</td>\n",
       "    </tr>\n",
       "    <tr>\n",
       "      <th>1</th>\n",
       "      <td>2019-08-02</td>\n",
       "      <td>A</td>\n",
       "      <td>619</td>\n",
       "    </tr>\n",
       "    <tr>\n",
       "      <th>2</th>\n",
       "      <td>2019-08-03</td>\n",
       "      <td>A</td>\n",
       "      <td>507</td>\n",
       "    </tr>\n",
       "    <tr>\n",
       "      <th>3</th>\n",
       "      <td>2019-08-04</td>\n",
       "      <td>A</td>\n",
       "      <td>717</td>\n",
       "    </tr>\n",
       "    <tr>\n",
       "      <th>4</th>\n",
       "      <td>2019-08-05</td>\n",
       "      <td>A</td>\n",
       "      <td>756</td>\n",
       "    </tr>\n",
       "  </tbody>\n",
       "</table>\n",
       "</div>"
      ],
      "text/plain": [
       "         date group  visitors\n",
       "0  2019-08-01     A       719\n",
       "1  2019-08-02     A       619\n",
       "2  2019-08-03     A       507\n",
       "3  2019-08-04     A       717\n",
       "4  2019-08-05     A       756"
      ]
     },
     "execution_count": 10,
     "metadata": {},
     "output_type": "execute_result"
    }
   ],
   "source": [
    "visits.head()"
   ]
  },
  {
   "cell_type": "code",
   "execution_count": 11,
   "metadata": {},
   "outputs": [
    {
     "name": "stdout",
     "output_type": "stream",
     "text": [
      "<class 'pandas.core.frame.DataFrame'>\n",
      "RangeIndex: 62 entries, 0 to 61\n",
      "Data columns (total 3 columns):\n",
      " #   Column    Non-Null Count  Dtype \n",
      "---  ------    --------------  ----- \n",
      " 0   date      62 non-null     object\n",
      " 1   group     62 non-null     object\n",
      " 2   visitors  62 non-null     int64 \n",
      "dtypes: int64(1), object(2)\n",
      "memory usage: 1.6+ KB\n",
      "\n",
      "Индекс упорядочен: True\n",
      "Кол-во дубликатов - 0\n",
      "\n",
      "\u001b[1mКол-во пропусков:\u001b[0m\n",
      "date        0\n",
      "group       0\n",
      "visitors    0\n",
      "dtype: int64\n",
      "\n",
      "\u001b[1mПроцент пропусков:\u001b[0m\n",
      "date        0.0\n",
      "group       0.0\n",
      "visitors    0.0\n",
      "dtype: float64\n",
      "---------------------------\n",
      "\n",
      "\u001b[1mCтолбец\u001b[0m date\n",
      "Кол-во уникальных значений - 31\n",
      "Кол-во пропусков - 0\n",
      "Кол-во дубликатов - 31\n",
      "\n",
      "2019-08-15    2\n",
      "2019-08-31    2\n",
      "2019-08-01    2\n",
      "2019-08-08    2\n",
      "2019-08-04    2\n",
      "Name: date, dtype: int64\n",
      "\n",
      "\n",
      "\u001b[1mCтолбец\u001b[0m group\n",
      "Кол-во уникальных значений - 2\n",
      "Кол-во пропусков - 0\n",
      "Кол-во дубликатов - 60\n",
      "\n",
      "B    31\n",
      "A    31\n",
      "Name: group, dtype: int64\n",
      "\n",
      "\n",
      "\u001b[1mCтолбец\u001b[0m visitors\n",
      "Кол-во уникальных значений - 58\n",
      "Кол-во пропусков - 0\n",
      "Кол-во дубликатов - 4\n",
      "\n",
      "610    2\n",
      "718    2\n",
      "654    2\n",
      "490    2\n",
      "609    1\n",
      "Name: visitors, dtype: int64\n",
      "\n"
     ]
    }
   ],
   "source": [
    "check(visits)"
   ]
  },
  {
   "cell_type": "markdown",
   "metadata": {},
   "source": [
    "**Промежуточные выводы:**\n",
    "- Пропуски дубликаты отсутствуют.\n",
    "- Заменить тип данных столбца date. "
   ]
  },
  {
   "cell_type": "markdown",
   "metadata": {},
   "source": [
    "### Подготовка данных"
   ]
  },
  {
   "cell_type": "code",
   "execution_count": 12,
   "metadata": {},
   "outputs": [],
   "source": [
    "orders['date'] = orders['date'].map(lambda x: dt.datetime.strptime(x, '%Y-%m-%d'))\n",
    "visits['date'] = visits['date'].map(lambda x: dt.datetime.strptime(x, '%Y-%m-%d'))"
   ]
  },
  {
   "cell_type": "code",
   "execution_count": 13,
   "metadata": {},
   "outputs": [],
   "source": [
    "orders = orders.rename(columns = {'transactionId':'orderId', 'visitorId':'userId'})"
   ]
  },
  {
   "cell_type": "code",
   "execution_count": 14,
   "metadata": {},
   "outputs": [
    {
     "name": "stdout",
     "output_type": "stream",
     "text": [
      "<class 'pandas.core.frame.DataFrame'>\n",
      "RangeIndex: 62 entries, 0 to 61\n",
      "Data columns (total 3 columns):\n",
      " #   Column    Non-Null Count  Dtype         \n",
      "---  ------    --------------  -----         \n",
      " 0   date      62 non-null     datetime64[ns]\n",
      " 1   group     62 non-null     object        \n",
      " 2   visitors  62 non-null     int64         \n",
      "dtypes: datetime64[ns](1), int64(1), object(1)\n",
      "memory usage: 1.6+ KB\n"
     ]
    }
   ],
   "source": [
    "visits.info()"
   ]
  },
  {
   "cell_type": "code",
   "execution_count": 15,
   "metadata": {},
   "outputs": [
    {
     "name": "stdout",
     "output_type": "stream",
     "text": [
      "<class 'pandas.core.frame.DataFrame'>\n",
      "RangeIndex: 1197 entries, 0 to 1196\n",
      "Data columns (total 5 columns):\n",
      " #   Column   Non-Null Count  Dtype         \n",
      "---  ------   --------------  -----         \n",
      " 0   orderId  1197 non-null   int64         \n",
      " 1   userId   1197 non-null   int64         \n",
      " 2   date     1197 non-null   datetime64[ns]\n",
      " 3   revenue  1197 non-null   int64         \n",
      " 4   group    1197 non-null   object        \n",
      "dtypes: datetime64[ns](1), int64(3), object(1)\n",
      "memory usage: 46.9+ KB\n"
     ]
    }
   ],
   "source": [
    "orders.info()"
   ]
  },
  {
   "cell_type": "code",
   "execution_count": 16,
   "metadata": {},
   "outputs": [
    {
     "name": "stdout",
     "output_type": "stream",
     "text": [
      "Orders | Минимальная дата: 2019-08-01 00:00:00, Максимальная дата: 2019-08-31 00:00:00\n",
      "Visits | Минимальная дата: 2019-08-01 00:00:00, Максимальная дата: 2019-08-31 00:00:00\n"
     ]
    }
   ],
   "source": [
    "print('Orders | Минимальная дата: {}, Максимальная дата: {}'.format(orders['date'].min(), orders['date'].max()))\n",
    "print('Visits | Минимальная дата: {}, Максимальная дата: {}'.format(visits['date'].min(), visits['date'].max()))"
   ]
  },
  {
   "cell_type": "markdown",
   "metadata": {},
   "source": [
    "### Выводы"
   ]
  },
  {
   "cell_type": "markdown",
   "metadata": {},
   "source": [
    "Мы получили три таблицы с данными, в которых отсутствовали пропуски и дубликаты.\n",
    "Для решения поставленной задачи, в данных о заказах и визитах на сайт, заменили тип данных столбцов date и переименовали столбцы для удобства.\n",
    "Даты исследуемого периода: 2019-08-01 по 2019-08-31."
   ]
  },
  {
   "cell_type": "code",
   "execution_count": 17,
   "metadata": {},
   "outputs": [
    {
     "data": {
      "text/plain": [
       "group    58\n",
       "dtype: int64"
      ]
     },
     "execution_count": 17,
     "metadata": {},
     "output_type": "execute_result"
    }
   ],
   "source": [
    "users_AB = orders.pivot_table(index='userId', values='group', aggfunc='nunique')\n",
    "users_AB.reset_index()\n",
    "\n",
    "users_AB.query('group > 1').count()"
   ]
  },
  {
   "cell_type": "markdown",
   "metadata": {},
   "source": [
    "58 пользователей оказались в обоих группах А и В. Предпологаю, что их присутвие никак не скажется, на дальнешем исследовании."
   ]
  },
  {
   "cell_type": "markdown",
   "metadata": {},
   "source": [
    "## Часть 1. Приоритизация гипотез."
   ]
  },
  {
   "cell_type": "code",
   "execution_count": 18,
   "metadata": {},
   "outputs": [],
   "source": [
    "hype['ICE'] = (hype['Impact']*hype['Confidence']) / hype['Efforts']\n",
    "hype['RICE'] = (hype['Reach']*hype['Impact']*hype['Confidence']) / hype['Efforts']"
   ]
  },
  {
   "cell_type": "markdown",
   "metadata": {},
   "source": [
    "### ICE для приоритизации гипотез."
   ]
  },
  {
   "cell_type": "code",
   "execution_count": 19,
   "metadata": {},
   "outputs": [
    {
     "data": {
      "text/html": [
       "<div>\n",
       "<style scoped>\n",
       "    .dataframe tbody tr th:only-of-type {\n",
       "        vertical-align: middle;\n",
       "    }\n",
       "\n",
       "    .dataframe tbody tr th {\n",
       "        vertical-align: top;\n",
       "    }\n",
       "\n",
       "    .dataframe thead th {\n",
       "        text-align: right;\n",
       "    }\n",
       "</style>\n",
       "<table border=\"1\" class=\"dataframe\">\n",
       "  <thead>\n",
       "    <tr style=\"text-align: right;\">\n",
       "      <th></th>\n",
       "      <th>Hypothesis</th>\n",
       "      <th>Reach</th>\n",
       "      <th>Impact</th>\n",
       "      <th>Confidence</th>\n",
       "      <th>Efforts</th>\n",
       "      <th>ICE</th>\n",
       "      <th>RICE</th>\n",
       "    </tr>\n",
       "  </thead>\n",
       "  <tbody>\n",
       "    <tr>\n",
       "      <th>8</th>\n",
       "      <td>Запустить акцию, дающую скидку на товар в день...</td>\n",
       "      <td>1</td>\n",
       "      <td>9</td>\n",
       "      <td>9</td>\n",
       "      <td>5</td>\n",
       "      <td>16.200000</td>\n",
       "      <td>16.2</td>\n",
       "    </tr>\n",
       "    <tr>\n",
       "      <th>0</th>\n",
       "      <td>Добавить два новых канала привлечения трафика,...</td>\n",
       "      <td>3</td>\n",
       "      <td>10</td>\n",
       "      <td>8</td>\n",
       "      <td>6</td>\n",
       "      <td>13.333333</td>\n",
       "      <td>40.0</td>\n",
       "    </tr>\n",
       "    <tr>\n",
       "      <th>7</th>\n",
       "      <td>Добавить форму подписки на все основные страни...</td>\n",
       "      <td>10</td>\n",
       "      <td>7</td>\n",
       "      <td>8</td>\n",
       "      <td>5</td>\n",
       "      <td>11.200000</td>\n",
       "      <td>112.0</td>\n",
       "    </tr>\n",
       "    <tr>\n",
       "      <th>6</th>\n",
       "      <td>Показать на главной странице баннеры с актуаль...</td>\n",
       "      <td>5</td>\n",
       "      <td>3</td>\n",
       "      <td>8</td>\n",
       "      <td>3</td>\n",
       "      <td>8.000000</td>\n",
       "      <td>40.0</td>\n",
       "    </tr>\n",
       "    <tr>\n",
       "      <th>2</th>\n",
       "      <td>Добавить блоки рекомендаций товаров на сайт ин...</td>\n",
       "      <td>8</td>\n",
       "      <td>3</td>\n",
       "      <td>7</td>\n",
       "      <td>3</td>\n",
       "      <td>7.000000</td>\n",
       "      <td>56.0</td>\n",
       "    </tr>\n",
       "    <tr>\n",
       "      <th>1</th>\n",
       "      <td>Запустить собственную службу доставки, что сок...</td>\n",
       "      <td>2</td>\n",
       "      <td>5</td>\n",
       "      <td>4</td>\n",
       "      <td>10</td>\n",
       "      <td>2.000000</td>\n",
       "      <td>4.0</td>\n",
       "    </tr>\n",
       "    <tr>\n",
       "      <th>5</th>\n",
       "      <td>Добавить страницу отзывов клиентов о магазине,...</td>\n",
       "      <td>3</td>\n",
       "      <td>2</td>\n",
       "      <td>2</td>\n",
       "      <td>3</td>\n",
       "      <td>1.333333</td>\n",
       "      <td>4.0</td>\n",
       "    </tr>\n",
       "    <tr>\n",
       "      <th>3</th>\n",
       "      <td>Изменить структура категорий, что увеличит кон...</td>\n",
       "      <td>8</td>\n",
       "      <td>3</td>\n",
       "      <td>3</td>\n",
       "      <td>8</td>\n",
       "      <td>1.125000</td>\n",
       "      <td>9.0</td>\n",
       "    </tr>\n",
       "    <tr>\n",
       "      <th>4</th>\n",
       "      <td>Изменить цвет фона главной страницы, чтобы уве...</td>\n",
       "      <td>3</td>\n",
       "      <td>1</td>\n",
       "      <td>1</td>\n",
       "      <td>1</td>\n",
       "      <td>1.000000</td>\n",
       "      <td>3.0</td>\n",
       "    </tr>\n",
       "  </tbody>\n",
       "</table>\n",
       "</div>"
      ],
      "text/plain": [
       "                                          Hypothesis  Reach  Impact  \\\n",
       "8  Запустить акцию, дающую скидку на товар в день...      1       9   \n",
       "0  Добавить два новых канала привлечения трафика,...      3      10   \n",
       "7  Добавить форму подписки на все основные страни...     10       7   \n",
       "6  Показать на главной странице баннеры с актуаль...      5       3   \n",
       "2  Добавить блоки рекомендаций товаров на сайт ин...      8       3   \n",
       "1  Запустить собственную службу доставки, что сок...      2       5   \n",
       "5  Добавить страницу отзывов клиентов о магазине,...      3       2   \n",
       "3  Изменить структура категорий, что увеличит кон...      8       3   \n",
       "4  Изменить цвет фона главной страницы, чтобы уве...      3       1   \n",
       "\n",
       "   Confidence  Efforts        ICE   RICE  \n",
       "8           9        5  16.200000   16.2  \n",
       "0           8        6  13.333333   40.0  \n",
       "7           8        5  11.200000  112.0  \n",
       "6           8        3   8.000000   40.0  \n",
       "2           7        3   7.000000   56.0  \n",
       "1           4       10   2.000000    4.0  \n",
       "5           2        3   1.333333    4.0  \n",
       "3           3        8   1.125000    9.0  \n",
       "4           1        1   1.000000    3.0  "
      ]
     },
     "execution_count": 19,
     "metadata": {},
     "output_type": "execute_result"
    }
   ],
   "source": [
    "hype.sort_values(by='ICE', ascending=False)"
   ]
  },
  {
   "cell_type": "markdown",
   "metadata": {},
   "source": [
    "### RICE для приоритизации гипотез."
   ]
  },
  {
   "cell_type": "code",
   "execution_count": 20,
   "metadata": {},
   "outputs": [
    {
     "data": {
      "text/html": [
       "<div>\n",
       "<style scoped>\n",
       "    .dataframe tbody tr th:only-of-type {\n",
       "        vertical-align: middle;\n",
       "    }\n",
       "\n",
       "    .dataframe tbody tr th {\n",
       "        vertical-align: top;\n",
       "    }\n",
       "\n",
       "    .dataframe thead th {\n",
       "        text-align: right;\n",
       "    }\n",
       "</style>\n",
       "<table border=\"1\" class=\"dataframe\">\n",
       "  <thead>\n",
       "    <tr style=\"text-align: right;\">\n",
       "      <th></th>\n",
       "      <th>Hypothesis</th>\n",
       "      <th>Reach</th>\n",
       "      <th>Impact</th>\n",
       "      <th>Confidence</th>\n",
       "      <th>Efforts</th>\n",
       "      <th>ICE</th>\n",
       "      <th>RICE</th>\n",
       "    </tr>\n",
       "  </thead>\n",
       "  <tbody>\n",
       "    <tr>\n",
       "      <th>7</th>\n",
       "      <td>Добавить форму подписки на все основные страни...</td>\n",
       "      <td>10</td>\n",
       "      <td>7</td>\n",
       "      <td>8</td>\n",
       "      <td>5</td>\n",
       "      <td>11.200000</td>\n",
       "      <td>112.0</td>\n",
       "    </tr>\n",
       "    <tr>\n",
       "      <th>2</th>\n",
       "      <td>Добавить блоки рекомендаций товаров на сайт ин...</td>\n",
       "      <td>8</td>\n",
       "      <td>3</td>\n",
       "      <td>7</td>\n",
       "      <td>3</td>\n",
       "      <td>7.000000</td>\n",
       "      <td>56.0</td>\n",
       "    </tr>\n",
       "    <tr>\n",
       "      <th>0</th>\n",
       "      <td>Добавить два новых канала привлечения трафика,...</td>\n",
       "      <td>3</td>\n",
       "      <td>10</td>\n",
       "      <td>8</td>\n",
       "      <td>6</td>\n",
       "      <td>13.333333</td>\n",
       "      <td>40.0</td>\n",
       "    </tr>\n",
       "    <tr>\n",
       "      <th>6</th>\n",
       "      <td>Показать на главной странице баннеры с актуаль...</td>\n",
       "      <td>5</td>\n",
       "      <td>3</td>\n",
       "      <td>8</td>\n",
       "      <td>3</td>\n",
       "      <td>8.000000</td>\n",
       "      <td>40.0</td>\n",
       "    </tr>\n",
       "    <tr>\n",
       "      <th>8</th>\n",
       "      <td>Запустить акцию, дающую скидку на товар в день...</td>\n",
       "      <td>1</td>\n",
       "      <td>9</td>\n",
       "      <td>9</td>\n",
       "      <td>5</td>\n",
       "      <td>16.200000</td>\n",
       "      <td>16.2</td>\n",
       "    </tr>\n",
       "    <tr>\n",
       "      <th>3</th>\n",
       "      <td>Изменить структура категорий, что увеличит кон...</td>\n",
       "      <td>8</td>\n",
       "      <td>3</td>\n",
       "      <td>3</td>\n",
       "      <td>8</td>\n",
       "      <td>1.125000</td>\n",
       "      <td>9.0</td>\n",
       "    </tr>\n",
       "    <tr>\n",
       "      <th>1</th>\n",
       "      <td>Запустить собственную службу доставки, что сок...</td>\n",
       "      <td>2</td>\n",
       "      <td>5</td>\n",
       "      <td>4</td>\n",
       "      <td>10</td>\n",
       "      <td>2.000000</td>\n",
       "      <td>4.0</td>\n",
       "    </tr>\n",
       "    <tr>\n",
       "      <th>5</th>\n",
       "      <td>Добавить страницу отзывов клиентов о магазине,...</td>\n",
       "      <td>3</td>\n",
       "      <td>2</td>\n",
       "      <td>2</td>\n",
       "      <td>3</td>\n",
       "      <td>1.333333</td>\n",
       "      <td>4.0</td>\n",
       "    </tr>\n",
       "    <tr>\n",
       "      <th>4</th>\n",
       "      <td>Изменить цвет фона главной страницы, чтобы уве...</td>\n",
       "      <td>3</td>\n",
       "      <td>1</td>\n",
       "      <td>1</td>\n",
       "      <td>1</td>\n",
       "      <td>1.000000</td>\n",
       "      <td>3.0</td>\n",
       "    </tr>\n",
       "  </tbody>\n",
       "</table>\n",
       "</div>"
      ],
      "text/plain": [
       "                                          Hypothesis  Reach  Impact  \\\n",
       "7  Добавить форму подписки на все основные страни...     10       7   \n",
       "2  Добавить блоки рекомендаций товаров на сайт ин...      8       3   \n",
       "0  Добавить два новых канала привлечения трафика,...      3      10   \n",
       "6  Показать на главной странице баннеры с актуаль...      5       3   \n",
       "8  Запустить акцию, дающую скидку на товар в день...      1       9   \n",
       "3  Изменить структура категорий, что увеличит кон...      8       3   \n",
       "1  Запустить собственную службу доставки, что сок...      2       5   \n",
       "5  Добавить страницу отзывов клиентов о магазине,...      3       2   \n",
       "4  Изменить цвет фона главной страницы, чтобы уве...      3       1   \n",
       "\n",
       "   Confidence  Efforts        ICE   RICE  \n",
       "7           8        5  11.200000  112.0  \n",
       "2           7        3   7.000000   56.0  \n",
       "0           8        6  13.333333   40.0  \n",
       "6           8        3   8.000000   40.0  \n",
       "8           9        5  16.200000   16.2  \n",
       "3           3        8   1.125000    9.0  \n",
       "1           4       10   2.000000    4.0  \n",
       "5           2        3   1.333333    4.0  \n",
       "4           1        1   1.000000    3.0  "
      ]
     },
     "execution_count": 20,
     "metadata": {},
     "output_type": "execute_result"
    }
   ],
   "source": [
    "hype.sort_values(by='RICE', ascending=False)"
   ]
  },
  {
   "cell_type": "markdown",
   "metadata": {},
   "source": [
    "### Вывод"
   ]
  },
  {
   "cell_type": "markdown",
   "metadata": {},
   "source": [
    "Видим, как параметр Reach (охват) меняет приоритетность. Фреймворк RICE меняет тройку лидеров. Неизменным остались позиции гипотез 6 и 4. Предложить для теста гипотезу № 7. "
   ]
  },
  {
   "cell_type": "markdown",
   "metadata": {},
   "source": [
    "## Часть 2. Анализ A/B-теста"
   ]
  },
  {
   "cell_type": "markdown",
   "metadata": {},
   "source": [
    "### Постройте график кумулятивной выручки по группам. Сделайте выводы и предположения."
   ]
  },
  {
   "cell_type": "code",
   "execution_count": 21,
   "metadata": {},
   "outputs": [],
   "source": [
    "datesGroups = orders[['date', 'group']].drop_duplicates()"
   ]
  },
  {
   "cell_type": "code",
   "execution_count": 22,
   "metadata": {},
   "outputs": [],
   "source": [
    "# кумулятивные данные из orders\n",
    "ordersAggregated = datesGroups.apply(\n",
    "    lambda x: orders[np.logical_and(orders['date'] <= x['date'], \n",
    "                                    orders['group'] == x['group']\n",
    "        )\n",
    "    ].agg(\n",
    "        {'date': 'max','group': 'max','orderId': pd.Series.nunique,\n",
    "        'userId': pd.Series.nunique,'revenue': 'sum',}\n",
    "    ),\n",
    "    axis=1,\n",
    ").sort_values(by=['date', 'group'])\n",
    "\n",
    "# кумулятивные показатели из visits\n",
    "visitorsAggregated = datesGroups.apply(\n",
    "    lambda x: visits[\n",
    "        np.logical_and(\n",
    "            visits['date'] <= x['date'], visits['group'] == x['group']\n",
    "        )\n",
    "    ].agg({'date': 'max', 'group': 'max', 'visitors': 'sum'}),\n",
    "    axis=1,\n",
    ").sort_values(by=['date', 'group'])\n",
    "\n",
    "#объединяем данные\n",
    "cumulativeData = ordersAggregated.merge(\n",
    "    visitorsAggregated, left_on=['date', 'group'], right_on=['date', 'group'])\n",
    "\n",
    "cumulativeData.columns = ['date',   'group', 'orders', 'buyers', 'revenue', 'visitors',]\n",
    "\n",
    "cumulativeRevenueA = cumulativeData[cumulativeData['group'] == 'A']\n",
    "cumulativeRevenueB = cumulativeData[cumulativeData['group'] == 'B']"
   ]
  },
  {
   "cell_type": "code",
   "execution_count": 23,
   "metadata": {
    "scrolled": true
   },
   "outputs": [
    {
     "data": {
      "text/html": [
       "<div>\n",
       "<style scoped>\n",
       "    .dataframe tbody tr th:only-of-type {\n",
       "        vertical-align: middle;\n",
       "    }\n",
       "\n",
       "    .dataframe tbody tr th {\n",
       "        vertical-align: top;\n",
       "    }\n",
       "\n",
       "    .dataframe thead th {\n",
       "        text-align: right;\n",
       "    }\n",
       "</style>\n",
       "<table border=\"1\" class=\"dataframe\">\n",
       "  <thead>\n",
       "    <tr style=\"text-align: right;\">\n",
       "      <th></th>\n",
       "      <th>date</th>\n",
       "      <th>group</th>\n",
       "      <th>orders</th>\n",
       "      <th>buyers</th>\n",
       "      <th>revenue</th>\n",
       "      <th>visitors</th>\n",
       "    </tr>\n",
       "  </thead>\n",
       "  <tbody>\n",
       "    <tr>\n",
       "      <th>0</th>\n",
       "      <td>2019-08-01</td>\n",
       "      <td>A</td>\n",
       "      <td>24</td>\n",
       "      <td>20</td>\n",
       "      <td>148579</td>\n",
       "      <td>719</td>\n",
       "    </tr>\n",
       "    <tr>\n",
       "      <th>1</th>\n",
       "      <td>2019-08-01</td>\n",
       "      <td>B</td>\n",
       "      <td>21</td>\n",
       "      <td>20</td>\n",
       "      <td>101217</td>\n",
       "      <td>713</td>\n",
       "    </tr>\n",
       "    <tr>\n",
       "      <th>2</th>\n",
       "      <td>2019-08-02</td>\n",
       "      <td>A</td>\n",
       "      <td>44</td>\n",
       "      <td>38</td>\n",
       "      <td>242401</td>\n",
       "      <td>1338</td>\n",
       "    </tr>\n",
       "    <tr>\n",
       "      <th>3</th>\n",
       "      <td>2019-08-02</td>\n",
       "      <td>B</td>\n",
       "      <td>45</td>\n",
       "      <td>43</td>\n",
       "      <td>266748</td>\n",
       "      <td>1294</td>\n",
       "    </tr>\n",
       "    <tr>\n",
       "      <th>4</th>\n",
       "      <td>2019-08-03</td>\n",
       "      <td>A</td>\n",
       "      <td>68</td>\n",
       "      <td>62</td>\n",
       "      <td>354874</td>\n",
       "      <td>1845</td>\n",
       "    </tr>\n",
       "  </tbody>\n",
       "</table>\n",
       "</div>"
      ],
      "text/plain": [
       "        date group  orders  buyers  revenue  visitors\n",
       "0 2019-08-01     A      24      20   148579       719\n",
       "1 2019-08-01     B      21      20   101217       713\n",
       "2 2019-08-02     A      44      38   242401      1338\n",
       "3 2019-08-02     B      45      43   266748      1294\n",
       "4 2019-08-03     A      68      62   354874      1845"
      ]
     },
     "execution_count": 23,
     "metadata": {},
     "output_type": "execute_result"
    }
   ],
   "source": [
    "cumulativeData.head()"
   ]
  },
  {
   "cell_type": "code",
   "execution_count": 24,
   "metadata": {},
   "outputs": [
    {
     "data": {
      "image/png": "[encoded data removed]",
      "text/plain": [
       "<Figure size 1440x720 with 1 Axes>"
      ]
     },
     "metadata": {},
     "output_type": "display_data"
    }
   ],
   "source": [
    "plt.figure(figsize=(20,10))\n",
    "plt.plot(cumulativeRevenueA['date'], cumulativeRevenueA['revenue'], label='A', marker='o')\n",
    "plt.plot(cumulativeRevenueB['date'], cumulativeRevenueB['revenue'], label='B', marker='v')\n",
    "plt.xlabel('Дата')\n",
    "plt.ylabel('Выручка')\n",
    "plt.title('График кумулятивной выручки по группам')\n",
    "plt.legend()\n",
    "plt.show()"
   ]
  },
  {
   "cell_type": "markdown",
   "metadata": {},
   "source": [
    "**Вывод:** Видим, что выручка в группе «В» с самого начала выше, чем в группе «А». Также, имеется сильный скачок по выручке в группе «В» после 17 августа, возможно, это связано с крупными заказами или на эти даты пришлось большое кол-во заказов."
   ]
  },
  {
   "cell_type": "markdown",
   "metadata": {},
   "source": [
    "### Постройте график кумулятивного среднего чека по группам. Сделайте выводы и предположения."
   ]
  },
  {
   "cell_type": "code",
   "execution_count": 25,
   "metadata": {},
   "outputs": [
    {
     "data": {
      "image/png": "[encoded data removed]",
      "text/plain": [
       "<Figure size 1440x720 with 1 Axes>"
      ]
     },
     "metadata": {},
     "output_type": "display_data"
    }
   ],
   "source": [
    "plt.figure(figsize=(20,10))\n",
    "plt.plot(cumulativeRevenueA['date'], cumulativeRevenueA['revenue']/ cumulativeRevenueA['orders'], label='A', marker='o')\n",
    "plt.plot(cumulativeRevenueB['date'], cumulativeRevenueB['revenue']/cumulativeRevenueB['orders'], label='B', marker='v')\n",
    "plt.xlabel('Дата')\n",
    "plt.ylabel('Средний чек')\n",
    "plt.title('График кумулятивного среднего чека по группам')\n",
    "plt.legend()\n",
    "plt.show()"
   ]
  },
  {
   "cell_type": "markdown",
   "metadata": {},
   "source": [
    "**Вывод:** Видим, схожесть с предыдущим графиком. Здесь видим даты вначале исследуемого периода, когда средний чек группа «А»  больше «В». Скачек группы «В» выглядит аномальным. Далее видим, как с 21 августа идет постоянное снижение в группе «В»."
   ]
  },
  {
   "cell_type": "markdown",
   "metadata": {},
   "source": [
    "### Постройте график относительного изменения кумулятивного среднего чека группы B к группе A. Сделайте выводы и предположения."
   ]
  },
  {
   "cell_type": "code",
   "execution_count": 26,
   "metadata": {},
   "outputs": [],
   "source": [
    "mergedCumulativeRevenue = cumulativeRevenueA.merge(\n",
    "    cumulativeRevenueB, left_on='date', right_on='date', how='left', suffixes=['A', 'B'])\n"
   ]
  },
  {
   "cell_type": "code",
   "execution_count": 27,
   "metadata": {},
   "outputs": [
    {
     "data": {
      "text/html": [
       "<div>\n",
       "<style scoped>\n",
       "    .dataframe tbody tr th:only-of-type {\n",
       "        vertical-align: middle;\n",
       "    }\n",
       "\n",
       "    .dataframe tbody tr th {\n",
       "        vertical-align: top;\n",
       "    }\n",
       "\n",
       "    .dataframe thead th {\n",
       "        text-align: right;\n",
       "    }\n",
       "</style>\n",
       "<table border=\"1\" class=\"dataframe\">\n",
       "  <thead>\n",
       "    <tr style=\"text-align: right;\">\n",
       "      <th></th>\n",
       "      <th>date</th>\n",
       "      <th>groupA</th>\n",
       "      <th>ordersA</th>\n",
       "      <th>buyersA</th>\n",
       "      <th>revenueA</th>\n",
       "      <th>visitorsA</th>\n",
       "      <th>groupB</th>\n",
       "      <th>ordersB</th>\n",
       "      <th>buyersB</th>\n",
       "      <th>revenueB</th>\n",
       "      <th>visitorsB</th>\n",
       "    </tr>\n",
       "  </thead>\n",
       "  <tbody>\n",
       "    <tr>\n",
       "      <th>0</th>\n",
       "      <td>2019-08-01</td>\n",
       "      <td>A</td>\n",
       "      <td>24</td>\n",
       "      <td>20</td>\n",
       "      <td>148579</td>\n",
       "      <td>719</td>\n",
       "      <td>B</td>\n",
       "      <td>21</td>\n",
       "      <td>20</td>\n",
       "      <td>101217</td>\n",
       "      <td>713</td>\n",
       "    </tr>\n",
       "    <tr>\n",
       "      <th>1</th>\n",
       "      <td>2019-08-02</td>\n",
       "      <td>A</td>\n",
       "      <td>44</td>\n",
       "      <td>38</td>\n",
       "      <td>242401</td>\n",
       "      <td>1338</td>\n",
       "      <td>B</td>\n",
       "      <td>45</td>\n",
       "      <td>43</td>\n",
       "      <td>266748</td>\n",
       "      <td>1294</td>\n",
       "    </tr>\n",
       "    <tr>\n",
       "      <th>2</th>\n",
       "      <td>2019-08-03</td>\n",
       "      <td>A</td>\n",
       "      <td>68</td>\n",
       "      <td>62</td>\n",
       "      <td>354874</td>\n",
       "      <td>1845</td>\n",
       "      <td>B</td>\n",
       "      <td>61</td>\n",
       "      <td>59</td>\n",
       "      <td>380996</td>\n",
       "      <td>1803</td>\n",
       "    </tr>\n",
       "    <tr>\n",
       "      <th>3</th>\n",
       "      <td>2019-08-04</td>\n",
       "      <td>A</td>\n",
       "      <td>84</td>\n",
       "      <td>77</td>\n",
       "      <td>425699</td>\n",
       "      <td>2562</td>\n",
       "      <td>B</td>\n",
       "      <td>78</td>\n",
       "      <td>75</td>\n",
       "      <td>489567</td>\n",
       "      <td>2573</td>\n",
       "    </tr>\n",
       "    <tr>\n",
       "      <th>4</th>\n",
       "      <td>2019-08-05</td>\n",
       "      <td>A</td>\n",
       "      <td>109</td>\n",
       "      <td>100</td>\n",
       "      <td>549917</td>\n",
       "      <td>3318</td>\n",
       "      <td>B</td>\n",
       "      <td>101</td>\n",
       "      <td>98</td>\n",
       "      <td>581995</td>\n",
       "      <td>3280</td>\n",
       "    </tr>\n",
       "  </tbody>\n",
       "</table>\n",
       "</div>"
      ],
      "text/plain": [
       "        date groupA  ordersA  buyersA  revenueA  visitorsA groupB  ordersB  \\\n",
       "0 2019-08-01      A       24       20    148579        719      B       21   \n",
       "1 2019-08-02      A       44       38    242401       1338      B       45   \n",
       "2 2019-08-03      A       68       62    354874       1845      B       61   \n",
       "3 2019-08-04      A       84       77    425699       2562      B       78   \n",
       "4 2019-08-05      A      109      100    549917       3318      B      101   \n",
       "\n",
       "   buyersB  revenueB  visitorsB  \n",
       "0       20    101217        713  \n",
       "1       43    266748       1294  \n",
       "2       59    380996       1803  \n",
       "3       75    489567       2573  \n",
       "4       98    581995       3280  "
      ]
     },
     "execution_count": 27,
     "metadata": {},
     "output_type": "execute_result"
    }
   ],
   "source": [
    "mergedCumulativeRevenue.head()"
   ]
  },
  {
   "cell_type": "code",
   "execution_count": 28,
   "metadata": {
    "scrolled": false
   },
   "outputs": [
    {
     "data": {
      "image/png": "[encoded data removed]",
      "text/plain": [
       "<Figure size 1440x720 with 1 Axes>"
      ]
     },
     "metadata": {},
     "output_type": "display_data"
    }
   ],
   "source": [
    "plt.figure(figsize=(20,10))\n",
    "plt.plot(mergedCumulativeRevenue['date'],(mergedCumulativeRevenue['revenueB']/mergedCumulativeRevenue['ordersB'])/(mergedCumulativeRevenue['revenueA']/mergedCumulativeRevenue['ordersA'])-1)\n",
    "plt.axhline(y=0, color='black', linestyle= '--')\n",
    "plt.xlabel('Дата')\n",
    "plt.title('График относительного изменения кумулятивного среднего чека группы B к группе A')\n",
    "plt.show()"
   ]
  },
  {
   "cell_type": "markdown",
   "metadata": {},
   "source": [
    "**Вывод:** Видим, что результаты теста имеют резкие колебания. Скорей всего, в промежутках резки скачков были совершены аномальные заказы."
   ]
  },
  {
   "cell_type": "markdown",
   "metadata": {},
   "source": [
    "### Постройте график кумулятивной конверсии по группам. Сделайте выводы и предположения."
   ]
  },
  {
   "cell_type": "code",
   "execution_count": 29,
   "metadata": {},
   "outputs": [],
   "source": [
    "cumulativeData['conversion'] = cumulativeData['orders'] / cumulativeData['visitors']\n",
    "\n",
    "cumulativeConversionA = cumulativeData[cumulativeData['group'] == 'A']\n",
    "cumulativeConversionB = cumulativeData[cumulativeData['group'] == 'B']"
   ]
  },
  {
   "cell_type": "code",
   "execution_count": 30,
   "metadata": {},
   "outputs": [
    {
     "data": {
      "image/png": "[encoded data removed]",
      "text/plain": [
       "<Figure size 1440x720 with 1 Axes>"
      ]
     },
     "metadata": {},
     "output_type": "display_data"
    }
   ],
   "source": [
    "plt.figure(figsize=(20,10))\n",
    "plt.plot(cumulativeConversionA['date'], cumulativeConversionA['conversion'], label='A', marker='o')\n",
    "plt.plot(cumulativeConversionB['date'], cumulativeConversionB['conversion'], label='B', marker='v')\n",
    "plt.xlabel('Дата')\n",
    "plt.ylabel('Конверсия')\n",
    "plt.title('График кумулятивной конверсии по группам')\n",
    "plt.legend()\n",
    "plt.show()"
   ]
  },
  {
   "cell_type": "markdown",
   "metadata": {},
   "source": [
    "**Вывод:** Видим, как с 1 по 5 число конверсия группы «А» больше. Группа «В» с 6 августа стабильно показывает большую конверсию. После 17 августа примерная конверсия группы «В» в районе 0.034, а группы «А» 0.030."
   ]
  },
  {
   "cell_type": "markdown",
   "metadata": {},
   "source": [
    "### Постройте график относительного изменения кумулятивной конверсии группы B к группе A. Сделайте выводы и предположения."
   ]
  },
  {
   "cell_type": "code",
   "execution_count": 31,
   "metadata": {},
   "outputs": [],
   "source": [
    "mergedCumulativeConversions = cumulativeConversionA[\n",
    "    ['date','conversion']].merge(cumulativeConversionB[\n",
    "    ['date','conversion']], left_on='date', right_on='date', \n",
    "                                 how='left', suffixes=['A', 'B'])"
   ]
  },
  {
   "cell_type": "code",
   "execution_count": 32,
   "metadata": {},
   "outputs": [
    {
     "data": {
      "image/png": "[encoded data removed]",
      "text/plain": [
       "<Figure size 1440x720 with 1 Axes>"
      ]
     },
     "metadata": {},
     "output_type": "display_data"
    }
   ],
   "source": [
    "plt.figure(figsize=(20,10))\n",
    "plt.title('График относительного изменения кумулятивной конверсии')\n",
    "plt.xlabel('Дата')\n",
    "plt.plot(mergedCumulativeConversions['date'], \n",
    "         mergedCumulativeConversions['conversionB']/ \n",
    "         mergedCumulativeConversions['conversionA']-1, \n",
    "         label=\"Относительный прирост конверсии группы B относительно группы A\")\n",
    "plt.axhline(y=0, color='yellow', linestyle='--')\n",
    "plt.axhline(y=0.1, color='red', linestyle='--')\n",
    "plt.axhline(y=0.2, color='grey', linestyle='--')\n",
    "plt.legend()\n",
    "plt.show()"
   ]
  },
  {
   "cell_type": "markdown",
   "metadata": {},
   "source": [
    "**Вывод:** Видим, что после 8 августа по окончание исследуемого периода прирост конверсии группы «В» не опускался ниже 10%, а с 14 августа по 17 августа был на уровне 20%."
   ]
  },
  {
   "cell_type": "markdown",
   "metadata": {},
   "source": [
    "### Постройте точечный график количества заказов по пользователям. Сделайте выводы и предположения."
   ]
  },
  {
   "cell_type": "code",
   "execution_count": 33,
   "metadata": {},
   "outputs": [],
   "source": [
    "ordersByUsers = (\n",
    "    orders.groupby('userId', as_index=False)\n",
    "    .agg({'orderId': pd.Series.nunique}))\n",
    "\n",
    "ordersByUsers.columns = ['userId', 'orders']"
   ]
  },
  {
   "cell_type": "code",
   "execution_count": 34,
   "metadata": {},
   "outputs": [
    {
     "name": "stdout",
     "output_type": "stream",
     "text": [
      "          userId  orders\n",
      "1023  4256040402      11\n",
      "591   2458001652      11\n",
      "569   2378935119       9\n",
      "487   2038680547       8\n",
      "44     199603092       5\n"
     ]
    }
   ],
   "source": [
    "print(ordersByUsers.sort_values(by='orders', ascending=False).head())"
   ]
  },
  {
   "cell_type": "code",
   "execution_count": 35,
   "metadata": {},
   "outputs": [
    {
     "data": {
      "image/png": "[encoded data removed]",
      "text/plain": [
       "<Figure size 1440x720 with 1 Axes>"
      ]
     },
     "metadata": {},
     "output_type": "display_data"
    }
   ],
   "source": [
    "x_values = pd.Series(range(0, len(ordersByUsers)))\n",
    "\n",
    "plt.figure(figsize=(20,10))\n",
    "plt.title('Точечный график количества заказов по пользователям')\n",
    "plt.xlabel('Кол-во пользователей')\n",
    "plt.ylabel('Кол-во заказов')\n",
    "plt.axhline(y=4, color='yellow', linestyle='--')\n",
    "plt.scatter(x_values, ordersByUsers['orders'])\n",
    "plt.show()"
   ]
  },
  {
   "cell_type": "code",
   "execution_count": 36,
   "metadata": {},
   "outputs": [
    {
     "data": {
      "image/png": "[encoded data removed]",
      "text/plain": [
       "<Figure size 1440x720 with 1 Axes>"
      ]
     },
     "metadata": {},
     "output_type": "display_data"
    }
   ],
   "source": [
    "plt.figure(figsize=(20,10))\n",
    "plt.title('График количества заказов по пользователям')\n",
    "plt.ylabel('Кол-во пользователей')\n",
    "plt.xlabel('Кол-во заказов')\n",
    "plt.hist(ordersByUsers['orders'])\n",
    "plt.show()"
   ]
  },
  {
   "cell_type": "markdown",
   "metadata": {},
   "source": [
    "**Вывод:** Большинство совершили 1 заказ. Видим, что по 2 заказа уже значительно меньше."
   ]
  },
  {
   "cell_type": "markdown",
   "metadata": {},
   "source": [
    "### Посчитайте 95-й и 99-й перцентили количества заказов на пользователя. Выберите границу для определения аномальных пользователей."
   ]
  },
  {
   "cell_type": "code",
   "execution_count": 37,
   "metadata": {},
   "outputs": [
    {
     "name": "stdout",
     "output_type": "stream",
     "text": [
      "[2. 4.]\n"
     ]
    }
   ],
   "source": [
    "print(np.percentile(ordersByUsers['orders'],[95,99]))"
   ]
  },
  {
   "cell_type": "code",
   "execution_count": 38,
   "metadata": {},
   "outputs": [
    {
     "name": "stdout",
     "output_type": "stream",
     "text": [
      "[2. 2. 3.]\n"
     ]
    }
   ],
   "source": [
    "print(np.percentile(ordersByUsers['orders'],[96,97,98]))"
   ]
  },
  {
   "cell_type": "markdown",
   "metadata": {},
   "source": [
    "**Вывод:** Видим, что не больше 3% пользователей совершают больше двух заказов и не более 1% —  больше 4-х. Установим 2 заказа, как границу аномалий."
   ]
  },
  {
   "cell_type": "markdown",
   "metadata": {},
   "source": [
    "### Постройте точечный график стоимостей заказов. Сделайте выводы и предположения."
   ]
  },
  {
   "cell_type": "code",
   "execution_count": 39,
   "metadata": {},
   "outputs": [
    {
     "data": {
      "image/png": "[encoded data removed]",
      "text/plain": [
       "<Figure size 1440x720 with 1 Axes>"
      ]
     },
     "metadata": {},
     "output_type": "display_data"
    }
   ],
   "source": [
    "x_values = pd.Series(range(0, len(orders['revenue'])))\n",
    "\n",
    "plt.figure(figsize=(20,10))\n",
    "plt.title('')\n",
    "plt.xlabel('')\n",
    "plt.ylabel('')\n",
    "plt.scatter(x_values, orders['revenue'])\n",
    "plt.axis([0, 1200, 0, 150000])\n",
    "plt.show()"
   ]
  },
  {
   "cell_type": "code",
   "execution_count": 40,
   "metadata": {},
   "outputs": [
    {
     "data": {
      "image/png": "[encoded data removed]",
      "text/plain": [
       "<Figure size 1440x720 with 1 Axes>"
      ]
     },
     "metadata": {},
     "output_type": "display_data"
    }
   ],
   "source": [
    "plt.figure(figsize=(20,10))\n",
    "plt.title('')\n",
    "plt.ylabel('')\n",
    "plt.xlabel('')\n",
    "plt.hist(orders['revenue'], range=(0, 80000))\n",
    "plt.show()"
   ]
  },
  {
   "cell_type": "markdown",
   "metadata": {},
   "source": [
    "**Вывод:** Видим, что большинство покупок приходится на сумму до 30 тыс."
   ]
  },
  {
   "cell_type": "markdown",
   "metadata": {},
   "source": [
    "### Посчитайте 95-й и 99-й перцентили стоимости заказов. Выберите границу для определения аномальных заказов."
   ]
  },
  {
   "cell_type": "code",
   "execution_count": 41,
   "metadata": {},
   "outputs": [
    {
     "name": "stdout",
     "output_type": "stream",
     "text": [
      "[28000.  58233.2]\n"
     ]
    }
   ],
   "source": [
    "print(np.percentile(orders['revenue'],[95,99]))"
   ]
  },
  {
   "cell_type": "code",
   "execution_count": 42,
   "metadata": {},
   "outputs": [
    {
     "name": "stdout",
     "output_type": "stream",
     "text": [
      "[31382.  35485.  44133.2]\n"
     ]
    }
   ],
   "source": [
    "print(np.percentile(orders['revenue'],[96,97,98]))"
   ]
  },
  {
   "cell_type": "markdown",
   "metadata": {},
   "source": [
    "**Вывод:** Видим, что всего лишь 5% покупок дороже 28 тыс. Только 1% от 58 тыс. Установим 28 тыс., как границу аномалий."
   ]
  },
  {
   "cell_type": "markdown",
   "metadata": {},
   "source": [
    "### Посчитайте статистическую значимость различий в конверсии между группами по «сырым» данным. Сделайте выводы и предположения."
   ]
  },
  {
   "cell_type": "markdown",
   "metadata": {},
   "source": [
    "- Так, как у нас независимые выборки применим статистический метод  — критерий Манна-Уитни, который позволит проверять гипотезы о совпадении распределений в выборках.\n",
    "- Подготовим данные и софрмулируем гипотезу."
   ]
  },
  {
   "cell_type": "code",
   "execution_count": 43,
   "metadata": {},
   "outputs": [],
   "source": [
    "visitorsADaily = visits[visits['group']=='A'][['date', 'visitors']]\n",
    "visitorsADaily.columns = ['date', 'visitorsPerDateA']\n",
    "\n",
    "visitorsACummulative = visitorsADaily.apply(lambda x: visitorsADaily[visitorsADaily['date'] <= x['date']]. \\\n",
    "                                            agg({'date' : 'max', 'visitorsPerDateA' : 'sum'}), axis=1)\n",
    "visitorsACummulative.columns = ['date', 'visitorsCummulativeA']\n",
    "\n",
    "visitorsBDaily = visits[visits['group']=='B'][['date', 'visitors']]\n",
    "visitorsBDaily.columns = ['date', 'visitorsPerDateB']\n",
    "\n",
    "visitorsBCummulative = visitorsBDaily.apply(lambda x: visitorsBDaily[visitorsBDaily['date'] <= x['date']]. \\\n",
    "                                            agg({'date' : 'max', 'visitorsPerDateB' : 'sum'}), axis=1)\n",
    "visitorsBCummulative.columns = ['date', 'visitorsCummulativeB']\n",
    "\n",
    "\n",
    "ordersADaily = orders[orders['group']=='A'][['date', 'orderId', 'userId', 'revenue']]\\\n",
    "    .groupby('date', as_index=False)\\\n",
    "    .agg({'orderId' : pd.Series.nunique, 'revenue' : 'sum'})\n",
    "ordersADaily.columns = ['date', 'ordersPerDateA', 'revenuePerDateA']\n",
    "\n",
    "ordersACummulative = ordersADaily.apply(\n",
    "    lambda x: \\\n",
    "        ordersADaily[ordersADaily['date'] <= x['date']]\\\n",
    "            .agg({\n",
    "                'date' : 'max',\n",
    "                'ordersPerDateA' : 'sum',\n",
    "                'revenuePerDateA' : 'sum'}), axis=1).sort_values(by=['date'])\n",
    "ordersACummulative.columns = ['date', 'ordersCummulativeA', 'revenueCummulativeA']\n",
    "\n",
    "ordersBDaily = orders[orders['group']=='B'][['date', 'orderId', 'userId', 'revenue']]\\\n",
    "    .groupby('date', as_index=False)\\\n",
    "    .agg({'orderId' : pd.Series.nunique, 'revenue' : 'sum'})\n",
    "ordersBDaily.columns = ['date', 'ordersPerDateB', 'revenuePerDateB']\n",
    "\n",
    "ordersBCummulative = ordersBDaily.apply(\n",
    "    lambda x: \\\n",
    "        ordersBDaily[ordersBDaily['date'] <= x['date']]\\\n",
    "            .agg({\n",
    "                'date' : 'max',\n",
    "                'ordersPerDateB' : 'sum',\n",
    "                'revenuePerDateB' : 'sum'}), axis=1).sort_values(by=['date'])\n",
    "ordersBCummulative.columns = ['date', 'ordersCummulativeB', 'revenueCummulativeB']"
   ]
  },
  {
   "cell_type": "code",
   "execution_count": 44,
   "metadata": {},
   "outputs": [
    {
     "data": {
      "text/html": [
       "<div>\n",
       "<style scoped>\n",
       "    .dataframe tbody tr th:only-of-type {\n",
       "        vertical-align: middle;\n",
       "    }\n",
       "\n",
       "    .dataframe tbody tr th {\n",
       "        vertical-align: top;\n",
       "    }\n",
       "\n",
       "    .dataframe thead th {\n",
       "        text-align: right;\n",
       "    }\n",
       "</style>\n",
       "<table border=\"1\" class=\"dataframe\">\n",
       "  <thead>\n",
       "    <tr style=\"text-align: right;\">\n",
       "      <th></th>\n",
       "      <th>date</th>\n",
       "      <th>ordersPerDateA</th>\n",
       "      <th>revenuePerDateA</th>\n",
       "      <th>ordersPerDateB</th>\n",
       "      <th>revenuePerDateB</th>\n",
       "      <th>ordersCummulativeA</th>\n",
       "      <th>revenueCummulativeA</th>\n",
       "      <th>ordersCummulativeB</th>\n",
       "      <th>revenueCummulativeB</th>\n",
       "      <th>visitorsPerDateA</th>\n",
       "      <th>visitorsPerDateB</th>\n",
       "      <th>visitorsCummulativeA</th>\n",
       "      <th>visitorsCummulativeB</th>\n",
       "    </tr>\n",
       "  </thead>\n",
       "  <tbody>\n",
       "    <tr>\n",
       "      <th>0</th>\n",
       "      <td>2019-08-01</td>\n",
       "      <td>24</td>\n",
       "      <td>148579</td>\n",
       "      <td>21</td>\n",
       "      <td>101217</td>\n",
       "      <td>24</td>\n",
       "      <td>148579</td>\n",
       "      <td>21</td>\n",
       "      <td>101217</td>\n",
       "      <td>719</td>\n",
       "      <td>713</td>\n",
       "      <td>719</td>\n",
       "      <td>713</td>\n",
       "    </tr>\n",
       "    <tr>\n",
       "      <th>1</th>\n",
       "      <td>2019-08-02</td>\n",
       "      <td>20</td>\n",
       "      <td>93822</td>\n",
       "      <td>24</td>\n",
       "      <td>165531</td>\n",
       "      <td>44</td>\n",
       "      <td>242401</td>\n",
       "      <td>45</td>\n",
       "      <td>266748</td>\n",
       "      <td>619</td>\n",
       "      <td>581</td>\n",
       "      <td>1338</td>\n",
       "      <td>1294</td>\n",
       "    </tr>\n",
       "    <tr>\n",
       "      <th>2</th>\n",
       "      <td>2019-08-03</td>\n",
       "      <td>24</td>\n",
       "      <td>112473</td>\n",
       "      <td>16</td>\n",
       "      <td>114248</td>\n",
       "      <td>68</td>\n",
       "      <td>354874</td>\n",
       "      <td>61</td>\n",
       "      <td>380996</td>\n",
       "      <td>507</td>\n",
       "      <td>509</td>\n",
       "      <td>1845</td>\n",
       "      <td>1803</td>\n",
       "    </tr>\n",
       "  </tbody>\n",
       "</table>\n",
       "</div>"
      ],
      "text/plain": [
       "        date  ordersPerDateA  revenuePerDateA  ordersPerDateB  \\\n",
       "0 2019-08-01              24           148579              21   \n",
       "1 2019-08-02              20            93822              24   \n",
       "2 2019-08-03              24           112473              16   \n",
       "\n",
       "   revenuePerDateB  ordersCummulativeA  revenueCummulativeA  \\\n",
       "0           101217                  24               148579   \n",
       "1           165531                  44               242401   \n",
       "2           114248                  68               354874   \n",
       "\n",
       "   ordersCummulativeB  revenueCummulativeB  visitorsPerDateA  \\\n",
       "0                  21               101217               719   \n",
       "1                  45               266748               619   \n",
       "2                  61               380996               507   \n",
       "\n",
       "   visitorsPerDateB  visitorsCummulativeA  visitorsCummulativeB  \n",
       "0               713                   719                   713  \n",
       "1               581                  1338                  1294  \n",
       "2               509                  1845                  1803  "
      ]
     },
     "execution_count": 44,
     "metadata": {},
     "output_type": "execute_result"
    }
   ],
   "source": [
    "data = ordersADaily.merge(ordersBDaily, left_on='date', right_on='date', how='left')\\\n",
    "    .merge(ordersACummulative, left_on='date', right_on='date', how='left')\\\n",
    "    .merge(ordersBCummulative, left_on='date', right_on='date', how='left')\\\n",
    "    .merge(visitorsADaily, left_on='date', right_on='date', how='left')\\\n",
    "    .merge(visitorsBDaily, left_on='date', right_on='date', how='left')\\\n",
    "    .merge(visitorsACummulative, left_on='date', right_on='date', how='left')\\\n",
    "    .merge(visitorsBCummulative, left_on='date', right_on='date', how='left')\n",
    "data.head(3)"
   ]
  },
  {
   "cell_type": "code",
   "execution_count": 45,
   "metadata": {},
   "outputs": [],
   "source": [
    "ordersByUsersA = (\n",
    "orders[orders['group'] == 'A'].groupby('userId', as_index=False)\n",
    ".agg({'orderId': pd.Series.nunique}))\n",
    "\n",
    "ordersByUsersA.columns = ['userId','orders']\n",
    "\n",
    "ordersByUsersB = (\n",
    "orders[orders['group'] == 'B'].groupby('userId', as_index=False)\n",
    ".agg({'orderId': pd.Series.nunique}))\n",
    "\n",
    "ordersByUsersB.columns = ['userId','orders']\n",
    "\n",
    "sampleA = pd.concat([ordersByUsersA['orders'],pd.Series(0, index=np.arange(data['visitorsPerDateA'].sum() - len(ordersByUsersA['orders'])), name='orders')],axis=0)\n",
    "\n",
    "sampleB = pd.concat([ordersByUsersB['orders'],pd.Series(0, index=np.arange(data['visitorsPerDateB'].sum() - len(ordersByUsersB['orders'])), name='orders')],axis=0)"
   ]
  },
  {
   "cell_type": "markdown",
   "metadata": {},
   "source": [
    "**Гипотеза**\n",
    "\n",
    "Нулевая гипотеза H₀: «Различий в конверсии между группами по «сырым» данным — нет!»\n",
    "\n",
    "Альтернативная гипотеза H₁: \"Различий в конверсии между группами по «сырым» данным — есть!».\n",
    "\n",
    "При получении ответа \"Отвергаем нулевую гипотезу» это будет означать, что данные различаются и скорей всего наше предположение неверно.\n",
    "\n",
    "При получении ответа \"Не получилось отвергнуть нулевую гипотезу\", это означать что предположение верно и конверсия между группами по «сырым» данным равна»."
   ]
  },
  {
   "cell_type": "code",
   "execution_count": 46,
   "metadata": {
    "scrolled": true
   },
   "outputs": [
    {
     "name": "stdout",
     "output_type": "stream",
     "text": [
      "Относительный прирост конверсии группы B к группе A: 0.138\n",
      "\n",
      "P-value: 0.017\n",
      "Отвергаем нулевую гипотезу: между группами конверсия разная\n",
      "Статистическая значимость — есть!\n"
     ]
    }
   ],
   "source": [
    "print('Относительный прирост конверсии группы B к группе A: {:.3f}'.format(\n",
    "    sampleB.mean()/sampleA.mean()-1))\n",
    "print()\n",
    "\n",
    "alpha = 0.05\n",
    "results = stats.mannwhitneyu(sampleA, sampleB, alternative = 'two-sided')\n",
    "\n",
    "print('P-value: {:.3f}'.format(results.pvalue))\n",
    "if results.pvalue < alpha:\n",
    "    print('Отвергаем нулевую гипотезу: между группами конверсия разная')\n",
    "    print('Статистическая значимость — есть!')\n",
    "else:\n",
    "    print('Не получилось отвергнуть нулевую гипотезу, между группами конверсия равна!')\n",
    "    print('Статистической значимости — нет!')"
   ]
  },
  {
   "cell_type": "markdown",
   "metadata": {},
   "source": [
    "### Посчитайте статистическую значимость различий в среднем чеке заказа между группами по «сырым» данным. Сделайте выводы и предположения."
   ]
  },
  {
   "cell_type": "markdown",
   "metadata": {},
   "source": [
    "**Гипотеза**\n",
    "\n",
    "Нулевая гипотеза H₀: «Различий в среднем чеке между группами по «сырым» данным — нет!»\n",
    "\n",
    "Альтернативная гипотеза H₁: \"Различия в среднем чеке между группами по «сырым» данным — есть!».\n",
    "\n",
    "При получении ответа \"Отвергаем нулевую гипотезу» это будет означать, что данные различаются и скорей всего наше предположение неверно.\n",
    "\n",
    "При получении ответа \"Не получилось отвергнуть нулевую гипотезу\", это означать что предположение верно и средние чеки между группами по «сырым» данным равны»."
   ]
  },
  {
   "cell_type": "code",
   "execution_count": 47,
   "metadata": {},
   "outputs": [],
   "source": [
    "orders_sample_A = orders[orders['group']=='A']['revenue']\n",
    "orders_sample_B = orders[orders['group']=='B']['revenue']"
   ]
  },
  {
   "cell_type": "code",
   "execution_count": 48,
   "metadata": {
    "scrolled": true
   },
   "outputs": [
    {
     "name": "stdout",
     "output_type": "stream",
     "text": [
      "Относительное изменение среднего чека в группе B к группе A: 0.259\n",
      "\n",
      "P-value: 0.729\n",
      "Не получилось отвергнуть нулевую гипотезу: между группами средний чек равный!\n",
      "Статистической значимости — нет!\n"
     ]
    }
   ],
   "source": [
    "print('Относительное изменение среднего чека в группе B к группе A: {:.3f}'.format(\n",
    "orders_sample_B.mean()/orders_sample_A.mean()-1))\n",
    "\n",
    "print()\n",
    "results = stats.mannwhitneyu(orders_sample_A, orders_sample_B, alternative = 'two-sided')\n",
    "print('P-value: {:.3f}'.format(results.pvalue))\n",
    "if results.pvalue < alpha:\n",
    "    print('Отвергаем нулевую гипотезу: между группами средние чеки разные')\n",
    "    print('Статистическая значимость — есть!')\n",
    "else:\n",
    "    print('Не получилось отвергнуть нулевую гипотезу: между группами средний чек равный!')\n",
    "    print('Статистической значимости — нет!')"
   ]
  },
  {
   "cell_type": "markdown",
   "metadata": {},
   "source": [
    "### Посчитайте статистическую значимость различий в конверсии между группами по «очищенным» данным. Сделайте выводы и предположения."
   ]
  },
  {
   "cell_type": "code",
   "execution_count": 49,
   "metadata": {},
   "outputs": [
    {
     "name": "stdout",
     "output_type": "stream",
     "text": [
      "Аномалий: 74\n"
     ]
    }
   ],
   "source": [
    "usersWithManyOrders = pd.concat(\n",
    "    [ordersByUsersA[ordersByUsersA['orders'] > 2]['userId'],\n",
    "        ordersByUsersB[ordersByUsersB['orders'] > 2]['userId'],\n",
    "    ],axis=0,)\n",
    "\n",
    "usersWithExpensiveOrders = orders[orders['revenue'] > 28000]['userId']\n",
    "\n",
    "abnormalUsers = (\n",
    "    pd.concat([usersWithManyOrders, usersWithExpensiveOrders], axis=0).drop_duplicates().sort_values()\n",
    ")\n",
    "\n",
    "print('Аномалий:',len(abnormalUsers))"
   ]
  },
  {
   "cell_type": "code",
   "execution_count": 50,
   "metadata": {},
   "outputs": [
    {
     "name": "stdout",
     "output_type": "stream",
     "text": [
      "sampleAFiltered: 18690\n",
      "sampleBFiltered: 18869\n"
     ]
    }
   ],
   "source": [
    "sampleAFiltered = pd.concat(\n",
    "    [ordersByUsersA[np.logical_not(ordersByUsersA['userId'].isin(abnormalUsers))]['orders'],\n",
    "        pd.Series(0, index=np.arange(\n",
    "                data['visitorsPerDateA'].sum() - len(ordersByUsersA['orders'])\n",
    "            ),name='orders')],axis=0)\n",
    "\n",
    "sampleBFiltered = pd.concat(\n",
    "    [ordersByUsersB[np.logical_not(ordersByUsersB['userId'].isin(abnormalUsers))]['orders'],\n",
    "        pd.Series(0, index=np.arange(\n",
    "                data['visitorsPerDateB'].sum() - len(ordersByUsersB['orders'])\n",
    "            ),name='orders')],axis=0) \n",
    "\n",
    "print('sampleAFiltered:',len(sampleAFiltered))\n",
    "print('sampleBFiltered:',len(sampleBFiltered))"
   ]
  },
  {
   "cell_type": "markdown",
   "metadata": {},
   "source": [
    "**Гипотеза**\n",
    "\n",
    "Нулевая гипотеза H₀: «Различий в конверсии между группами по «очищенным» данным — нет!»\n",
    "\n",
    "Альтернативная гипотеза H₁: \"Различий в конверсии между группами по «очищенным» данным — есть!».\n",
    "\n",
    "При получении ответа \"Отвергаем нулевую гипотезу» это будет означать, что данные различаются и скорей всего наше предположение неверно.\n",
    "\n",
    "При получении ответа \"Не получилось отвергнуть нулевую гипотезу\", это означать что предположение верно и конверсия между группами по «очищенными» данным равна»."
   ]
  },
  {
   "cell_type": "code",
   "execution_count": 51,
   "metadata": {},
   "outputs": [
    {
     "name": "stdout",
     "output_type": "stream",
     "text": [
      "Относительное изменение конверсии в группе B к группе A: 0.173\n",
      "\n",
      "P-value: 0.013\n",
      "Отвергаем нулевую гипотезу: между группами конверсия разная\n",
      "Статистическая значимость — есть!\n"
     ]
    }
   ],
   "source": [
    "print('Относительное изменение конверсии в группе B к группе A: {:.3f}'.format(\n",
    "sampleBFiltered.mean()/sampleAFiltered.mean()-1))\n",
    "print()\n",
    "results = stats.mannwhitneyu(sampleAFiltered, sampleBFiltered, alternative = 'two-sided')\n",
    "print('P-value: {:.3f}'.format(results.pvalue))\n",
    "if results.pvalue < alpha:\n",
    "    print('Отвергаем нулевую гипотезу: между группами конверсия разная')\n",
    "    print('Статистическая значимость — есть!')\n",
    "else:\n",
    "    print('Не получилось отвергнуть нулевую гипотезу, между группами конверсия равна!')\n",
    "    print('Статистической значимости — нет!')"
   ]
  },
  {
   "cell_type": "markdown",
   "metadata": {},
   "source": [
    "### Посчитайте статистическую значимость различий в среднем чеке заказа между группами по «очищенным» данным. Сделайте выводы и предположения."
   ]
  },
  {
   "cell_type": "markdown",
   "metadata": {},
   "source": [
    "**Гипотеза**\n",
    "\n",
    "Нулевая гипотеза H₀: «Различий в среднем чеке между группами по «очищенным» данным — нет!»\n",
    "\n",
    "Альтернативная гипотеза H₁: \"Различия в среднем чеке между группами по «очищенным» данным — есть!».\n",
    "\n",
    "При получении ответа \"Отвергаем нулевую гипотезу» это будет означать, что данные различаются и скорей всего наше предположение неверно.\n",
    "\n",
    "При получении ответа \"Не получилось отвергнуть нулевую гипотезу\", это означать что предположение верно и средние чеки между группами по «очищенным» данным равны»."
   ]
  },
  {
   "cell_type": "code",
   "execution_count": 52,
   "metadata": {},
   "outputs": [],
   "source": [
    "sampleA_revenue = orders[np.logical_and(orders['group']=='A', np.logical_not(orders['userId'].isin(abnormalUsers)))]['revenue']\n",
    "sampleB_revenue = orders[np.logical_and(orders['group']=='B', np.logical_not(orders['userId'].isin(abnormalUsers)))]['revenue']"
   ]
  },
  {
   "cell_type": "code",
   "execution_count": 53,
   "metadata": {},
   "outputs": [
    {
     "name": "stdout",
     "output_type": "stream",
     "text": [
      "Относительное изменение среднего чека в группе B к группе A: 0.020\n",
      "\n",
      "P-value: 0.738\n",
      "Не получилось отвергнуть нулевую гипотезу: между группами средний чек равный!\n",
      "Статистической значимости — нет!\n"
     ]
    }
   ],
   "source": [
    "print('Относительное изменение среднего чека в группе B к группе A: {:.3f}'.format(\n",
    "sampleA_revenue.mean()/sampleB_revenue.mean()-1))\n",
    "print()\n",
    "results = stats.mannwhitneyu(sampleA_revenue, sampleB_revenue, alternative = 'two-sided')\n",
    "print('P-value: {:.3f}'.format(results.pvalue))\n",
    "if results.pvalue < alpha:\n",
    "    print('Отвергаем нулевую гипотезу: между группами средние чеки разные')\n",
    "    print('Статистическая значимость — есть!')\n",
    "else:\n",
    "    print('Не получилось отвергнуть нулевую гипотезу: между группами средний чек равный!')\n",
    "    print('Статистической значимости — нет!')"
   ]
  },
  {
   "cell_type": "markdown",
   "metadata": {},
   "source": [
    "### Вывод"
   ]
  },
  {
   "cell_type": "markdown",
   "metadata": {},
   "source": [
    "- Есть статистическая значимость различия по конверсии между группами и по «сырым», и по данным после фильтрации аномалий;\n",
    "- После очистки данных прирост конверсии примерно 17% в пользу В.\n",
    "- Нет статистически значимого различия по среднему чеку между группами ни по «сырым», ни по данным после фильтрации аномалий"
   ]
  },
  {
   "cell_type": "markdown",
   "metadata": {},
   "source": [
    "### Примите решение по результатам теста и объясните его. Варианты решений: 1. Остановить тест, зафиксировать победу одной из групп. 2. Остановить тест, зафиксировать отсутствие различий между группами. 3. Продолжить тест."
   ]
  },
  {
   "cell_type": "markdown",
   "metadata": {},
   "source": [
    "Исходя из обнаруженных фактов группа В победила, не смотря на то, что статистически значимого различия по среднему чеку между группами не удалось найти. Тест следует остановить и признать его успешным, и перейти к проверке следующей гипотезы под номером 7 (из первой части проекта)."
   ]
  }
 ],
 "metadata": {
  "ExecuteTimeLog": [
   {
    "duration": 448,
    "start_time": "2022-03-11T14:16:19.875Z"
   },
   {
    "duration": 1450,
    "start_time": "2022-03-11T14:16:21.357Z"
   },
   {
    "duration": 13,
    "start_time": "2022-03-11T14:16:23.807Z"
   },
   {
    "duration": 19,
    "start_time": "2022-03-11T14:16:30.067Z"
   },
   {
    "duration": 16,
    "start_time": "2022-03-11T14:16:45.789Z"
   },
   {
    "duration": 14,
    "start_time": "2022-03-11T14:16:55.264Z"
   },
   {
    "duration": 4,
    "start_time": "2022-03-11T14:17:04.528Z"
   },
   {
    "duration": 54,
    "start_time": "2022-03-11T14:17:15.754Z"
   },
   {
    "duration": 12,
    "start_time": "2022-03-11T14:22:03.203Z"
   },
   {
    "duration": 7,
    "start_time": "2022-03-11T14:23:26.087Z"
   },
   {
    "duration": 8,
    "start_time": "2022-03-11T14:25:48.559Z"
   },
   {
    "duration": 19,
    "start_time": "2022-03-11T14:25:49.384Z"
   },
   {
    "duration": 16,
    "start_time": "2022-03-11T14:25:51.718Z"
   },
   {
    "duration": 37,
    "start_time": "2022-03-11T14:41:29.016Z"
   },
   {
    "duration": 13,
    "start_time": "2022-03-11T14:46:12.336Z"
   },
   {
    "duration": 48,
    "start_time": "2022-03-11T14:46:12.498Z"
   },
   {
    "duration": 12,
    "start_time": "2022-03-11T14:50:14.140Z"
   },
   {
    "duration": 10,
    "start_time": "2022-03-11T14:50:25.003Z"
   },
   {
    "duration": 44,
    "start_time": "2022-03-11T14:50:37.716Z"
   },
   {
    "duration": 1086,
    "start_time": "2022-03-11T14:51:59.200Z"
   },
   {
    "duration": 311,
    "start_time": "2022-03-11T14:52:37.031Z"
   },
   {
    "duration": 32,
    "start_time": "2022-03-11T14:53:06.471Z"
   },
   {
    "duration": 1133,
    "start_time": "2022-03-12T13:28:14.162Z"
   },
   {
    "duration": 48,
    "start_time": "2022-03-12T13:28:15.296Z"
   },
   {
    "duration": 5,
    "start_time": "2022-03-12T13:28:15.346Z"
   },
   {
    "duration": 15,
    "start_time": "2022-03-12T13:28:15.353Z"
   },
   {
    "duration": 6,
    "start_time": "2022-03-12T13:28:15.369Z"
   },
   {
    "duration": 13,
    "start_time": "2022-03-12T13:28:15.377Z"
   },
   {
    "duration": 27,
    "start_time": "2022-03-12T13:28:15.391Z"
   },
   {
    "duration": 8,
    "start_time": "2022-03-12T13:28:15.848Z"
   },
   {
    "duration": 26,
    "start_time": "2022-03-12T13:28:15.982Z"
   },
   {
    "duration": 7,
    "start_time": "2022-03-12T13:28:16.436Z"
   },
   {
    "duration": 18,
    "start_time": "2022-03-12T13:28:16.588Z"
   },
   {
    "duration": 5,
    "start_time": "2022-03-12T13:28:17.066Z"
   },
   {
    "duration": 11,
    "start_time": "2022-03-12T13:28:17.378Z"
   },
   {
    "duration": 10,
    "start_time": "2022-03-12T13:28:17.700Z"
   },
   {
    "duration": 774,
    "start_time": "2022-03-12T13:41:06.023Z"
   },
   {
    "duration": 3,
    "start_time": "2022-03-12T13:41:26.237Z"
   },
   {
    "duration": 593,
    "start_time": "2022-03-12T13:41:35.090Z"
   },
   {
    "duration": 1089,
    "start_time": "2022-03-12T13:42:35.300Z"
   },
   {
    "duration": 137,
    "start_time": "2022-03-12T13:43:06.389Z"
   },
   {
    "duration": 14,
    "start_time": "2022-03-12T13:43:15.393Z"
   },
   {
    "duration": 7,
    "start_time": "2022-03-12T13:43:18.361Z"
   },
   {
    "duration": 15,
    "start_time": "2022-03-12T13:43:37.669Z"
   },
   {
    "duration": 7,
    "start_time": "2022-03-12T13:43:38.981Z"
   },
   {
    "duration": 1070,
    "start_time": "2022-03-12T13:44:11.394Z"
   },
   {
    "duration": 38,
    "start_time": "2022-03-12T13:44:12.466Z"
   },
   {
    "duration": 5,
    "start_time": "2022-03-12T13:44:12.506Z"
   },
   {
    "duration": 14,
    "start_time": "2022-03-12T13:44:12.513Z"
   },
   {
    "duration": 4,
    "start_time": "2022-03-12T13:44:12.529Z"
   },
   {
    "duration": 13,
    "start_time": "2022-03-12T13:44:12.535Z"
   },
   {
    "duration": 26,
    "start_time": "2022-03-12T13:44:12.550Z"
   },
   {
    "duration": 7,
    "start_time": "2022-03-12T13:44:13.061Z"
   },
   {
    "duration": 30,
    "start_time": "2022-03-12T13:44:13.210Z"
   },
   {
    "duration": 7,
    "start_time": "2022-03-12T13:44:13.679Z"
   },
   {
    "duration": 20,
    "start_time": "2022-03-12T13:44:13.831Z"
   },
   {
    "duration": 15,
    "start_time": "2022-03-12T13:44:14.341Z"
   },
   {
    "duration": 7,
    "start_time": "2022-03-12T13:44:14.485Z"
   },
   {
    "duration": 6,
    "start_time": "2022-03-12T13:44:24.493Z"
   },
   {
    "duration": 3,
    "start_time": "2022-03-12T13:45:39.265Z"
   },
   {
    "duration": 1084,
    "start_time": "2022-03-12T13:45:45.870Z"
   },
   {
    "duration": 48,
    "start_time": "2022-03-12T13:45:46.956Z"
   },
   {
    "duration": 5,
    "start_time": "2022-03-12T13:45:47.006Z"
   },
   {
    "duration": 13,
    "start_time": "2022-03-12T13:45:47.013Z"
   },
   {
    "duration": 5,
    "start_time": "2022-03-12T13:45:47.028Z"
   },
   {
    "duration": 16,
    "start_time": "2022-03-12T13:45:47.035Z"
   },
   {
    "duration": 29,
    "start_time": "2022-03-12T13:45:47.053Z"
   },
   {
    "duration": 8,
    "start_time": "2022-03-12T13:45:47.455Z"
   },
   {
    "duration": 28,
    "start_time": "2022-03-12T13:45:47.597Z"
   },
   {
    "duration": 7,
    "start_time": "2022-03-12T13:45:48.098Z"
   },
   {
    "duration": 19,
    "start_time": "2022-03-12T13:45:48.486Z"
   },
   {
    "duration": 14,
    "start_time": "2022-03-12T13:45:48.934Z"
   },
   {
    "duration": 6,
    "start_time": "2022-03-12T13:45:49.088Z"
   },
   {
    "duration": 7,
    "start_time": "2022-03-12T13:45:58.586Z"
   },
   {
    "duration": 1094,
    "start_time": "2022-03-12T13:46:19.977Z"
   },
   {
    "duration": 47,
    "start_time": "2022-03-12T13:46:21.073Z"
   },
   {
    "duration": 5,
    "start_time": "2022-03-12T13:46:21.123Z"
   },
   {
    "duration": 13,
    "start_time": "2022-03-12T13:46:21.131Z"
   },
   {
    "duration": 6,
    "start_time": "2022-03-12T13:46:21.146Z"
   },
   {
    "duration": 18,
    "start_time": "2022-03-12T13:46:21.154Z"
   },
   {
    "duration": 44,
    "start_time": "2022-03-12T13:46:21.174Z"
   },
   {
    "duration": 8,
    "start_time": "2022-03-12T13:46:21.595Z"
   },
   {
    "duration": 28,
    "start_time": "2022-03-12T13:46:21.855Z"
   },
   {
    "duration": 8,
    "start_time": "2022-03-12T13:46:22.441Z"
   },
   {
    "duration": 26,
    "start_time": "2022-03-12T13:46:22.593Z"
   },
   {
    "duration": 684,
    "start_time": "2022-03-12T13:46:23.061Z"
   },
   {
    "duration": -20,
    "start_time": "2022-03-12T13:46:23.767Z"
   },
   {
    "duration": 15,
    "start_time": "2022-03-12T13:49:32.080Z"
   },
   {
    "duration": 7,
    "start_time": "2022-03-12T13:49:33.865Z"
   },
   {
    "duration": 4,
    "start_time": "2022-03-12T13:49:49.100Z"
   },
   {
    "duration": 9,
    "start_time": "2022-03-12T13:50:21.243Z"
   },
   {
    "duration": 43,
    "start_time": "2022-03-12T13:50:57.625Z"
   },
   {
    "duration": 634,
    "start_time": "2022-03-12T13:51:02.072Z"
   },
   {
    "duration": 9,
    "start_time": "2022-03-12T13:51:02.982Z"
   },
   {
    "duration": 1116,
    "start_time": "2022-03-12T13:52:26.047Z"
   },
   {
    "duration": 44,
    "start_time": "2022-03-12T13:52:28.487Z"
   },
   {
    "duration": 5,
    "start_time": "2022-03-12T13:52:28.638Z"
   },
   {
    "duration": 9,
    "start_time": "2022-03-12T13:52:28.792Z"
   },
   {
    "duration": 3,
    "start_time": "2022-03-12T13:52:28.936Z"
   },
   {
    "duration": 11,
    "start_time": "2022-03-12T13:52:29.260Z"
   },
   {
    "duration": 27,
    "start_time": "2022-03-12T13:52:29.385Z"
   },
   {
    "duration": 8,
    "start_time": "2022-03-12T13:52:29.976Z"
   },
   {
    "duration": 32,
    "start_time": "2022-03-12T13:52:30.116Z"
   },
   {
    "duration": 7,
    "start_time": "2022-03-12T13:52:30.576Z"
   },
   {
    "duration": 19,
    "start_time": "2022-03-12T13:52:30.712Z"
   },
   {
    "duration": 790,
    "start_time": "2022-03-12T13:52:31.454Z"
   },
   {
    "duration": 1071,
    "start_time": "2022-03-12T13:52:58.491Z"
   },
   {
    "duration": 39,
    "start_time": "2022-03-12T13:52:59.563Z"
   },
   {
    "duration": 5,
    "start_time": "2022-03-12T13:52:59.604Z"
   },
   {
    "duration": 10,
    "start_time": "2022-03-12T13:52:59.611Z"
   },
   {
    "duration": 5,
    "start_time": "2022-03-12T13:52:59.623Z"
   },
   {
    "duration": 14,
    "start_time": "2022-03-12T13:52:59.629Z"
   },
   {
    "duration": 27,
    "start_time": "2022-03-12T13:52:59.645Z"
   },
   {
    "duration": 9,
    "start_time": "2022-03-12T13:53:00.001Z"
   },
   {
    "duration": 30,
    "start_time": "2022-03-12T13:53:00.389Z"
   },
   {
    "duration": 8,
    "start_time": "2022-03-12T13:53:01.611Z"
   },
   {
    "duration": 20,
    "start_time": "2022-03-12T13:53:01.770Z"
   },
   {
    "duration": 717,
    "start_time": "2022-03-12T13:53:11.343Z"
   },
   {
    "duration": 586,
    "start_time": "2022-03-12T13:53:28.630Z"
   },
   {
    "duration": 8,
    "start_time": "2022-03-12T13:53:29.502Z"
   },
   {
    "duration": 20,
    "start_time": "2022-03-12T13:54:56.052Z"
   },
   {
    "duration": 9,
    "start_time": "2022-03-12T13:54:58.466Z"
   },
   {
    "duration": 138,
    "start_time": "2022-03-12T13:55:04.482Z"
   },
   {
    "duration": 7,
    "start_time": "2022-03-12T13:55:09.806Z"
   },
   {
    "duration": 692,
    "start_time": "2022-03-12T13:55:37.945Z"
   },
   {
    "duration": 36,
    "start_time": "2022-03-12T13:56:06.676Z"
   },
   {
    "duration": 7,
    "start_time": "2022-03-12T13:56:09.145Z"
   },
   {
    "duration": 7,
    "start_time": "2022-03-12T13:56:19.994Z"
   },
   {
    "duration": 550,
    "start_time": "2022-03-12T13:56:44.158Z"
   },
   {
    "duration": 1106,
    "start_time": "2022-03-12T13:56:53.151Z"
   },
   {
    "duration": 48,
    "start_time": "2022-03-12T13:56:54.259Z"
   },
   {
    "duration": 5,
    "start_time": "2022-03-12T13:56:54.309Z"
   },
   {
    "duration": 16,
    "start_time": "2022-03-12T13:56:54.316Z"
   },
   {
    "duration": 6,
    "start_time": "2022-03-12T13:56:54.334Z"
   },
   {
    "duration": 15,
    "start_time": "2022-03-12T13:56:54.341Z"
   },
   {
    "duration": 31,
    "start_time": "2022-03-12T13:56:54.357Z"
   },
   {
    "duration": 10,
    "start_time": "2022-03-12T13:56:54.829Z"
   },
   {
    "duration": 30,
    "start_time": "2022-03-12T13:56:54.997Z"
   },
   {
    "duration": 7,
    "start_time": "2022-03-12T13:56:55.463Z"
   },
   {
    "duration": 20,
    "start_time": "2022-03-12T13:56:55.616Z"
   },
   {
    "duration": 675,
    "start_time": "2022-03-12T13:56:56.610Z"
   },
   {
    "duration": 6,
    "start_time": "2022-03-12T13:56:57.611Z"
   },
   {
    "duration": 13,
    "start_time": "2022-03-12T13:57:08.592Z"
   },
   {
    "duration": 8,
    "start_time": "2022-03-12T13:57:09.879Z"
   },
   {
    "duration": 5,
    "start_time": "2022-03-12T13:57:16.073Z"
   },
   {
    "duration": 7,
    "start_time": "2022-03-12T13:57:16.872Z"
   },
   {
    "duration": 1155,
    "start_time": "2022-03-12T13:57:37.420Z"
   },
   {
    "duration": 42,
    "start_time": "2022-03-12T13:57:38.578Z"
   },
   {
    "duration": 5,
    "start_time": "2022-03-12T13:57:38.623Z"
   },
   {
    "duration": 10,
    "start_time": "2022-03-12T13:57:38.630Z"
   },
   {
    "duration": 5,
    "start_time": "2022-03-12T13:57:38.642Z"
   },
   {
    "duration": 15,
    "start_time": "2022-03-12T13:57:38.649Z"
   },
   {
    "duration": 29,
    "start_time": "2022-03-12T13:57:38.666Z"
   },
   {
    "duration": 8,
    "start_time": "2022-03-12T13:57:39.098Z"
   },
   {
    "duration": 28,
    "start_time": "2022-03-12T13:57:39.262Z"
   },
   {
    "duration": 7,
    "start_time": "2022-03-12T13:57:39.746Z"
   },
   {
    "duration": 20,
    "start_time": "2022-03-12T13:57:40.164Z"
   },
   {
    "duration": 13,
    "start_time": "2022-03-12T13:57:41.178Z"
   },
   {
    "duration": 6,
    "start_time": "2022-03-12T13:57:42.361Z"
   },
   {
    "duration": 6,
    "start_time": "2022-03-12T13:57:44.546Z"
   },
   {
    "duration": 4,
    "start_time": "2022-03-12T13:58:19.911Z"
   },
   {
    "duration": 5,
    "start_time": "2022-03-12T14:00:23.555Z"
   },
   {
    "duration": 4,
    "start_time": "2022-03-12T14:00:55.810Z"
   },
   {
    "duration": 245,
    "start_time": "2022-03-12T14:01:00.598Z"
   },
   {
    "duration": 138,
    "start_time": "2022-03-12T14:01:09.628Z"
   },
   {
    "duration": 5,
    "start_time": "2022-03-12T14:02:38.158Z"
   },
   {
    "duration": 5,
    "start_time": "2022-03-12T14:03:56.418Z"
   },
   {
    "duration": 4,
    "start_time": "2022-03-12T14:07:28.267Z"
   },
   {
    "duration": 5,
    "start_time": "2022-03-12T14:07:37.936Z"
   },
   {
    "duration": 7,
    "start_time": "2022-03-12T14:08:04.735Z"
   },
   {
    "duration": 7,
    "start_time": "2022-03-12T14:08:23.038Z"
   },
   {
    "duration": 7,
    "start_time": "2022-03-12T14:12:08.833Z"
   },
   {
    "duration": 9,
    "start_time": "2022-03-12T14:12:09.475Z"
   },
   {
    "duration": 3743,
    "start_time": "2022-03-12T14:13:37.129Z"
   },
   {
    "duration": 5666,
    "start_time": "2022-03-12T14:14:06.805Z"
   },
   {
    "duration": 6,
    "start_time": "2022-03-12T14:15:46.616Z"
   },
   {
    "duration": 3783,
    "start_time": "2022-03-12T14:15:54.468Z"
   },
   {
    "duration": 5,
    "start_time": "2022-03-12T14:16:40.673Z"
   },
   {
    "duration": 3354,
    "start_time": "2022-03-12T14:16:44.013Z"
   },
   {
    "duration": 1017,
    "start_time": "2022-03-12T14:17:51.312Z"
   },
   {
    "duration": 50,
    "start_time": "2022-03-12T14:17:52.331Z"
   },
   {
    "duration": 6,
    "start_time": "2022-03-12T14:17:52.383Z"
   },
   {
    "duration": 212,
    "start_time": "2022-03-12T14:17:52.391Z"
   },
   {
    "duration": -10,
    "start_time": "2022-03-12T14:17:52.615Z"
   },
   {
    "duration": -11,
    "start_time": "2022-03-12T14:17:52.617Z"
   },
   {
    "duration": -12,
    "start_time": "2022-03-12T14:17:52.619Z"
   },
   {
    "duration": 11,
    "start_time": "2022-03-12T14:17:52.938Z"
   },
   {
    "duration": 29,
    "start_time": "2022-03-12T14:17:53.088Z"
   },
   {
    "duration": 8,
    "start_time": "2022-03-12T14:17:53.548Z"
   },
   {
    "duration": 21,
    "start_time": "2022-03-12T14:17:53.708Z"
   },
   {
    "duration": 14,
    "start_time": "2022-03-12T14:17:54.174Z"
   },
   {
    "duration": 4,
    "start_time": "2022-03-12T14:17:58.170Z"
   },
   {
    "duration": 6,
    "start_time": "2022-03-12T14:17:58.638Z"
   },
   {
    "duration": 7,
    "start_time": "2022-03-12T14:18:00.236Z"
   },
   {
    "duration": 6,
    "start_time": "2022-03-12T14:18:06.028Z"
   },
   {
    "duration": 5,
    "start_time": "2022-03-12T14:18:09.336Z"
   },
   {
    "duration": 12,
    "start_time": "2022-03-12T14:18:09.654Z"
   },
   {
    "duration": 11,
    "start_time": "2022-03-12T14:18:09.942Z"
   },
   {
    "duration": 7,
    "start_time": "2022-03-12T14:18:13.364Z"
   },
   {
    "duration": 199,
    "start_time": "2022-03-12T14:22:03.733Z"
   },
   {
    "duration": 9,
    "start_time": "2022-03-12T14:22:21.178Z"
   },
   {
    "duration": 1105,
    "start_time": "2022-03-12T14:23:27.110Z"
   },
   {
    "duration": 39,
    "start_time": "2022-03-12T14:23:28.217Z"
   },
   {
    "duration": 6,
    "start_time": "2022-03-12T14:23:28.295Z"
   },
   {
    "duration": 10,
    "start_time": "2022-03-12T14:23:28.446Z"
   },
   {
    "duration": 4,
    "start_time": "2022-03-12T14:23:28.600Z"
   },
   {
    "duration": 11,
    "start_time": "2022-03-12T14:23:30.813Z"
   },
   {
    "duration": 27,
    "start_time": "2022-03-12T14:23:31.626Z"
   },
   {
    "duration": 8,
    "start_time": "2022-03-12T14:23:32.492Z"
   },
   {
    "duration": 27,
    "start_time": "2022-03-12T14:23:32.644Z"
   },
   {
    "duration": 7,
    "start_time": "2022-03-12T14:23:33.081Z"
   },
   {
    "duration": 22,
    "start_time": "2022-03-12T14:23:33.243Z"
   },
   {
    "duration": 14,
    "start_time": "2022-03-12T14:23:33.666Z"
   },
   {
    "duration": 4,
    "start_time": "2022-03-12T14:23:33.821Z"
   },
   {
    "duration": 6,
    "start_time": "2022-03-12T14:23:33.985Z"
   },
   {
    "duration": 7,
    "start_time": "2022-03-12T14:23:34.121Z"
   },
   {
    "duration": 5,
    "start_time": "2022-03-12T14:23:34.270Z"
   },
   {
    "duration": 5,
    "start_time": "2022-03-12T14:23:34.879Z"
   },
   {
    "duration": 11,
    "start_time": "2022-03-12T14:23:35.170Z"
   },
   {
    "duration": 11,
    "start_time": "2022-03-12T14:23:35.473Z"
   },
   {
    "duration": 6,
    "start_time": "2022-03-12T14:23:36.236Z"
   },
   {
    "duration": 199,
    "start_time": "2022-03-12T14:23:36.384Z"
   },
   {
    "duration": 7,
    "start_time": "2022-03-12T14:23:36.585Z"
   },
   {
    "duration": 3,
    "start_time": "2022-03-13T10:40:36.429Z"
   },
   {
    "duration": 365,
    "start_time": "2022-03-13T11:38:11.071Z"
   },
   {
    "duration": 1153,
    "start_time": "2022-03-13T11:38:26.026Z"
   },
   {
    "duration": 45,
    "start_time": "2022-03-13T11:38:27.180Z"
   },
   {
    "duration": 12,
    "start_time": "2022-03-13T11:38:27.228Z"
   },
   {
    "duration": 28,
    "start_time": "2022-03-13T11:38:27.242Z"
   },
   {
    "duration": 11,
    "start_time": "2022-03-13T11:38:27.272Z"
   },
   {
    "duration": 26,
    "start_time": "2022-03-13T11:38:27.284Z"
   },
   {
    "duration": 38,
    "start_time": "2022-03-13T11:38:27.312Z"
   },
   {
    "duration": 7,
    "start_time": "2022-03-13T11:38:27.694Z"
   },
   {
    "duration": 29,
    "start_time": "2022-03-13T11:38:27.852Z"
   },
   {
    "duration": 8,
    "start_time": "2022-03-13T11:38:28.319Z"
   },
   {
    "duration": 20,
    "start_time": "2022-03-13T11:38:28.488Z"
   },
   {
    "duration": 16,
    "start_time": "2022-03-13T11:38:28.967Z"
   },
   {
    "duration": 4,
    "start_time": "2022-03-13T11:38:29.132Z"
   },
   {
    "duration": 7,
    "start_time": "2022-03-13T11:38:29.299Z"
   },
   {
    "duration": 6,
    "start_time": "2022-03-13T11:38:29.472Z"
   },
   {
    "duration": 5,
    "start_time": "2022-03-13T11:38:29.630Z"
   },
   {
    "duration": 6,
    "start_time": "2022-03-13T11:38:30.423Z"
   },
   {
    "duration": 12,
    "start_time": "2022-03-13T11:38:30.770Z"
   },
   {
    "duration": 12,
    "start_time": "2022-03-13T11:38:31.139Z"
   },
   {
    "duration": 6,
    "start_time": "2022-03-13T11:38:31.938Z"
   },
   {
    "duration": 212,
    "start_time": "2022-03-13T11:38:32.100Z"
   },
   {
    "duration": 8,
    "start_time": "2022-03-13T11:38:32.314Z"
   },
   {
    "duration": 490,
    "start_time": "2022-03-13T11:38:32.412Z"
   },
   {
    "duration": 7,
    "start_time": "2022-03-13T11:38:55.360Z"
   },
   {
    "duration": 386,
    "start_time": "2022-03-13T11:39:09.778Z"
   },
   {
    "duration": 159,
    "start_time": "2022-03-13T11:39:28.279Z"
   },
   {
    "duration": 8,
    "start_time": "2022-03-13T11:39:37.393Z"
   },
   {
    "duration": 6,
    "start_time": "2022-03-13T11:40:38.471Z"
   },
   {
    "duration": 9,
    "start_time": "2022-03-13T11:40:49.730Z"
   },
   {
    "duration": 1183,
    "start_time": "2022-03-13T11:44:16.053Z"
   },
   {
    "duration": 45,
    "start_time": "2022-03-13T11:44:17.237Z"
   },
   {
    "duration": 5,
    "start_time": "2022-03-13T11:44:17.284Z"
   },
   {
    "duration": 13,
    "start_time": "2022-03-13T11:44:17.291Z"
   },
   {
    "duration": 4,
    "start_time": "2022-03-13T11:44:17.306Z"
   },
   {
    "duration": 15,
    "start_time": "2022-03-13T11:44:17.311Z"
   },
   {
    "duration": 52,
    "start_time": "2022-03-13T11:44:17.327Z"
   },
   {
    "duration": 8,
    "start_time": "2022-03-13T11:44:17.707Z"
   },
   {
    "duration": 29,
    "start_time": "2022-03-13T11:44:17.879Z"
   },
   {
    "duration": 9,
    "start_time": "2022-03-13T11:44:18.335Z"
   },
   {
    "duration": 23,
    "start_time": "2022-03-13T11:44:18.495Z"
   },
   {
    "duration": 25,
    "start_time": "2022-03-13T11:44:18.954Z"
   },
   {
    "duration": 5,
    "start_time": "2022-03-13T11:44:19.117Z"
   },
   {
    "duration": 7,
    "start_time": "2022-03-13T11:44:19.285Z"
   },
   {
    "duration": 7,
    "start_time": "2022-03-13T11:44:19.441Z"
   },
   {
    "duration": 5,
    "start_time": "2022-03-13T11:44:19.615Z"
   },
   {
    "duration": 6,
    "start_time": "2022-03-13T11:44:20.249Z"
   },
   {
    "duration": 11,
    "start_time": "2022-03-13T11:44:20.570Z"
   },
   {
    "duration": 18,
    "start_time": "2022-03-13T11:44:20.955Z"
   },
   {
    "duration": 7,
    "start_time": "2022-03-13T11:44:22.402Z"
   },
   {
    "duration": 386,
    "start_time": "2022-03-13T11:44:22.967Z"
   },
   {
    "duration": 9,
    "start_time": "2022-03-13T11:44:24.141Z"
   },
   {
    "duration": 547,
    "start_time": "2022-03-13T11:45:02.688Z"
   },
   {
    "duration": 3,
    "start_time": "2022-03-13T11:45:14.910Z"
   },
   {
    "duration": 10,
    "start_time": "2022-03-13T11:45:18.668Z"
   },
   {
    "duration": 7,
    "start_time": "2022-03-13T11:51:37.816Z"
   },
   {
    "duration": 11,
    "start_time": "2022-03-13T11:51:47.022Z"
   },
   {
    "duration": 286,
    "start_time": "2022-03-13T11:53:39.290Z"
   },
   {
    "duration": 556,
    "start_time": "2022-03-13T11:55:08.630Z"
   },
   {
    "duration": 352,
    "start_time": "2022-03-13T11:55:29.804Z"
   },
   {
    "duration": 371,
    "start_time": "2022-03-13T11:55:41.493Z"
   },
   {
    "duration": 494,
    "start_time": "2022-03-13T11:55:52.831Z"
   },
   {
    "duration": 492,
    "start_time": "2022-03-13T11:56:10.232Z"
   },
   {
    "duration": 559,
    "start_time": "2022-03-13T11:56:37.622Z"
   },
   {
    "duration": 520,
    "start_time": "2022-03-13T11:56:49.348Z"
   },
   {
    "duration": 1130,
    "start_time": "2022-03-13T11:58:14.759Z"
   },
   {
    "duration": 36,
    "start_time": "2022-03-13T11:58:15.891Z"
   },
   {
    "duration": 9,
    "start_time": "2022-03-13T11:58:15.929Z"
   },
   {
    "duration": 29,
    "start_time": "2022-03-13T11:58:15.940Z"
   },
   {
    "duration": 34,
    "start_time": "2022-03-13T11:58:15.971Z"
   },
   {
    "duration": 32,
    "start_time": "2022-03-13T11:58:16.006Z"
   },
   {
    "duration": 40,
    "start_time": "2022-03-13T11:58:16.040Z"
   },
   {
    "duration": 8,
    "start_time": "2022-03-13T11:58:16.414Z"
   },
   {
    "duration": 28,
    "start_time": "2022-03-13T11:58:16.554Z"
   },
   {
    "duration": 7,
    "start_time": "2022-03-13T11:58:17.038Z"
   },
   {
    "duration": 22,
    "start_time": "2022-03-13T11:58:17.206Z"
   },
   {
    "duration": 14,
    "start_time": "2022-03-13T11:58:17.670Z"
   },
   {
    "duration": 4,
    "start_time": "2022-03-13T11:58:17.822Z"
   },
   {
    "duration": 7,
    "start_time": "2022-03-13T11:58:18.040Z"
   },
   {
    "duration": 6,
    "start_time": "2022-03-13T11:58:18.218Z"
   },
   {
    "duration": 5,
    "start_time": "2022-03-13T11:58:18.388Z"
   },
   {
    "duration": 6,
    "start_time": "2022-03-13T11:58:19.030Z"
   },
   {
    "duration": 12,
    "start_time": "2022-03-13T11:58:19.620Z"
   },
   {
    "duration": 11,
    "start_time": "2022-03-13T11:58:19.972Z"
   },
   {
    "duration": 6,
    "start_time": "2022-03-13T11:58:21.026Z"
   },
   {
    "duration": 365,
    "start_time": "2022-03-13T11:58:21.205Z"
   },
   {
    "duration": 10,
    "start_time": "2022-03-13T11:58:21.572Z"
   },
   {
    "duration": 528,
    "start_time": "2022-03-13T11:58:23.084Z"
   },
   {
    "duration": 572,
    "start_time": "2022-03-13T12:02:01.145Z"
   },
   {
    "duration": 526,
    "start_time": "2022-03-13T12:02:09.397Z"
   },
   {
    "duration": 311,
    "start_time": "2022-03-13T12:03:09.865Z"
   },
   {
    "duration": 670,
    "start_time": "2022-03-13T12:08:57.269Z"
   },
   {
    "duration": 569,
    "start_time": "2022-03-13T12:09:19.179Z"
   },
   {
    "duration": 547,
    "start_time": "2022-03-13T12:11:05.381Z"
   },
   {
    "duration": 72,
    "start_time": "2022-03-13T12:13:30.648Z"
   },
   {
    "duration": 466,
    "start_time": "2022-03-13T12:13:44.122Z"
   },
   {
    "duration": 8,
    "start_time": "2022-03-13T12:14:13.003Z"
   },
   {
    "duration": 603,
    "start_time": "2022-03-13T12:14:33.184Z"
   },
   {
    "duration": 611,
    "start_time": "2022-03-13T12:14:42.048Z"
   },
   {
    "duration": 575,
    "start_time": "2022-03-13T12:15:49.080Z"
   },
   {
    "duration": 13,
    "start_time": "2022-03-13T12:17:45.854Z"
   },
   {
    "duration": 7,
    "start_time": "2022-03-13T13:34:29.960Z"
   },
   {
    "duration": 508,
    "start_time": "2022-03-13T13:36:58.444Z"
   },
   {
    "duration": 10,
    "start_time": "2022-03-13T13:37:33.365Z"
   },
   {
    "duration": 8,
    "start_time": "2022-03-13T13:39:51.348Z"
   },
   {
    "duration": 8,
    "start_time": "2022-03-13T13:40:20.235Z"
   },
   {
    "duration": 11,
    "start_time": "2022-03-13T13:40:54.990Z"
   },
   {
    "duration": 571,
    "start_time": "2022-03-13T13:43:27.920Z"
   },
   {
    "duration": 602,
    "start_time": "2022-03-13T13:44:42.557Z"
   },
   {
    "duration": 614,
    "start_time": "2022-03-13T13:45:15.130Z"
   },
   {
    "duration": 566,
    "start_time": "2022-03-13T13:46:10.658Z"
   },
   {
    "duration": 505,
    "start_time": "2022-03-13T13:46:27.608Z"
   },
   {
    "duration": 552,
    "start_time": "2022-03-13T13:46:40.140Z"
   },
   {
    "duration": 622,
    "start_time": "2022-03-13T13:46:52.438Z"
   },
   {
    "duration": 395,
    "start_time": "2022-03-13T14:08:52.897Z"
   },
   {
    "duration": 587,
    "start_time": "2022-03-13T14:09:06.093Z"
   },
   {
    "duration": 648,
    "start_time": "2022-03-13T14:09:28.143Z"
   },
   {
    "duration": 668,
    "start_time": "2022-03-13T14:09:45.147Z"
   },
   {
    "duration": 560,
    "start_time": "2022-03-13T14:10:50.092Z"
   },
   {
    "duration": 655,
    "start_time": "2022-03-13T14:11:35.945Z"
   },
   {
    "duration": 613,
    "start_time": "2022-03-13T14:11:55.875Z"
   },
   {
    "duration": 565,
    "start_time": "2022-03-13T14:12:09.700Z"
   },
   {
    "duration": 585,
    "start_time": "2022-03-13T14:12:29.614Z"
   },
   {
    "duration": 577,
    "start_time": "2022-03-13T14:12:51.812Z"
   },
   {
    "duration": 578,
    "start_time": "2022-03-13T14:12:59.197Z"
   },
   {
    "duration": 721,
    "start_time": "2022-03-13T14:13:18.367Z"
   },
   {
    "duration": 616,
    "start_time": "2022-03-13T14:13:29.754Z"
   },
   {
    "duration": 595,
    "start_time": "2022-03-13T14:14:11.573Z"
   },
   {
    "duration": 238,
    "start_time": "2022-03-13T14:15:33.892Z"
   },
   {
    "duration": 246,
    "start_time": "2022-03-13T14:15:52.529Z"
   },
   {
    "duration": 10,
    "start_time": "2022-03-13T14:16:09.311Z"
   },
   {
    "duration": 135,
    "start_time": "2022-03-13T14:17:40.110Z"
   },
   {
    "duration": 6,
    "start_time": "2022-03-13T14:17:56.476Z"
   },
   {
    "duration": 107,
    "start_time": "2022-03-13T14:18:34.528Z"
   },
   {
    "duration": 6,
    "start_time": "2022-03-13T14:18:35.484Z"
   },
   {
    "duration": 6,
    "start_time": "2022-03-13T14:19:04.232Z"
   },
   {
    "duration": 408,
    "start_time": "2022-03-13T14:19:34.479Z"
   },
   {
    "duration": 596,
    "start_time": "2022-03-13T14:20:10.285Z"
   },
   {
    "duration": 573,
    "start_time": "2022-03-13T14:21:49.691Z"
   },
   {
    "duration": 613,
    "start_time": "2022-03-13T14:21:55.679Z"
   },
   {
    "duration": 471,
    "start_time": "2022-03-13T14:23:58.950Z"
   },
   {
    "duration": 472,
    "start_time": "2022-03-13T14:24:12.791Z"
   },
   {
    "duration": 578,
    "start_time": "2022-03-13T14:25:04.895Z"
   },
   {
    "duration": 481,
    "start_time": "2022-03-13T14:25:15.200Z"
   },
   {
    "duration": 610,
    "start_time": "2022-03-13T14:26:27.343Z"
   },
   {
    "duration": 6,
    "start_time": "2022-03-13T14:27:01.489Z"
   },
   {
    "duration": 6,
    "start_time": "2022-03-13T14:27:11.505Z"
   },
   {
    "duration": 6,
    "start_time": "2022-03-13T14:27:17.879Z"
   },
   {
    "duration": 595,
    "start_time": "2022-03-13T14:27:45.170Z"
   },
   {
    "duration": 78,
    "start_time": "2022-03-13T14:30:04.208Z"
   },
   {
    "duration": 4,
    "start_time": "2022-03-13T14:30:18.990Z"
   },
   {
    "duration": 11,
    "start_time": "2022-03-13T14:34:36.561Z"
   },
   {
    "duration": 14,
    "start_time": "2022-03-13T14:34:42.577Z"
   },
   {
    "duration": 615,
    "start_time": "2022-03-13T14:35:05.100Z"
   },
   {
    "duration": 746,
    "start_time": "2022-03-13T14:35:13.028Z"
   },
   {
    "duration": 507,
    "start_time": "2022-03-13T14:36:45.537Z"
   },
   {
    "duration": 503,
    "start_time": "2022-03-13T14:37:26.698Z"
   },
   {
    "duration": 516,
    "start_time": "2022-03-13T14:37:45.868Z"
   },
   {
    "duration": 490,
    "start_time": "2022-03-13T14:38:31.067Z"
   },
   {
    "duration": 477,
    "start_time": "2022-03-13T14:38:42.561Z"
   },
   {
    "duration": 476,
    "start_time": "2022-03-13T14:38:58.740Z"
   },
   {
    "duration": 553,
    "start_time": "2022-03-13T14:39:33.000Z"
   },
   {
    "duration": 1089,
    "start_time": "2022-03-14T09:57:36.312Z"
   },
   {
    "duration": 113,
    "start_time": "2022-03-14T09:57:37.403Z"
   },
   {
    "duration": 5,
    "start_time": "2022-03-14T09:57:37.518Z"
   },
   {
    "duration": 10,
    "start_time": "2022-03-14T09:57:37.525Z"
   },
   {
    "duration": 5,
    "start_time": "2022-03-14T09:57:37.537Z"
   },
   {
    "duration": 17,
    "start_time": "2022-03-14T09:57:37.543Z"
   },
   {
    "duration": 23,
    "start_time": "2022-03-14T09:57:37.561Z"
   },
   {
    "duration": 8,
    "start_time": "2022-03-14T09:57:38.100Z"
   },
   {
    "duration": 28,
    "start_time": "2022-03-14T09:57:38.258Z"
   },
   {
    "duration": 7,
    "start_time": "2022-03-14T09:57:38.769Z"
   },
   {
    "duration": 18,
    "start_time": "2022-03-14T09:57:38.922Z"
   },
   {
    "duration": 12,
    "start_time": "2022-03-14T09:57:39.410Z"
   },
   {
    "duration": 4,
    "start_time": "2022-03-14T09:57:39.578Z"
   },
   {
    "duration": 6,
    "start_time": "2022-03-14T09:57:39.746Z"
   },
   {
    "duration": 6,
    "start_time": "2022-03-14T09:57:39.920Z"
   },
   {
    "duration": 5,
    "start_time": "2022-03-14T09:57:40.084Z"
   },
   {
    "duration": 5,
    "start_time": "2022-03-14T09:57:40.742Z"
   },
   {
    "duration": 10,
    "start_time": "2022-03-14T09:57:41.076Z"
   },
   {
    "duration": 9,
    "start_time": "2022-03-14T09:57:41.416Z"
   },
   {
    "duration": 5,
    "start_time": "2022-03-14T09:57:42.258Z"
   },
   {
    "duration": 321,
    "start_time": "2022-03-14T09:57:42.428Z"
   },
   {
    "duration": 8,
    "start_time": "2022-03-14T09:57:42.750Z"
   },
   {
    "duration": 476,
    "start_time": "2022-03-14T09:57:42.762Z"
   },
   {
    "duration": 443,
    "start_time": "2022-03-14T09:57:43.280Z"
   },
   {
    "duration": 7,
    "start_time": "2022-03-14T09:57:43.815Z"
   },
   {
    "duration": 10,
    "start_time": "2022-03-14T09:57:43.994Z"
   },
   {
    "duration": 573,
    "start_time": "2022-03-14T09:57:44.170Z"
   },
   {
    "duration": 6,
    "start_time": "2022-03-14T09:57:44.745Z"
   },
   {
    "duration": 452,
    "start_time": "2022-03-14T09:57:44.840Z"
   },
   {
    "duration": 8,
    "start_time": "2022-03-14T09:57:45.315Z"
   },
   {
    "duration": 646,
    "start_time": "2022-03-14T09:57:45.481Z"
   },
   {
    "duration": 106,
    "start_time": "2022-03-14T09:57:46.129Z"
   },
   {
    "duration": 5,
    "start_time": "2022-03-14T09:57:46.237Z"
   },
   {
    "duration": 501,
    "start_time": "2022-03-14T09:57:46.243Z"
   },
   {
    "duration": 463,
    "start_time": "2022-03-14T09:57:46.746Z"
   },
   {
    "duration": 3,
    "start_time": "2022-03-14T09:57:47.211Z"
   },
   {
    "duration": 8,
    "start_time": "2022-03-14T09:57:47.582Z"
   },
   {
    "duration": 474,
    "start_time": "2022-03-14T09:57:47.746Z"
   },
   {
    "duration": 394,
    "start_time": "2022-03-14T09:57:48.221Z"
   },
   {
    "duration": 6362,
    "start_time": "2022-03-14T10:17:52.005Z"
   },
   {
    "duration": 4,
    "start_time": "2022-03-14T10:18:00.000Z"
   },
   {
    "duration": 5,
    "start_time": "2022-03-14T10:18:46.607Z"
   },
   {
    "duration": 5,
    "start_time": "2022-03-14T10:18:54.035Z"
   },
   {
    "duration": 545,
    "start_time": "2022-03-14T10:31:49.494Z"
   },
   {
    "duration": 4,
    "start_time": "2022-03-14T10:36:06.907Z"
   },
   {
    "duration": 4,
    "start_time": "2022-03-14T10:36:18.201Z"
   },
   {
    "duration": 717,
    "start_time": "2022-03-14T13:06:40.359Z"
   },
   {
    "duration": 5,
    "start_time": "2022-03-14T13:55:19.805Z"
   },
   {
    "duration": 4,
    "start_time": "2022-03-14T14:01:08.520Z"
   },
   {
    "duration": 103,
    "start_time": "2022-03-14T15:10:04.601Z"
   },
   {
    "duration": 547,
    "start_time": "2022-03-14T15:10:11.668Z"
   },
   {
    "duration": 520,
    "start_time": "2022-03-14T15:10:43.959Z"
   },
   {
    "duration": 525,
    "start_time": "2022-03-14T15:10:52.721Z"
   },
   {
    "duration": 1083,
    "start_time": "2022-03-15T14:38:28.071Z"
   },
   {
    "duration": 98,
    "start_time": "2022-03-15T14:38:29.156Z"
   },
   {
    "duration": 6,
    "start_time": "2022-03-15T14:38:29.256Z"
   },
   {
    "duration": 12,
    "start_time": "2022-03-15T14:38:29.264Z"
   },
   {
    "duration": 7,
    "start_time": "2022-03-15T14:38:29.277Z"
   },
   {
    "duration": 14,
    "start_time": "2022-03-15T14:38:29.285Z"
   },
   {
    "duration": 38,
    "start_time": "2022-03-15T14:38:29.300Z"
   },
   {
    "duration": 8,
    "start_time": "2022-03-15T14:38:29.775Z"
   },
   {
    "duration": 35,
    "start_time": "2022-03-15T14:38:29.931Z"
   },
   {
    "duration": 7,
    "start_time": "2022-03-15T14:38:30.404Z"
   },
   {
    "duration": 22,
    "start_time": "2022-03-15T14:38:30.558Z"
   },
   {
    "duration": 15,
    "start_time": "2022-03-15T14:38:31.084Z"
   },
   {
    "duration": 5,
    "start_time": "2022-03-15T14:38:31.216Z"
   },
   {
    "duration": 7,
    "start_time": "2022-03-15T14:38:31.383Z"
   },
   {
    "duration": 7,
    "start_time": "2022-03-15T14:38:31.538Z"
   },
   {
    "duration": 6,
    "start_time": "2022-03-15T14:38:31.696Z"
   },
   {
    "duration": 6,
    "start_time": "2022-03-15T14:38:32.357Z"
   },
   {
    "duration": 12,
    "start_time": "2022-03-15T14:38:32.672Z"
   },
   {
    "duration": 11,
    "start_time": "2022-03-15T14:38:32.993Z"
   },
   {
    "duration": 6,
    "start_time": "2022-03-15T14:38:33.788Z"
   },
   {
    "duration": 341,
    "start_time": "2022-03-15T14:38:33.941Z"
   },
   {
    "duration": 10,
    "start_time": "2022-03-15T14:38:34.284Z"
   },
   {
    "duration": 532,
    "start_time": "2022-03-15T14:38:34.296Z"
   },
   {
    "duration": 503,
    "start_time": "2022-03-15T14:38:34.830Z"
   },
   {
    "duration": 7,
    "start_time": "2022-03-15T14:38:35.334Z"
   },
   {
    "duration": 11,
    "start_time": "2022-03-15T14:38:35.367Z"
   },
   {
    "duration": 597,
    "start_time": "2022-03-15T14:38:35.540Z"
   },
   {
    "duration": 6,
    "start_time": "2022-03-15T14:38:36.139Z"
   },
   {
    "duration": 496,
    "start_time": "2022-03-15T14:38:36.167Z"
   },
   {
    "duration": 8,
    "start_time": "2022-03-15T14:38:36.681Z"
   },
   {
    "duration": 610,
    "start_time": "2022-03-15T14:38:36.834Z"
   },
   {
    "duration": 130,
    "start_time": "2022-03-15T14:38:37.446Z"
   },
   {
    "duration": 5,
    "start_time": "2022-03-15T14:38:37.578Z"
   },
   {
    "duration": 560,
    "start_time": "2022-03-15T14:38:37.652Z"
   },
   {
    "duration": 523,
    "start_time": "2022-03-15T14:38:38.214Z"
   },
   {
    "duration": 4,
    "start_time": "2022-03-15T14:38:38.739Z"
   },
   {
    "duration": 4,
    "start_time": "2022-03-15T14:38:39.592Z"
   },
   {
    "duration": 10,
    "start_time": "2022-03-15T14:38:40.498Z"
   },
   {
    "duration": 558,
    "start_time": "2022-03-15T14:38:40.654Z"
   },
   {
    "duration": 457,
    "start_time": "2022-03-15T14:38:41.214Z"
   },
   {
    "duration": 5,
    "start_time": "2022-03-15T14:38:41.754Z"
   },
   {
    "duration": 5,
    "start_time": "2022-03-15T14:38:42.443Z"
   },
   {
    "duration": 8,
    "start_time": "2022-03-15T14:44:35.786Z"
   },
   {
    "duration": 9,
    "start_time": "2022-03-15T15:02:58.339Z"
   },
   {
    "duration": 8,
    "start_time": "2022-03-15T15:03:08.684Z"
   },
   {
    "duration": 394,
    "start_time": "2022-03-15T15:13:35.650Z"
   },
   {
    "duration": 248,
    "start_time": "2022-03-15T15:14:02.644Z"
   },
   {
    "duration": 40,
    "start_time": "2022-03-15T15:14:41.565Z"
   },
   {
    "duration": 3508,
    "start_time": "2022-03-15T15:17:52.688Z"
   },
   {
    "duration": 3612,
    "start_time": "2022-03-15T15:18:12.848Z"
   },
   {
    "duration": 3353,
    "start_time": "2022-03-15T15:19:19.274Z"
   },
   {
    "duration": -216,
    "start_time": "2022-03-15T15:19:22.845Z"
   },
   {
    "duration": 3606,
    "start_time": "2022-03-15T15:19:25.329Z"
   },
   {
    "duration": 174,
    "start_time": "2022-03-15T15:20:04.443Z"
   },
   {
    "duration": 257,
    "start_time": "2022-03-15T15:20:52.493Z"
   },
   {
    "duration": 253,
    "start_time": "2022-03-15T15:21:11.586Z"
   },
   {
    "duration": 252,
    "start_time": "2022-03-15T15:21:42.293Z"
   },
   {
    "duration": 35,
    "start_time": "2022-03-15T15:22:00.254Z"
   },
   {
    "duration": 121,
    "start_time": "2022-03-15T15:23:44.926Z"
   },
   {
    "duration": 109,
    "start_time": "2022-03-15T15:24:12.923Z"
   },
   {
    "duration": 131,
    "start_time": "2022-03-15T15:24:17.843Z"
   },
   {
    "duration": 111,
    "start_time": "2022-03-15T15:25:58.783Z"
   },
   {
    "duration": 8,
    "start_time": "2022-03-15T15:28:50.512Z"
   },
   {
    "duration": 9,
    "start_time": "2022-03-15T15:29:32.453Z"
   },
   {
    "duration": 8,
    "start_time": "2022-03-15T15:34:35.391Z"
   },
   {
    "duration": 8,
    "start_time": "2022-03-15T15:34:49.675Z"
   },
   {
    "duration": 159,
    "start_time": "2022-03-15T15:41:15.063Z"
   },
   {
    "duration": 7,
    "start_time": "2022-03-15T15:41:17.498Z"
   },
   {
    "duration": 6,
    "start_time": "2022-03-15T15:41:18.660Z"
   },
   {
    "duration": 10,
    "start_time": "2022-03-15T15:52:41.665Z"
   },
   {
    "duration": 8,
    "start_time": "2022-03-15T15:53:51.719Z"
   },
   {
    "duration": 44,
    "start_time": "2022-03-15T15:54:29.087Z"
   },
   {
    "duration": 9,
    "start_time": "2022-03-15T15:54:35.993Z"
   },
   {
    "duration": 8,
    "start_time": "2022-03-15T15:54:46.090Z"
   },
   {
    "duration": 8,
    "start_time": "2022-03-15T15:55:17.930Z"
   },
   {
    "duration": 8,
    "start_time": "2022-03-15T15:58:12.602Z"
   },
   {
    "duration": 3877,
    "start_time": "2022-03-15T16:00:49.286Z"
   },
   {
    "duration": 12,
    "start_time": "2022-03-15T16:01:15.008Z"
   },
   {
    "duration": 7,
    "start_time": "2022-03-15T16:02:06.698Z"
   },
   {
    "duration": 1488,
    "start_time": "2022-03-16T10:39:49.881Z"
   },
   {
    "duration": 41,
    "start_time": "2022-03-16T10:39:51.372Z"
   },
   {
    "duration": 8,
    "start_time": "2022-03-16T10:39:51.416Z"
   },
   {
    "duration": 19,
    "start_time": "2022-03-16T10:39:51.427Z"
   },
   {
    "duration": 11,
    "start_time": "2022-03-16T10:39:51.448Z"
   },
   {
    "duration": 32,
    "start_time": "2022-03-16T10:39:51.462Z"
   },
   {
    "duration": 56,
    "start_time": "2022-03-16T10:39:51.496Z"
   },
   {
    "duration": 16,
    "start_time": "2022-03-16T10:39:51.556Z"
   },
   {
    "duration": 49,
    "start_time": "2022-03-16T10:39:51.678Z"
   },
   {
    "duration": 12,
    "start_time": "2022-03-16T10:39:52.146Z"
   },
   {
    "duration": 31,
    "start_time": "2022-03-16T10:39:52.275Z"
   },
   {
    "duration": 27,
    "start_time": "2022-03-16T10:39:52.749Z"
   },
   {
    "duration": 6,
    "start_time": "2022-03-16T10:39:52.904Z"
   },
   {
    "duration": 14,
    "start_time": "2022-03-16T10:39:53.058Z"
   },
   {
    "duration": 8,
    "start_time": "2022-03-16T10:39:53.230Z"
   },
   {
    "duration": 7,
    "start_time": "2022-03-16T10:39:53.347Z"
   },
   {
    "duration": 8,
    "start_time": "2022-03-16T10:39:53.993Z"
   },
   {
    "duration": 17,
    "start_time": "2022-03-16T10:39:54.321Z"
   },
   {
    "duration": 15,
    "start_time": "2022-03-16T10:39:54.797Z"
   },
   {
    "duration": 10,
    "start_time": "2022-03-16T10:39:55.574Z"
   },
   {
    "duration": 605,
    "start_time": "2022-03-16T10:39:55.730Z"
   },
   {
    "duration": 17,
    "start_time": "2022-03-16T10:39:56.338Z"
   },
   {
    "duration": 1075,
    "start_time": "2022-03-16T10:39:56.358Z"
   },
   {
    "duration": 878,
    "start_time": "2022-03-16T10:39:57.435Z"
   },
   {
    "duration": 9,
    "start_time": "2022-03-16T10:39:58.315Z"
   },
   {
    "duration": 42,
    "start_time": "2022-03-16T10:39:58.327Z"
   },
   {
    "duration": 904,
    "start_time": "2022-03-16T10:39:58.372Z"
   },
   {
    "duration": 8,
    "start_time": "2022-03-16T10:39:59.279Z"
   },
   {
    "duration": 908,
    "start_time": "2022-03-16T10:39:59.289Z"
   },
   {
    "duration": 11,
    "start_time": "2022-03-16T10:40:00.201Z"
   },
   {
    "duration": 985,
    "start_time": "2022-03-16T10:40:00.215Z"
   },
   {
    "duration": 262,
    "start_time": "2022-03-16T10:40:01.203Z"
   },
   {
    "duration": 9,
    "start_time": "2022-03-16T10:40:01.467Z"
   },
   {
    "duration": 880,
    "start_time": "2022-03-16T10:40:01.478Z"
   },
   {
    "duration": 849,
    "start_time": "2022-03-16T10:40:02.361Z"
   },
   {
    "duration": 6,
    "start_time": "2022-03-16T10:40:03.213Z"
   },
   {
    "duration": 32,
    "start_time": "2022-03-16T10:40:03.224Z"
   },
   {
    "duration": 27,
    "start_time": "2022-03-16T10:40:03.260Z"
   },
   {
    "duration": 1128,
    "start_time": "2022-03-16T10:40:03.290Z"
   },
   {
    "duration": 803,
    "start_time": "2022-03-16T10:40:04.420Z"
   },
   {
    "duration": 6,
    "start_time": "2022-03-16T10:40:05.226Z"
   },
   {
    "duration": 21,
    "start_time": "2022-03-16T10:40:05.234Z"
   },
   {
    "duration": 562,
    "start_time": "2022-03-16T10:40:05.258Z"
   },
   {
    "duration": 423,
    "start_time": "2022-03-16T10:40:05.823Z"
   },
   {
    "duration": -41,
    "start_time": "2022-03-16T10:40:06.291Z"
   },
   {
    "duration": -43,
    "start_time": "2022-03-16T10:40:06.295Z"
   },
   {
    "duration": -45,
    "start_time": "2022-03-16T10:40:06.299Z"
   },
   {
    "duration": -50,
    "start_time": "2022-03-16T10:40:06.305Z"
   },
   {
    "duration": 239,
    "start_time": "2022-03-16T10:40:08.545Z"
   },
   {
    "duration": -37,
    "start_time": "2022-03-16T10:40:08.824Z"
   },
   {
    "duration": 206,
    "start_time": "2022-03-16T10:40:08.876Z"
   },
   {
    "duration": 232,
    "start_time": "2022-03-16T10:40:09.181Z"
   },
   {
    "duration": -14,
    "start_time": "2022-03-16T10:40:09.430Z"
   },
   {
    "duration": 5,
    "start_time": "2022-03-16T10:40:52.110Z"
   },
   {
    "duration": 48,
    "start_time": "2022-03-16T10:40:52.253Z"
   },
   {
    "duration": 7,
    "start_time": "2022-03-16T10:40:52.397Z"
   },
   {
    "duration": 7,
    "start_time": "2022-03-16T10:40:52.559Z"
   },
   {
    "duration": 4,
    "start_time": "2022-03-16T10:40:52.718Z"
   },
   {
    "duration": 12,
    "start_time": "2022-03-16T10:40:53.013Z"
   },
   {
    "duration": 42,
    "start_time": "2022-03-16T10:40:53.170Z"
   },
   {
    "duration": 12,
    "start_time": "2022-03-16T10:40:53.791Z"
   },
   {
    "duration": 54,
    "start_time": "2022-03-16T10:40:53.950Z"
   },
   {
    "duration": 10,
    "start_time": "2022-03-16T10:40:54.412Z"
   },
   {
    "duration": 38,
    "start_time": "2022-03-16T10:40:54.570Z"
   },
   {
    "duration": 23,
    "start_time": "2022-03-16T10:40:55.024Z"
   },
   {
    "duration": 5,
    "start_time": "2022-03-16T10:40:55.182Z"
   },
   {
    "duration": 9,
    "start_time": "2022-03-16T10:40:55.348Z"
   },
   {
    "duration": 10,
    "start_time": "2022-03-16T10:40:55.511Z"
   },
   {
    "duration": 7,
    "start_time": "2022-03-16T10:40:55.667Z"
   },
   {
    "duration": 8,
    "start_time": "2022-03-16T10:40:56.300Z"
   },
   {
    "duration": 16,
    "start_time": "2022-03-16T10:40:56.618Z"
   },
   {
    "duration": 32,
    "start_time": "2022-03-16T10:40:56.944Z"
   },
   {
    "duration": 13,
    "start_time": "2022-03-16T10:40:57.763Z"
   },
   {
    "duration": 642,
    "start_time": "2022-03-16T10:40:57.937Z"
   },
   {
    "duration": 13,
    "start_time": "2022-03-16T10:40:58.582Z"
   },
   {
    "duration": 862,
    "start_time": "2022-03-16T10:40:58.598Z"
   },
   {
    "duration": 946,
    "start_time": "2022-03-16T10:40:59.464Z"
   },
   {
    "duration": 9,
    "start_time": "2022-03-16T10:41:00.413Z"
   },
   {
    "duration": 43,
    "start_time": "2022-03-16T10:41:00.425Z"
   },
   {
    "duration": 928,
    "start_time": "2022-03-16T10:41:00.471Z"
   },
   {
    "duration": 10,
    "start_time": "2022-03-16T10:41:01.402Z"
   },
   {
    "duration": 884,
    "start_time": "2022-03-16T10:41:01.415Z"
   },
   {
    "duration": 13,
    "start_time": "2022-03-16T10:41:02.303Z"
   },
   {
    "duration": 938,
    "start_time": "2022-03-16T10:41:02.319Z"
   },
   {
    "duration": 243,
    "start_time": "2022-03-16T10:41:03.260Z"
   },
   {
    "duration": 9,
    "start_time": "2022-03-16T10:41:03.506Z"
   },
   {
    "duration": 1100,
    "start_time": "2022-03-16T10:41:03.517Z"
   },
   {
    "duration": 806,
    "start_time": "2022-03-16T10:41:04.619Z"
   },
   {
    "duration": 5,
    "start_time": "2022-03-16T10:41:05.427Z"
   },
   {
    "duration": 8,
    "start_time": "2022-03-16T10:41:05.450Z"
   },
   {
    "duration": 14,
    "start_time": "2022-03-16T10:41:06.376Z"
   },
   {
    "duration": 953,
    "start_time": "2022-03-16T10:41:06.602Z"
   },
   {
    "duration": 780,
    "start_time": "2022-03-16T10:41:07.558Z"
   },
   {
    "duration": 10,
    "start_time": "2022-03-16T10:41:08.344Z"
   },
   {
    "duration": 6,
    "start_time": "2022-03-16T10:41:08.524Z"
   },
   {
    "duration": 444,
    "start_time": "2022-03-16T10:41:13.648Z"
   },
   {
    "duration": 84,
    "start_time": "2022-03-16T10:41:59.071Z"
   },
   {
    "duration": 290,
    "start_time": "2022-03-16T10:42:02.693Z"
   },
   {
    "duration": 14,
    "start_time": "2022-03-16T10:42:05.419Z"
   },
   {
    "duration": 8,
    "start_time": "2022-03-16T10:44:17.622Z"
   },
   {
    "duration": 9,
    "start_time": "2022-03-16T10:44:18.328Z"
   },
   {
    "duration": 17,
    "start_time": "2022-03-16T10:44:19.465Z"
   },
   {
    "duration": 13,
    "start_time": "2022-03-16T10:44:20.860Z"
   },
   {
    "duration": 10,
    "start_time": "2022-03-16T10:44:21.626Z"
   },
   {
    "duration": 14,
    "start_time": "2022-03-16T10:44:25.528Z"
   },
   {
    "duration": 10,
    "start_time": "2022-03-16T10:44:25.751Z"
   },
   {
    "duration": 5,
    "start_time": "2022-03-16T10:52:40.107Z"
   },
   {
    "duration": 40,
    "start_time": "2022-03-16T10:52:40.269Z"
   },
   {
    "duration": 8,
    "start_time": "2022-03-16T10:52:40.434Z"
   },
   {
    "duration": 6,
    "start_time": "2022-03-16T10:52:40.583Z"
   },
   {
    "duration": 4,
    "start_time": "2022-03-16T10:52:40.742Z"
   },
   {
    "duration": 12,
    "start_time": "2022-03-16T10:52:41.052Z"
   },
   {
    "duration": 45,
    "start_time": "2022-03-16T10:52:41.198Z"
   },
   {
    "duration": 1567,
    "start_time": "2022-03-16T10:52:47.748Z"
   },
   {
    "duration": 41,
    "start_time": "2022-03-16T10:52:49.318Z"
   },
   {
    "duration": 30,
    "start_time": "2022-03-16T10:52:49.363Z"
   },
   {
    "duration": 22,
    "start_time": "2022-03-16T10:52:49.396Z"
   },
   {
    "duration": 32,
    "start_time": "2022-03-16T10:52:49.420Z"
   },
   {
    "duration": 41,
    "start_time": "2022-03-16T10:52:49.455Z"
   },
   {
    "duration": 57,
    "start_time": "2022-03-16T10:52:49.499Z"
   },
   {
    "duration": 12,
    "start_time": "2022-03-16T10:52:49.560Z"
   },
   {
    "duration": 67,
    "start_time": "2022-03-16T10:52:49.575Z"
   },
   {
    "duration": 11,
    "start_time": "2022-03-16T10:52:50.068Z"
   },
   {
    "duration": 31,
    "start_time": "2022-03-16T10:52:50.189Z"
   },
   {
    "duration": 26,
    "start_time": "2022-03-16T10:52:50.665Z"
   },
   {
    "duration": 6,
    "start_time": "2022-03-16T10:52:50.798Z"
   },
   {
    "duration": 9,
    "start_time": "2022-03-16T10:52:50.959Z"
   },
   {
    "duration": 9,
    "start_time": "2022-03-16T10:52:51.104Z"
   },
   {
    "duration": 9,
    "start_time": "2022-03-16T10:52:51.252Z"
   },
   {
    "duration": 8,
    "start_time": "2022-03-16T10:52:51.882Z"
   },
   {
    "duration": 17,
    "start_time": "2022-03-16T10:52:52.196Z"
   },
   {
    "duration": 15,
    "start_time": "2022-03-16T10:52:52.503Z"
   },
   {
    "duration": 9,
    "start_time": "2022-03-16T10:52:53.282Z"
   },
   {
    "duration": 596,
    "start_time": "2022-03-16T10:52:53.443Z"
   },
   {
    "duration": 18,
    "start_time": "2022-03-16T10:52:54.042Z"
   },
   {
    "duration": 836,
    "start_time": "2022-03-16T10:52:54.062Z"
   },
   {
    "duration": 808,
    "start_time": "2022-03-16T10:52:54.901Z"
   },
   {
    "duration": 12,
    "start_time": "2022-03-16T10:52:55.713Z"
   },
   {
    "duration": 34,
    "start_time": "2022-03-16T10:52:55.728Z"
   },
   {
    "duration": 886,
    "start_time": "2022-03-16T10:52:55.765Z"
   },
   {
    "duration": 9,
    "start_time": "2022-03-16T10:52:56.653Z"
   },
   {
    "duration": 833,
    "start_time": "2022-03-16T10:52:56.666Z"
   },
   {
    "duration": 13,
    "start_time": "2022-03-16T10:52:57.501Z"
   },
   {
    "duration": 884,
    "start_time": "2022-03-16T10:52:57.517Z"
   },
   {
    "duration": 201,
    "start_time": "2022-03-16T10:52:58.404Z"
   },
   {
    "duration": 8,
    "start_time": "2022-03-16T10:52:58.608Z"
   },
   {
    "duration": 859,
    "start_time": "2022-03-16T10:52:58.619Z"
   },
   {
    "duration": 890,
    "start_time": "2022-03-16T10:52:59.481Z"
   },
   {
    "duration": 5,
    "start_time": "2022-03-16T10:53:00.374Z"
   },
   {
    "duration": 6,
    "start_time": "2022-03-16T10:53:00.382Z"
   },
   {
    "duration": 14,
    "start_time": "2022-03-16T10:53:00.391Z"
   },
   {
    "duration": 901,
    "start_time": "2022-03-16T10:53:00.408Z"
   },
   {
    "duration": 787,
    "start_time": "2022-03-16T10:53:01.311Z"
   },
   {
    "duration": 5,
    "start_time": "2022-03-16T10:53:02.101Z"
   },
   {
    "duration": 25,
    "start_time": "2022-03-16T10:53:02.108Z"
   },
   {
    "duration": 460,
    "start_time": "2022-03-16T10:53:02.136Z"
   },
   {
    "duration": 70,
    "start_time": "2022-03-16T10:53:02.599Z"
   },
   {
    "duration": 232,
    "start_time": "2022-03-16T10:53:02.671Z"
   },
   {
    "duration": 14,
    "start_time": "2022-03-16T10:53:02.906Z"
   },
   {
    "duration": 31,
    "start_time": "2022-03-16T10:53:02.922Z"
   },
   {
    "duration": 9,
    "start_time": "2022-03-16T10:53:02.957Z"
   },
   {
    "duration": 14,
    "start_time": "2022-03-16T10:53:03.165Z"
   },
   {
    "duration": 14,
    "start_time": "2022-03-16T10:53:03.353Z"
   },
   {
    "duration": 10,
    "start_time": "2022-03-16T10:53:04.143Z"
   },
   {
    "duration": 10,
    "start_time": "2022-03-16T10:53:05.147Z"
   },
   {
    "duration": 9,
    "start_time": "2022-03-16T10:53:05.979Z"
   },
   {
    "duration": 14,
    "start_time": "2022-03-16T10:55:30.021Z"
   },
   {
    "duration": 14,
    "start_time": "2022-03-16T11:07:25.397Z"
   },
   {
    "duration": 13,
    "start_time": "2022-03-16T11:09:33.410Z"
   },
   {
    "duration": 17,
    "start_time": "2022-03-16T11:16:59.871Z"
   },
   {
    "duration": 11,
    "start_time": "2022-03-16T11:17:22.935Z"
   },
   {
    "duration": 10,
    "start_time": "2022-03-16T11:17:39.023Z"
   },
   {
    "duration": 10,
    "start_time": "2022-03-16T11:17:40.034Z"
   },
   {
    "duration": 13,
    "start_time": "2022-03-16T11:19:46.271Z"
   },
   {
    "duration": 9,
    "start_time": "2022-03-16T11:21:01.413Z"
   },
   {
    "duration": 12,
    "start_time": "2022-03-16T11:24:44.313Z"
   },
   {
    "duration": 9,
    "start_time": "2022-03-16T11:24:53.107Z"
   },
   {
    "duration": 330,
    "start_time": "2022-03-16T11:43:09.071Z"
   },
   {
    "duration": 211,
    "start_time": "2022-03-16T11:43:18.635Z"
   },
   {
    "duration": 374,
    "start_time": "2022-03-16T11:43:30.589Z"
   },
   {
    "duration": 245,
    "start_time": "2022-03-16T11:43:40.481Z"
   },
   {
    "duration": 514,
    "start_time": "2022-03-16T11:43:47.148Z"
   },
   {
    "duration": 7,
    "start_time": "2022-03-16T11:49:15.186Z"
   },
   {
    "duration": 6,
    "start_time": "2022-03-16T11:49:15.946Z"
   },
   {
    "duration": 6,
    "start_time": "2022-03-16T11:49:49.108Z"
   },
   {
    "duration": 9,
    "start_time": "2022-03-16T11:49:49.711Z"
   },
   {
    "duration": 7,
    "start_time": "2022-03-16T11:50:46.960Z"
   },
   {
    "duration": 6,
    "start_time": "2022-03-16T11:50:47.701Z"
   },
   {
    "duration": 6,
    "start_time": "2022-03-16T11:51:07.407Z"
   },
   {
    "duration": 220,
    "start_time": "2022-03-16T12:04:55.926Z"
   },
   {
    "duration": 247,
    "start_time": "2022-03-16T12:05:16.300Z"
   },
   {
    "duration": 16,
    "start_time": "2022-03-16T12:05:29.276Z"
   },
   {
    "duration": 1474,
    "start_time": "2022-03-16T12:05:49.922Z"
   },
   {
    "duration": 43,
    "start_time": "2022-03-16T12:05:51.398Z"
   },
   {
    "duration": 8,
    "start_time": "2022-03-16T12:05:51.445Z"
   },
   {
    "duration": 32,
    "start_time": "2022-03-16T12:05:51.456Z"
   },
   {
    "duration": 16,
    "start_time": "2022-03-16T12:05:51.491Z"
   },
   {
    "duration": 26,
    "start_time": "2022-03-16T12:05:51.510Z"
   },
   {
    "duration": 52,
    "start_time": "2022-03-16T12:05:51.538Z"
   },
   {
    "duration": 11,
    "start_time": "2022-03-16T12:05:51.624Z"
   },
   {
    "duration": 45,
    "start_time": "2022-03-16T12:05:51.774Z"
   },
   {
    "duration": 11,
    "start_time": "2022-03-16T12:05:52.230Z"
   },
   {
    "duration": 34,
    "start_time": "2022-03-16T12:05:52.396Z"
   },
   {
    "duration": 21,
    "start_time": "2022-03-16T12:05:52.850Z"
   },
   {
    "duration": 6,
    "start_time": "2022-03-16T12:05:53.010Z"
   },
   {
    "duration": 10,
    "start_time": "2022-03-16T12:05:53.172Z"
   },
   {
    "duration": 10,
    "start_time": "2022-03-16T12:05:53.334Z"
   },
   {
    "duration": 7,
    "start_time": "2022-03-16T12:05:53.496Z"
   },
   {
    "duration": 10,
    "start_time": "2022-03-16T12:05:54.131Z"
   },
   {
    "duration": 18,
    "start_time": "2022-03-16T12:05:54.456Z"
   },
   {
    "duration": 17,
    "start_time": "2022-03-16T12:05:54.774Z"
   },
   {
    "duration": 8,
    "start_time": "2022-03-16T12:05:55.602Z"
   },
   {
    "duration": 610,
    "start_time": "2022-03-16T12:05:55.763Z"
   },
   {
    "duration": 13,
    "start_time": "2022-03-16T12:05:56.376Z"
   },
   {
    "duration": 840,
    "start_time": "2022-03-16T12:05:56.391Z"
   },
   {
    "duration": 809,
    "start_time": "2022-03-16T12:05:57.234Z"
   },
   {
    "duration": 10,
    "start_time": "2022-03-16T12:05:58.046Z"
   },
   {
    "duration": 18,
    "start_time": "2022-03-16T12:05:58.059Z"
   },
   {
    "duration": 977,
    "start_time": "2022-03-16T12:05:58.080Z"
   },
   {
    "duration": 10,
    "start_time": "2022-03-16T12:05:59.059Z"
   },
   {
    "duration": 1036,
    "start_time": "2022-03-16T12:05:59.072Z"
   },
   {
    "duration": 13,
    "start_time": "2022-03-16T12:06:00.110Z"
   },
   {
    "duration": 960,
    "start_time": "2022-03-16T12:06:00.125Z"
   },
   {
    "duration": 202,
    "start_time": "2022-03-16T12:06:01.087Z"
   },
   {
    "duration": 7,
    "start_time": "2022-03-16T12:06:01.293Z"
   },
   {
    "duration": 887,
    "start_time": "2022-03-16T12:06:01.303Z"
   },
   {
    "duration": 813,
    "start_time": "2022-03-16T12:06:02.193Z"
   },
   {
    "duration": 6,
    "start_time": "2022-03-16T12:06:03.008Z"
   },
   {
    "duration": 13,
    "start_time": "2022-03-16T12:06:03.016Z"
   },
   {
    "duration": 874,
    "start_time": "2022-03-16T12:06:03.032Z"
   },
   {
    "duration": 729,
    "start_time": "2022-03-16T12:06:03.908Z"
   },
   {
    "duration": 14,
    "start_time": "2022-03-16T12:06:04.640Z"
   },
   {
    "duration": 7,
    "start_time": "2022-03-16T12:06:04.657Z"
   },
   {
    "duration": 438,
    "start_time": "2022-03-16T12:06:04.667Z"
   },
   {
    "duration": 66,
    "start_time": "2022-03-16T12:06:05.107Z"
   },
   {
    "duration": 230,
    "start_time": "2022-03-16T12:06:05.176Z"
   },
   {
    "duration": 15,
    "start_time": "2022-03-16T12:06:05.409Z"
   },
   {
    "duration": 27,
    "start_time": "2022-03-16T12:06:05.427Z"
   },
   {
    "duration": 15,
    "start_time": "2022-03-16T12:06:05.456Z"
   },
   {
    "duration": 20,
    "start_time": "2022-03-16T12:06:05.474Z"
   },
   {
    "duration": 13,
    "start_time": "2022-03-16T12:06:09.650Z"
   },
   {
    "duration": 17,
    "start_time": "2022-03-16T12:06:10.557Z"
   },
   {
    "duration": 11,
    "start_time": "2022-03-16T12:06:16.479Z"
   },
   {
    "duration": 10,
    "start_time": "2022-03-16T12:06:16.827Z"
   },
   {
    "duration": 15,
    "start_time": "2022-03-16T12:07:38.034Z"
   },
   {
    "duration": 86,
    "start_time": "2022-03-16T12:08:20.105Z"
   },
   {
    "duration": 14,
    "start_time": "2022-03-16T12:08:26.580Z"
   },
   {
    "duration": 13,
    "start_time": "2022-03-16T12:08:37.275Z"
   },
   {
    "duration": 453,
    "start_time": "2022-03-16T12:09:03.879Z"
   },
   {
    "duration": 14,
    "start_time": "2022-03-16T12:09:34.842Z"
   },
   {
    "duration": 14,
    "start_time": "2022-03-16T12:09:49.519Z"
   },
   {
    "duration": 14,
    "start_time": "2022-03-16T12:09:52.148Z"
   },
   {
    "duration": 14,
    "start_time": "2022-03-16T12:10:18.670Z"
   },
   {
    "duration": 11,
    "start_time": "2022-03-16T12:13:53.745Z"
   },
   {
    "duration": 1488,
    "start_time": "2022-03-16T12:24:03.329Z"
   },
   {
    "duration": 46,
    "start_time": "2022-03-16T12:24:04.820Z"
   },
   {
    "duration": 8,
    "start_time": "2022-03-16T12:24:04.869Z"
   },
   {
    "duration": 19,
    "start_time": "2022-03-16T12:24:04.879Z"
   },
   {
    "duration": 9,
    "start_time": "2022-03-16T12:24:04.900Z"
   },
   {
    "duration": 18,
    "start_time": "2022-03-16T12:24:04.912Z"
   },
   {
    "duration": 49,
    "start_time": "2022-03-16T12:24:04.951Z"
   },
   {
    "duration": 11,
    "start_time": "2022-03-16T12:24:05.003Z"
   },
   {
    "duration": 42,
    "start_time": "2022-03-16T12:24:05.141Z"
   },
   {
    "duration": 11,
    "start_time": "2022-03-16T12:24:05.589Z"
   },
   {
    "duration": 28,
    "start_time": "2022-03-16T12:24:05.743Z"
   },
   {
    "duration": 22,
    "start_time": "2022-03-16T12:24:06.207Z"
   },
   {
    "duration": 6,
    "start_time": "2022-03-16T12:24:06.363Z"
   },
   {
    "duration": 8,
    "start_time": "2022-03-16T12:24:06.508Z"
   },
   {
    "duration": 9,
    "start_time": "2022-03-16T12:24:06.665Z"
   },
   {
    "duration": 7,
    "start_time": "2022-03-16T12:24:06.845Z"
   },
   {
    "duration": 8,
    "start_time": "2022-03-16T12:24:07.443Z"
   },
   {
    "duration": 16,
    "start_time": "2022-03-16T12:24:07.755Z"
   },
   {
    "duration": 17,
    "start_time": "2022-03-16T12:24:08.083Z"
   },
   {
    "duration": 10,
    "start_time": "2022-03-16T12:24:08.880Z"
   },
   {
    "duration": 633,
    "start_time": "2022-03-16T12:24:09.046Z"
   },
   {
    "duration": 16,
    "start_time": "2022-03-16T12:24:09.682Z"
   },
   {
    "duration": 950,
    "start_time": "2022-03-16T12:24:09.703Z"
   },
   {
    "duration": 832,
    "start_time": "2022-03-16T12:24:10.657Z"
   },
   {
    "duration": 11,
    "start_time": "2022-03-16T12:24:11.494Z"
   },
   {
    "duration": 44,
    "start_time": "2022-03-16T12:24:11.509Z"
   },
   {
    "duration": 890,
    "start_time": "2022-03-16T12:24:11.556Z"
   },
   {
    "duration": 12,
    "start_time": "2022-03-16T12:24:12.452Z"
   },
   {
    "duration": 832,
    "start_time": "2022-03-16T12:24:12.467Z"
   },
   {
    "duration": 12,
    "start_time": "2022-03-16T12:24:13.304Z"
   },
   {
    "duration": 920,
    "start_time": "2022-03-16T12:24:13.319Z"
   },
   {
    "duration": 215,
    "start_time": "2022-03-16T12:24:14.241Z"
   },
   {
    "duration": 7,
    "start_time": "2022-03-16T12:24:14.459Z"
   },
   {
    "duration": 934,
    "start_time": "2022-03-16T12:24:14.469Z"
   },
   {
    "duration": 824,
    "start_time": "2022-03-16T12:24:15.406Z"
   },
   {
    "duration": 18,
    "start_time": "2022-03-16T12:24:16.233Z"
   },
   {
    "duration": 6,
    "start_time": "2022-03-16T12:24:16.254Z"
   },
   {
    "duration": 881,
    "start_time": "2022-03-16T12:24:16.262Z"
   },
   {
    "duration": 752,
    "start_time": "2022-03-16T12:24:17.146Z"
   },
   {
    "duration": 6,
    "start_time": "2022-03-16T12:24:17.900Z"
   },
   {
    "duration": 10,
    "start_time": "2022-03-16T12:24:17.908Z"
   },
   {
    "duration": 573,
    "start_time": "2022-03-16T12:24:17.921Z"
   },
   {
    "duration": 68,
    "start_time": "2022-03-16T12:24:18.497Z"
   },
   {
    "duration": 238,
    "start_time": "2022-03-16T12:24:18.568Z"
   },
   {
    "duration": 15,
    "start_time": "2022-03-16T12:24:18.808Z"
   },
   {
    "duration": 27,
    "start_time": "2022-03-16T12:24:18.826Z"
   },
   {
    "duration": 10,
    "start_time": "2022-03-16T12:24:18.856Z"
   },
   {
    "duration": 14,
    "start_time": "2022-03-16T12:24:18.869Z"
   },
   {
    "duration": 15,
    "start_time": "2022-03-16T12:24:18.886Z"
   },
   {
    "duration": 11,
    "start_time": "2022-03-16T12:24:18.988Z"
   },
   {
    "duration": 13,
    "start_time": "2022-03-16T12:24:20.753Z"
   },
   {
    "duration": 9,
    "start_time": "2022-03-16T12:24:20.926Z"
   },
   {
    "duration": 73,
    "start_time": "2022-03-16T12:35:18.581Z"
   },
   {
    "duration": 97,
    "start_time": "2022-03-16T12:35:22.775Z"
   },
   {
    "duration": 10,
    "start_time": "2022-03-16T12:35:43.776Z"
   },
   {
    "duration": 11,
    "start_time": "2022-03-16T12:36:24.390Z"
   },
   {
    "duration": 9,
    "start_time": "2022-03-16T12:36:29.894Z"
   },
   {
    "duration": 1408,
    "start_time": "2022-03-16T12:43:55.550Z"
   },
   {
    "duration": 49,
    "start_time": "2022-03-16T12:43:56.961Z"
   },
   {
    "duration": 9,
    "start_time": "2022-03-16T12:43:57.013Z"
   },
   {
    "duration": 16,
    "start_time": "2022-03-16T12:43:57.025Z"
   },
   {
    "duration": 6,
    "start_time": "2022-03-16T12:43:57.044Z"
   },
   {
    "duration": 17,
    "start_time": "2022-03-16T12:43:57.052Z"
   },
   {
    "duration": 48,
    "start_time": "2022-03-16T12:43:57.072Z"
   },
   {
    "duration": 17,
    "start_time": "2022-03-16T12:43:57.295Z"
   },
   {
    "duration": 45,
    "start_time": "2022-03-16T12:43:57.449Z"
   },
   {
    "duration": 10,
    "start_time": "2022-03-16T12:43:57.926Z"
   },
   {
    "duration": 30,
    "start_time": "2022-03-16T12:43:58.093Z"
   },
   {
    "duration": 21,
    "start_time": "2022-03-16T12:43:58.603Z"
   },
   {
    "duration": 5,
    "start_time": "2022-03-16T12:43:58.755Z"
   },
   {
    "duration": 9,
    "start_time": "2022-03-16T12:43:58.980Z"
   },
   {
    "duration": 9,
    "start_time": "2022-03-16T12:43:59.144Z"
   },
   {
    "duration": 7,
    "start_time": "2022-03-16T12:43:59.310Z"
   },
   {
    "duration": 11,
    "start_time": "2022-03-16T12:44:00.003Z"
   },
   {
    "duration": 17,
    "start_time": "2022-03-16T12:44:00.334Z"
   },
   {
    "duration": 16,
    "start_time": "2022-03-16T12:44:00.661Z"
   },
   {
    "duration": 8,
    "start_time": "2022-03-16T12:44:01.473Z"
   },
   {
    "duration": 613,
    "start_time": "2022-03-16T12:44:01.646Z"
   },
   {
    "duration": 14,
    "start_time": "2022-03-16T12:44:02.261Z"
   },
   {
    "duration": 873,
    "start_time": "2022-03-16T12:44:02.279Z"
   },
   {
    "duration": 900,
    "start_time": "2022-03-16T12:44:03.155Z"
   },
   {
    "duration": 9,
    "start_time": "2022-03-16T12:44:04.058Z"
   },
   {
    "duration": 18,
    "start_time": "2022-03-16T12:44:04.071Z"
   },
   {
    "duration": 942,
    "start_time": "2022-03-16T12:44:04.092Z"
   },
   {
    "duration": 18,
    "start_time": "2022-03-16T12:44:05.036Z"
   },
   {
    "duration": 829,
    "start_time": "2022-03-16T12:44:05.057Z"
   },
   {
    "duration": 12,
    "start_time": "2022-03-16T12:44:05.889Z"
   },
   {
    "duration": 888,
    "start_time": "2022-03-16T12:44:05.903Z"
   },
   {
    "duration": 207,
    "start_time": "2022-03-16T12:44:06.793Z"
   },
   {
    "duration": 8,
    "start_time": "2022-03-16T12:44:07.002Z"
   },
   {
    "duration": 876,
    "start_time": "2022-03-16T12:44:07.012Z"
   },
   {
    "duration": 816,
    "start_time": "2022-03-16T12:44:07.891Z"
   },
   {
    "duration": 6,
    "start_time": "2022-03-16T12:44:08.710Z"
   },
   {
    "duration": 5,
    "start_time": "2022-03-16T12:44:08.719Z"
   },
   {
    "duration": 868,
    "start_time": "2022-03-16T12:44:08.751Z"
   },
   {
    "duration": 759,
    "start_time": "2022-03-16T12:44:09.622Z"
   },
   {
    "duration": 6,
    "start_time": "2022-03-16T12:44:10.384Z"
   },
   {
    "duration": 8,
    "start_time": "2022-03-16T12:44:10.392Z"
   },
   {
    "duration": 449,
    "start_time": "2022-03-16T12:44:10.402Z"
   },
   {
    "duration": 46,
    "start_time": "2022-03-16T12:44:10.853Z"
   },
   {
    "duration": 221,
    "start_time": "2022-03-16T12:44:10.902Z"
   },
   {
    "duration": 11,
    "start_time": "2022-03-16T12:44:11.126Z"
   },
   {
    "duration": 8,
    "start_time": "2022-03-16T12:44:11.152Z"
   },
   {
    "duration": 13,
    "start_time": "2022-03-16T12:44:11.162Z"
   },
   {
    "duration": 18,
    "start_time": "2022-03-16T12:44:11.178Z"
   },
   {
    "duration": 16,
    "start_time": "2022-03-16T12:44:11.199Z"
   },
   {
    "duration": 35,
    "start_time": "2022-03-16T12:44:11.217Z"
   },
   {
    "duration": 10,
    "start_time": "2022-03-16T12:44:11.255Z"
   },
   {
    "duration": 8,
    "start_time": "2022-03-16T12:44:11.342Z"
   },
   {
    "duration": 14,
    "start_time": "2022-03-16T13:01:15.935Z"
   },
   {
    "duration": 7,
    "start_time": "2022-03-16T13:03:14.659Z"
   },
   {
    "duration": 12,
    "start_time": "2022-03-16T13:06:25.216Z"
   },
   {
    "duration": 12,
    "start_time": "2022-03-16T13:10:52.949Z"
   },
   {
    "duration": 1834,
    "start_time": "2022-03-16T13:30:06.390Z"
   },
   {
    "duration": 65,
    "start_time": "2022-03-16T13:30:08.227Z"
   },
   {
    "duration": 10,
    "start_time": "2022-03-16T13:30:08.296Z"
   },
   {
    "duration": 25,
    "start_time": "2022-03-16T13:30:08.310Z"
   },
   {
    "duration": 8,
    "start_time": "2022-03-16T13:30:08.339Z"
   },
   {
    "duration": 23,
    "start_time": "2022-03-16T13:30:08.350Z"
   },
   {
    "duration": 79,
    "start_time": "2022-03-16T13:30:08.376Z"
   },
   {
    "duration": 13,
    "start_time": "2022-03-16T13:30:08.460Z"
   },
   {
    "duration": 47,
    "start_time": "2022-03-16T13:30:08.475Z"
   },
   {
    "duration": 13,
    "start_time": "2022-03-16T13:30:08.643Z"
   },
   {
    "duration": 36,
    "start_time": "2022-03-16T13:30:08.830Z"
   },
   {
    "duration": 15,
    "start_time": "2022-03-16T13:30:09.280Z"
   },
   {
    "duration": 33,
    "start_time": "2022-03-16T13:30:09.438Z"
   },
   {
    "duration": 26,
    "start_time": "2022-03-16T13:30:09.916Z"
   },
   {
    "duration": 6,
    "start_time": "2022-03-16T13:30:10.081Z"
   },
   {
    "duration": 12,
    "start_time": "2022-03-16T13:30:10.240Z"
   },
   {
    "duration": 13,
    "start_time": "2022-03-16T13:30:10.414Z"
   },
   {
    "duration": 9,
    "start_time": "2022-03-16T13:30:10.595Z"
   },
   {
    "duration": 7,
    "start_time": "2022-03-16T13:30:11.194Z"
   },
   {
    "duration": 21,
    "start_time": "2022-03-16T13:30:11.512Z"
   },
   {
    "duration": 22,
    "start_time": "2022-03-16T13:30:11.824Z"
   },
   {
    "duration": 11,
    "start_time": "2022-03-16T13:30:12.613Z"
   },
   {
    "duration": 777,
    "start_time": "2022-03-16T13:30:12.779Z"
   },
   {
    "duration": 15,
    "start_time": "2022-03-16T13:30:13.559Z"
   },
   {
    "duration": 1166,
    "start_time": "2022-03-16T13:30:13.577Z"
   },
   {
    "duration": 867,
    "start_time": "2022-03-16T13:30:14.752Z"
   },
   {
    "duration": 11,
    "start_time": "2022-03-16T13:30:15.623Z"
   },
   {
    "duration": 31,
    "start_time": "2022-03-16T13:30:15.637Z"
   },
   {
    "duration": 909,
    "start_time": "2022-03-16T13:30:15.671Z"
   },
   {
    "duration": 10,
    "start_time": "2022-03-16T13:30:16.583Z"
   },
   {
    "duration": 843,
    "start_time": "2022-03-16T13:30:16.596Z"
   },
   {
    "duration": 18,
    "start_time": "2022-03-16T13:30:17.444Z"
   },
   {
    "duration": 875,
    "start_time": "2022-03-16T13:30:17.465Z"
   },
   {
    "duration": 219,
    "start_time": "2022-03-16T13:30:18.342Z"
   },
   {
    "duration": 9,
    "start_time": "2022-03-16T13:30:18.564Z"
   },
   {
    "duration": 1096,
    "start_time": "2022-03-16T13:30:18.576Z"
   },
   {
    "duration": 806,
    "start_time": "2022-03-16T13:30:19.675Z"
   },
   {
    "duration": 7,
    "start_time": "2022-03-16T13:30:20.484Z"
   },
   {
    "duration": 14,
    "start_time": "2022-03-16T13:30:20.493Z"
   },
   {
    "duration": 914,
    "start_time": "2022-03-16T13:30:20.510Z"
   },
   {
    "duration": 805,
    "start_time": "2022-03-16T13:30:21.427Z"
   },
   {
    "duration": 6,
    "start_time": "2022-03-16T13:30:22.235Z"
   },
   {
    "duration": 12,
    "start_time": "2022-03-16T13:30:22.244Z"
   },
   {
    "duration": 446,
    "start_time": "2022-03-16T13:30:22.259Z"
   },
   {
    "duration": 72,
    "start_time": "2022-03-16T13:30:22.709Z"
   },
   {
    "duration": 247,
    "start_time": "2022-03-16T13:30:22.784Z"
   },
   {
    "duration": 22,
    "start_time": "2022-03-16T13:30:23.034Z"
   },
   {
    "duration": 10,
    "start_time": "2022-03-16T13:30:23.058Z"
   },
   {
    "duration": 21,
    "start_time": "2022-03-16T13:30:23.070Z"
   },
   {
    "duration": 29,
    "start_time": "2022-03-16T13:30:23.095Z"
   },
   {
    "duration": 35,
    "start_time": "2022-03-16T13:30:23.127Z"
   },
   {
    "duration": 11,
    "start_time": "2022-03-16T13:30:23.165Z"
   },
   {
    "duration": 28,
    "start_time": "2022-03-16T13:30:23.179Z"
   },
   {
    "duration": 14,
    "start_time": "2022-03-16T13:30:23.210Z"
   },
   {
    "duration": 1119,
    "start_time": "2022-03-17T01:42:30.780Z"
   },
   {
    "duration": 77,
    "start_time": "2022-03-17T01:42:31.901Z"
   },
   {
    "duration": 6,
    "start_time": "2022-03-17T01:42:31.980Z"
   },
   {
    "duration": 29,
    "start_time": "2022-03-17T01:42:31.988Z"
   },
   {
    "duration": 6,
    "start_time": "2022-03-17T01:42:32.019Z"
   },
   {
    "duration": 12,
    "start_time": "2022-03-17T01:42:32.027Z"
   },
   {
    "duration": 59,
    "start_time": "2022-03-17T01:42:32.040Z"
   },
   {
    "duration": 7,
    "start_time": "2022-03-17T01:42:32.100Z"
   },
   {
    "duration": 29,
    "start_time": "2022-03-17T01:42:32.109Z"
   },
   {
    "duration": 41,
    "start_time": "2022-03-17T01:42:32.140Z"
   },
   {
    "duration": 19,
    "start_time": "2022-03-17T01:42:32.182Z"
   },
   {
    "duration": 16,
    "start_time": "2022-03-17T01:42:32.202Z"
   },
   {
    "duration": 11,
    "start_time": "2022-03-17T01:42:32.219Z"
   },
   {
    "duration": 9,
    "start_time": "2022-03-17T01:42:32.231Z"
   },
   {
    "duration": 9,
    "start_time": "2022-03-17T01:42:32.241Z"
   },
   {
    "duration": 6,
    "start_time": "2022-03-17T01:42:32.251Z"
   },
   {
    "duration": 23,
    "start_time": "2022-03-17T01:42:32.259Z"
   },
   {
    "duration": 11,
    "start_time": "2022-03-17T01:42:32.283Z"
   },
   {
    "duration": 10,
    "start_time": "2022-03-17T01:42:32.296Z"
   },
   {
    "duration": 5,
    "start_time": "2022-03-17T01:42:32.308Z"
   },
   {
    "duration": 349,
    "start_time": "2022-03-17T01:42:32.315Z"
   },
   {
    "duration": 8,
    "start_time": "2022-03-17T01:42:32.665Z"
   },
   {
    "duration": 473,
    "start_time": "2022-03-17T01:42:32.681Z"
   },
   {
    "duration": 467,
    "start_time": "2022-03-17T01:42:33.156Z"
   },
   {
    "duration": 6,
    "start_time": "2022-03-17T01:42:33.625Z"
   },
   {
    "duration": 16,
    "start_time": "2022-03-17T01:42:33.632Z"
   },
   {
    "duration": 624,
    "start_time": "2022-03-17T01:42:33.651Z"
   },
   {
    "duration": 7,
    "start_time": "2022-03-17T01:42:34.281Z"
   },
   {
    "duration": 452,
    "start_time": "2022-03-17T01:42:34.289Z"
   },
   {
    "duration": 8,
    "start_time": "2022-03-17T01:42:34.743Z"
   },
   {
    "duration": 552,
    "start_time": "2022-03-17T01:42:34.753Z"
   },
   {
    "duration": 107,
    "start_time": "2022-03-17T01:42:35.307Z"
   },
   {
    "duration": 6,
    "start_time": "2022-03-17T01:42:35.415Z"
   },
   {
    "duration": 515,
    "start_time": "2022-03-17T01:42:35.422Z"
   },
   {
    "duration": 795,
    "start_time": "2022-03-17T01:42:35.939Z"
   },
   {
    "duration": 3,
    "start_time": "2022-03-17T01:42:36.736Z"
   },
   {
    "duration": 5,
    "start_time": "2022-03-17T01:42:36.741Z"
   },
   {
    "duration": 693,
    "start_time": "2022-03-17T01:42:36.748Z"
   },
   {
    "duration": 418,
    "start_time": "2022-03-17T01:42:37.443Z"
   },
   {
    "duration": 5,
    "start_time": "2022-03-17T01:42:37.863Z"
   },
   {
    "duration": 4,
    "start_time": "2022-03-17T01:42:37.881Z"
   },
   {
    "duration": 247,
    "start_time": "2022-03-17T01:42:37.887Z"
   },
   {
    "duration": 29,
    "start_time": "2022-03-17T01:42:38.135Z"
   },
   {
    "duration": 127,
    "start_time": "2022-03-17T01:42:38.166Z"
   },
   {
    "duration": 9,
    "start_time": "2022-03-17T01:42:38.294Z"
   },
   {
    "duration": 6,
    "start_time": "2022-03-17T01:42:38.305Z"
   },
   {
    "duration": 7,
    "start_time": "2022-03-17T01:42:38.312Z"
   },
   {
    "duration": 8,
    "start_time": "2022-03-17T01:42:38.320Z"
   },
   {
    "duration": 14,
    "start_time": "2022-03-17T01:42:38.329Z"
   },
   {
    "duration": 37,
    "start_time": "2022-03-17T01:42:38.344Z"
   },
   {
    "duration": 7,
    "start_time": "2022-03-17T01:42:38.382Z"
   },
   {
    "duration": 6,
    "start_time": "2022-03-17T01:42:38.390Z"
   },
   {
    "duration": 1099,
    "start_time": "2022-03-17T02:00:10.883Z"
   },
   {
    "duration": 64,
    "start_time": "2022-03-17T02:00:11.984Z"
   },
   {
    "duration": 5,
    "start_time": "2022-03-17T02:00:12.050Z"
   },
   {
    "duration": 14,
    "start_time": "2022-03-17T02:00:12.056Z"
   },
   {
    "duration": 5,
    "start_time": "2022-03-17T02:00:12.071Z"
   },
   {
    "duration": 12,
    "start_time": "2022-03-17T02:00:12.077Z"
   },
   {
    "duration": 24,
    "start_time": "2022-03-17T02:00:12.090Z"
   },
   {
    "duration": 6,
    "start_time": "2022-03-17T02:00:12.116Z"
   },
   {
    "duration": 26,
    "start_time": "2022-03-17T02:00:12.124Z"
   },
   {
    "duration": 32,
    "start_time": "2022-03-17T02:00:12.152Z"
   },
   {
    "duration": 19,
    "start_time": "2022-03-17T02:00:12.185Z"
   },
   {
    "duration": 12,
    "start_time": "2022-03-17T02:00:12.205Z"
   },
   {
    "duration": 7,
    "start_time": "2022-03-17T02:00:12.218Z"
   },
   {
    "duration": 7,
    "start_time": "2022-03-17T02:00:12.226Z"
   },
   {
    "duration": 6,
    "start_time": "2022-03-17T02:00:12.234Z"
   },
   {
    "duration": 5,
    "start_time": "2022-03-17T02:00:12.242Z"
   },
   {
    "duration": 33,
    "start_time": "2022-03-17T02:00:12.248Z"
   },
   {
    "duration": 13,
    "start_time": "2022-03-17T02:00:12.283Z"
   },
   {
    "duration": 11,
    "start_time": "2022-03-17T02:00:12.297Z"
   },
   {
    "duration": 6,
    "start_time": "2022-03-17T02:00:12.309Z"
   },
   {
    "duration": 346,
    "start_time": "2022-03-17T02:00:12.317Z"
   },
   {
    "duration": 7,
    "start_time": "2022-03-17T02:00:12.664Z"
   },
   {
    "duration": 458,
    "start_time": "2022-03-17T02:00:12.673Z"
   },
   {
    "duration": 448,
    "start_time": "2022-03-17T02:00:13.133Z"
   },
   {
    "duration": 6,
    "start_time": "2022-03-17T02:00:13.582Z"
   },
   {
    "duration": 12,
    "start_time": "2022-03-17T02:00:13.589Z"
   },
   {
    "duration": 555,
    "start_time": "2022-03-17T02:00:13.604Z"
   },
   {
    "duration": 6,
    "start_time": "2022-03-17T02:00:14.161Z"
   },
   {
    "duration": 475,
    "start_time": "2022-03-17T02:00:14.168Z"
   },
   {
    "duration": 7,
    "start_time": "2022-03-17T02:00:14.644Z"
   },
   {
    "duration": 566,
    "start_time": "2022-03-17T02:00:14.653Z"
   },
   {
    "duration": 113,
    "start_time": "2022-03-17T02:00:15.221Z"
   },
   {
    "duration": 4,
    "start_time": "2022-03-17T02:00:15.336Z"
   },
   {
    "duration": 558,
    "start_time": "2022-03-17T02:00:15.342Z"
   },
   {
    "duration": 474,
    "start_time": "2022-03-17T02:00:15.901Z"
   },
   {
    "duration": 6,
    "start_time": "2022-03-17T02:00:16.376Z"
   },
   {
    "duration": 7,
    "start_time": "2022-03-17T02:00:16.384Z"
   },
   {
    "duration": 529,
    "start_time": "2022-03-17T02:00:16.393Z"
   },
   {
    "duration": 416,
    "start_time": "2022-03-17T02:00:16.923Z"
   },
   {
    "duration": 4,
    "start_time": "2022-03-17T02:00:17.341Z"
   },
   {
    "duration": 7,
    "start_time": "2022-03-17T02:00:17.346Z"
   },
   {
    "duration": 262,
    "start_time": "2022-03-17T02:00:17.354Z"
   },
   {
    "duration": 30,
    "start_time": "2022-03-17T02:00:17.617Z"
   },
   {
    "duration": 122,
    "start_time": "2022-03-17T02:00:17.649Z"
   },
   {
    "duration": 8,
    "start_time": "2022-03-17T02:00:17.773Z"
   },
   {
    "duration": 5,
    "start_time": "2022-03-17T02:00:17.782Z"
   },
   {
    "duration": 5,
    "start_time": "2022-03-17T02:00:17.789Z"
   },
   {
    "duration": 14,
    "start_time": "2022-03-17T02:00:17.796Z"
   },
   {
    "duration": 8,
    "start_time": "2022-03-17T02:00:17.811Z"
   },
   {
    "duration": 13,
    "start_time": "2022-03-17T02:00:17.821Z"
   },
   {
    "duration": 10,
    "start_time": "2022-03-17T02:00:17.836Z"
   },
   {
    "duration": 34,
    "start_time": "2022-03-17T02:00:17.848Z"
   },
   {
    "duration": 1086,
    "start_time": "2022-03-17T02:01:48.096Z"
   },
   {
    "duration": 63,
    "start_time": "2022-03-17T02:01:49.183Z"
   },
   {
    "duration": 4,
    "start_time": "2022-03-17T02:01:49.248Z"
   },
   {
    "duration": 11,
    "start_time": "2022-03-17T02:01:49.254Z"
   },
   {
    "duration": 5,
    "start_time": "2022-03-17T02:01:49.266Z"
   },
   {
    "duration": 12,
    "start_time": "2022-03-17T02:01:49.272Z"
   },
   {
    "duration": 23,
    "start_time": "2022-03-17T02:01:49.286Z"
   },
   {
    "duration": 6,
    "start_time": "2022-03-17T02:01:49.311Z"
   },
   {
    "duration": 25,
    "start_time": "2022-03-17T02:01:49.318Z"
   },
   {
    "duration": 5,
    "start_time": "2022-03-17T02:01:49.345Z"
   },
   {
    "duration": 48,
    "start_time": "2022-03-17T02:01:49.352Z"
   },
   {
    "duration": 14,
    "start_time": "2022-03-17T02:01:49.401Z"
   },
   {
    "duration": 10,
    "start_time": "2022-03-17T02:01:49.416Z"
   },
   {
    "duration": 9,
    "start_time": "2022-03-17T02:01:49.427Z"
   },
   {
    "duration": 8,
    "start_time": "2022-03-17T02:01:49.438Z"
   },
   {
    "duration": 7,
    "start_time": "2022-03-17T02:01:49.447Z"
   },
   {
    "duration": 26,
    "start_time": "2022-03-17T02:01:49.455Z"
   },
   {
    "duration": 13,
    "start_time": "2022-03-17T02:01:49.483Z"
   },
   {
    "duration": 11,
    "start_time": "2022-03-17T02:01:49.498Z"
   },
   {
    "duration": 7,
    "start_time": "2022-03-17T02:01:49.511Z"
   },
   {
    "duration": 337,
    "start_time": "2022-03-17T02:01:49.520Z"
   },
   {
    "duration": 8,
    "start_time": "2022-03-17T02:01:49.859Z"
   },
   {
    "duration": 462,
    "start_time": "2022-03-17T02:01:49.871Z"
   },
   {
    "duration": 454,
    "start_time": "2022-03-17T02:01:50.336Z"
   },
   {
    "duration": 6,
    "start_time": "2022-03-17T02:01:50.792Z"
   },
   {
    "duration": 15,
    "start_time": "2022-03-17T02:01:50.799Z"
   },
   {
    "duration": 528,
    "start_time": "2022-03-17T02:01:50.815Z"
   },
   {
    "duration": 6,
    "start_time": "2022-03-17T02:01:51.344Z"
   },
   {
    "duration": 466,
    "start_time": "2022-03-17T02:01:51.351Z"
   },
   {
    "duration": 8,
    "start_time": "2022-03-17T02:01:51.818Z"
   },
   {
    "duration": 517,
    "start_time": "2022-03-17T02:01:51.827Z"
   },
   {
    "duration": 105,
    "start_time": "2022-03-17T02:01:52.346Z"
   },
   {
    "duration": 5,
    "start_time": "2022-03-17T02:01:52.453Z"
   },
   {
    "duration": 553,
    "start_time": "2022-03-17T02:01:52.459Z"
   },
   {
    "duration": 467,
    "start_time": "2022-03-17T02:01:53.014Z"
   },
   {
    "duration": 5,
    "start_time": "2022-03-17T02:01:53.482Z"
   },
   {
    "duration": 6,
    "start_time": "2022-03-17T02:01:53.489Z"
   },
   {
    "duration": 522,
    "start_time": "2022-03-17T02:01:53.496Z"
   },
   {
    "duration": 405,
    "start_time": "2022-03-17T02:01:54.020Z"
   },
   {
    "duration": 4,
    "start_time": "2022-03-17T02:01:54.427Z"
   },
   {
    "duration": 6,
    "start_time": "2022-03-17T02:01:54.433Z"
   },
   {
    "duration": 248,
    "start_time": "2022-03-17T02:01:54.440Z"
   },
   {
    "duration": 28,
    "start_time": "2022-03-17T02:01:54.689Z"
   },
   {
    "duration": 121,
    "start_time": "2022-03-17T02:01:54.718Z"
   },
   {
    "duration": 8,
    "start_time": "2022-03-17T02:01:54.840Z"
   },
   {
    "duration": 5,
    "start_time": "2022-03-17T02:01:54.850Z"
   },
   {
    "duration": 24,
    "start_time": "2022-03-17T02:01:54.857Z"
   },
   {
    "duration": 7,
    "start_time": "2022-03-17T02:01:54.883Z"
   },
   {
    "duration": 14,
    "start_time": "2022-03-17T02:01:54.891Z"
   },
   {
    "duration": 6,
    "start_time": "2022-03-17T02:01:54.907Z"
   },
   {
    "duration": 7,
    "start_time": "2022-03-17T02:01:54.915Z"
   },
   {
    "duration": 10,
    "start_time": "2022-03-17T02:01:54.924Z"
   },
   {
    "duration": 1277,
    "start_time": "2022-03-17T10:19:25.829Z"
   },
   {
    "duration": 64,
    "start_time": "2022-03-17T10:19:27.108Z"
   },
   {
    "duration": 5,
    "start_time": "2022-03-17T10:19:27.174Z"
   },
   {
    "duration": 9,
    "start_time": "2022-03-17T10:19:27.181Z"
   },
   {
    "duration": 7,
    "start_time": "2022-03-17T10:19:27.191Z"
   },
   {
    "duration": 16,
    "start_time": "2022-03-17T10:19:27.199Z"
   },
   {
    "duration": 28,
    "start_time": "2022-03-17T10:19:27.429Z"
   },
   {
    "duration": 8,
    "start_time": "2022-03-17T10:19:28.098Z"
   },
   {
    "duration": 32,
    "start_time": "2022-03-17T10:19:28.278Z"
   },
   {
    "duration": 8,
    "start_time": "2022-03-17T10:19:29.297Z"
   },
   {
    "duration": 22,
    "start_time": "2022-03-17T10:19:29.471Z"
   },
   {
    "duration": 12,
    "start_time": "2022-03-17T10:19:30.131Z"
   },
   {
    "duration": 4,
    "start_time": "2022-03-17T10:19:31.309Z"
   },
   {
    "duration": 9,
    "start_time": "2022-03-17T10:19:31.515Z"
   },
   {
    "duration": 9,
    "start_time": "2022-03-17T10:19:31.669Z"
   },
   {
    "duration": 5,
    "start_time": "2022-03-17T10:19:31.841Z"
   },
   {
    "duration": 827,
    "start_time": "2022-03-17T10:23:42.611Z"
   },
   {
    "duration": 14,
    "start_time": "2022-03-17T10:23:59.756Z"
   },
   {
    "duration": 737,
    "start_time": "2022-03-17T10:24:55.264Z"
   },
   {
    "duration": 38,
    "start_time": "2022-03-17T10:25:05.999Z"
   },
   {
    "duration": 22,
    "start_time": "2022-03-17T10:25:24.481Z"
   },
   {
    "duration": 1130,
    "start_time": "2022-03-18T09:00:31.891Z"
   },
   {
    "duration": 101,
    "start_time": "2022-03-18T09:00:33.023Z"
   },
   {
    "duration": 5,
    "start_time": "2022-03-18T09:00:33.125Z"
   },
   {
    "duration": 9,
    "start_time": "2022-03-18T09:00:33.131Z"
   },
   {
    "duration": 4,
    "start_time": "2022-03-18T09:00:33.141Z"
   },
   {
    "duration": 11,
    "start_time": "2022-03-18T09:00:33.147Z"
   },
   {
    "duration": 25,
    "start_time": "2022-03-18T09:00:33.159Z"
   },
   {
    "duration": 7,
    "start_time": "2022-03-18T09:00:33.185Z"
   },
   {
    "duration": 40,
    "start_time": "2022-03-18T09:00:33.194Z"
   },
   {
    "duration": 6,
    "start_time": "2022-03-18T09:00:33.236Z"
   },
   {
    "duration": 21,
    "start_time": "2022-03-18T09:00:33.243Z"
   },
   {
    "duration": 12,
    "start_time": "2022-03-18T09:00:33.265Z"
   },
   {
    "duration": 23,
    "start_time": "2022-03-18T09:00:33.279Z"
   },
   {
    "duration": 10,
    "start_time": "2022-03-18T09:00:33.303Z"
   },
   {
    "duration": 11,
    "start_time": "2022-03-18T09:00:33.314Z"
   },
   {
    "duration": 9,
    "start_time": "2022-03-18T09:00:33.327Z"
   },
   {
    "duration": 22,
    "start_time": "2022-03-18T09:00:33.337Z"
   },
   {
    "duration": 4,
    "start_time": "2022-03-18T09:00:33.360Z"
   },
   {
    "duration": 14,
    "start_time": "2022-03-18T09:00:33.365Z"
   },
   {
    "duration": 21,
    "start_time": "2022-03-18T09:00:33.381Z"
   },
   {
    "duration": 8,
    "start_time": "2022-03-18T09:00:33.404Z"
   },
   {
    "duration": 287,
    "start_time": "2022-03-18T09:00:33.414Z"
   },
   {
    "duration": 7,
    "start_time": "2022-03-18T09:00:33.703Z"
   },
   {
    "duration": 401,
    "start_time": "2022-03-18T09:00:33.712Z"
   },
   {
    "duration": 291,
    "start_time": "2022-03-18T09:00:34.115Z"
   },
   {
    "duration": 6,
    "start_time": "2022-03-18T09:00:34.408Z"
   },
   {
    "duration": 11,
    "start_time": "2022-03-18T09:00:34.415Z"
   },
   {
    "duration": 399,
    "start_time": "2022-03-18T09:00:34.429Z"
   },
   {
    "duration": 6,
    "start_time": "2022-03-18T09:00:34.829Z"
   },
   {
    "duration": 325,
    "start_time": "2022-03-18T09:00:34.837Z"
   },
   {
    "duration": 9,
    "start_time": "2022-03-18T09:00:35.164Z"
   },
   {
    "duration": 538,
    "start_time": "2022-03-18T09:00:35.174Z"
   },
   {
    "duration": 0,
    "start_time": "2022-03-18T09:00:35.713Z"
   },
   {
    "duration": 0,
    "start_time": "2022-03-18T09:00:35.714Z"
   },
   {
    "duration": 0,
    "start_time": "2022-03-18T09:00:35.715Z"
   },
   {
    "duration": 0,
    "start_time": "2022-03-18T09:00:35.716Z"
   },
   {
    "duration": 0,
    "start_time": "2022-03-18T09:00:35.717Z"
   },
   {
    "duration": 0,
    "start_time": "2022-03-18T09:00:35.718Z"
   },
   {
    "duration": 0,
    "start_time": "2022-03-18T09:00:35.718Z"
   },
   {
    "duration": 0,
    "start_time": "2022-03-18T09:00:35.719Z"
   },
   {
    "duration": 0,
    "start_time": "2022-03-18T09:00:35.720Z"
   },
   {
    "duration": 0,
    "start_time": "2022-03-18T09:00:35.720Z"
   },
   {
    "duration": 0,
    "start_time": "2022-03-18T09:00:35.721Z"
   },
   {
    "duration": 0,
    "start_time": "2022-03-18T09:00:35.722Z"
   },
   {
    "duration": 0,
    "start_time": "2022-03-18T09:00:35.723Z"
   },
   {
    "duration": 0,
    "start_time": "2022-03-18T09:00:35.724Z"
   },
   {
    "duration": 0,
    "start_time": "2022-03-18T09:00:35.725Z"
   },
   {
    "duration": 0,
    "start_time": "2022-03-18T09:00:35.725Z"
   },
   {
    "duration": 0,
    "start_time": "2022-03-18T09:00:35.726Z"
   },
   {
    "duration": 0,
    "start_time": "2022-03-18T09:00:35.727Z"
   },
   {
    "duration": 0,
    "start_time": "2022-03-18T09:00:35.728Z"
   },
   {
    "duration": 0,
    "start_time": "2022-03-18T09:00:35.729Z"
   },
   {
    "duration": 0,
    "start_time": "2022-03-18T09:00:35.730Z"
   },
   {
    "duration": 1088,
    "start_time": "2022-03-18T09:01:44.437Z"
   },
   {
    "duration": 84,
    "start_time": "2022-03-18T09:01:45.527Z"
   },
   {
    "duration": 5,
    "start_time": "2022-03-18T09:01:45.612Z"
   },
   {
    "duration": 7,
    "start_time": "2022-03-18T09:01:45.619Z"
   },
   {
    "duration": 3,
    "start_time": "2022-03-18T09:01:45.628Z"
   },
   {
    "duration": 11,
    "start_time": "2022-03-18T09:01:45.633Z"
   },
   {
    "duration": 26,
    "start_time": "2022-03-18T09:01:45.645Z"
   },
   {
    "duration": 6,
    "start_time": "2022-03-18T09:01:45.673Z"
   },
   {
    "duration": 45,
    "start_time": "2022-03-18T09:01:45.681Z"
   },
   {
    "duration": 6,
    "start_time": "2022-03-18T09:01:45.729Z"
   },
   {
    "duration": 19,
    "start_time": "2022-03-18T09:01:45.737Z"
   },
   {
    "duration": 14,
    "start_time": "2022-03-18T09:01:45.758Z"
   },
   {
    "duration": 3,
    "start_time": "2022-03-18T09:01:45.801Z"
   },
   {
    "duration": 11,
    "start_time": "2022-03-18T09:01:45.805Z"
   },
   {
    "duration": 12,
    "start_time": "2022-03-18T09:01:45.817Z"
   },
   {
    "duration": 9,
    "start_time": "2022-03-18T09:01:45.830Z"
   },
   {
    "duration": 23,
    "start_time": "2022-03-18T09:01:45.840Z"
   },
   {
    "duration": 4,
    "start_time": "2022-03-18T09:01:45.865Z"
   },
   {
    "duration": 11,
    "start_time": "2022-03-18T09:01:45.871Z"
   },
   {
    "duration": 26,
    "start_time": "2022-03-18T09:01:45.883Z"
   },
   {
    "duration": 7,
    "start_time": "2022-03-18T09:01:45.910Z"
   },
   {
    "duration": 296,
    "start_time": "2022-03-18T09:01:45.919Z"
   },
   {
    "duration": 7,
    "start_time": "2022-03-18T09:01:46.217Z"
   },
   {
    "duration": 397,
    "start_time": "2022-03-18T09:01:46.225Z"
   },
   {
    "duration": 296,
    "start_time": "2022-03-18T09:01:46.623Z"
   },
   {
    "duration": 6,
    "start_time": "2022-03-18T09:01:46.920Z"
   },
   {
    "duration": 11,
    "start_time": "2022-03-18T09:01:46.927Z"
   },
   {
    "duration": 378,
    "start_time": "2022-03-18T09:01:46.941Z"
   },
   {
    "duration": 5,
    "start_time": "2022-03-18T09:01:47.320Z"
   },
   {
    "duration": 321,
    "start_time": "2022-03-18T09:01:47.327Z"
   },
   {
    "duration": 8,
    "start_time": "2022-03-18T09:01:47.650Z"
   },
   {
    "duration": 496,
    "start_time": "2022-03-18T09:01:47.659Z"
   },
   {
    "duration": 0,
    "start_time": "2022-03-18T09:01:48.157Z"
   },
   {
    "duration": 0,
    "start_time": "2022-03-18T09:01:48.158Z"
   },
   {
    "duration": 0,
    "start_time": "2022-03-18T09:01:48.159Z"
   },
   {
    "duration": 0,
    "start_time": "2022-03-18T09:01:48.161Z"
   },
   {
    "duration": 0,
    "start_time": "2022-03-18T09:01:48.161Z"
   },
   {
    "duration": 0,
    "start_time": "2022-03-18T09:01:48.162Z"
   },
   {
    "duration": 1,
    "start_time": "2022-03-18T09:01:48.163Z"
   },
   {
    "duration": 0,
    "start_time": "2022-03-18T09:01:48.164Z"
   },
   {
    "duration": 0,
    "start_time": "2022-03-18T09:01:48.165Z"
   },
   {
    "duration": 0,
    "start_time": "2022-03-18T09:01:48.166Z"
   },
   {
    "duration": 0,
    "start_time": "2022-03-18T09:01:48.167Z"
   },
   {
    "duration": 0,
    "start_time": "2022-03-18T09:01:48.168Z"
   },
   {
    "duration": 0,
    "start_time": "2022-03-18T09:01:48.169Z"
   },
   {
    "duration": 0,
    "start_time": "2022-03-18T09:01:48.170Z"
   },
   {
    "duration": 0,
    "start_time": "2022-03-18T09:01:48.171Z"
   },
   {
    "duration": 0,
    "start_time": "2022-03-18T09:01:48.171Z"
   },
   {
    "duration": 0,
    "start_time": "2022-03-18T09:01:48.172Z"
   },
   {
    "duration": 0,
    "start_time": "2022-03-18T09:01:48.201Z"
   },
   {
    "duration": 0,
    "start_time": "2022-03-18T09:01:48.202Z"
   },
   {
    "duration": 0,
    "start_time": "2022-03-18T09:01:48.203Z"
   },
   {
    "duration": 0,
    "start_time": "2022-03-18T09:01:48.204Z"
   },
   {
    "duration": 1155,
    "start_time": "2022-03-18T09:03:58.028Z"
   },
   {
    "duration": 71,
    "start_time": "2022-03-18T09:03:59.184Z"
   },
   {
    "duration": 5,
    "start_time": "2022-03-18T09:03:59.256Z"
   },
   {
    "duration": 8,
    "start_time": "2022-03-18T09:03:59.264Z"
   },
   {
    "duration": 4,
    "start_time": "2022-03-18T09:03:59.273Z"
   },
   {
    "duration": 12,
    "start_time": "2022-03-18T09:03:59.278Z"
   },
   {
    "duration": 27,
    "start_time": "2022-03-18T09:03:59.292Z"
   },
   {
    "duration": 6,
    "start_time": "2022-03-18T09:03:59.320Z"
   },
   {
    "duration": 31,
    "start_time": "2022-03-18T09:03:59.328Z"
   },
   {
    "duration": 5,
    "start_time": "2022-03-18T09:03:59.362Z"
   },
   {
    "duration": 39,
    "start_time": "2022-03-18T09:03:59.368Z"
   },
   {
    "duration": 12,
    "start_time": "2022-03-18T09:03:59.408Z"
   },
   {
    "duration": 4,
    "start_time": "2022-03-18T09:03:59.422Z"
   },
   {
    "duration": 12,
    "start_time": "2022-03-18T09:03:59.428Z"
   },
   {
    "duration": 18,
    "start_time": "2022-03-18T09:03:59.442Z"
   },
   {
    "duration": 10,
    "start_time": "2022-03-18T09:03:59.462Z"
   },
   {
    "duration": 28,
    "start_time": "2022-03-18T09:03:59.473Z"
   },
   {
    "duration": 4,
    "start_time": "2022-03-18T09:03:59.503Z"
   },
   {
    "duration": 15,
    "start_time": "2022-03-18T09:03:59.508Z"
   },
   {
    "duration": 13,
    "start_time": "2022-03-18T09:03:59.524Z"
   },
   {
    "duration": 8,
    "start_time": "2022-03-18T09:03:59.538Z"
   },
   {
    "duration": 284,
    "start_time": "2022-03-18T09:03:59.547Z"
   },
   {
    "duration": 7,
    "start_time": "2022-03-18T09:03:59.833Z"
   },
   {
    "duration": 408,
    "start_time": "2022-03-18T09:03:59.841Z"
   },
   {
    "duration": 295,
    "start_time": "2022-03-18T09:04:00.251Z"
   },
   {
    "duration": 7,
    "start_time": "2022-03-18T09:04:00.547Z"
   },
   {
    "duration": 14,
    "start_time": "2022-03-18T09:04:00.555Z"
   },
   {
    "duration": 419,
    "start_time": "2022-03-18T09:04:00.572Z"
   },
   {
    "duration": 11,
    "start_time": "2022-03-18T09:04:00.992Z"
   },
   {
    "duration": 388,
    "start_time": "2022-03-18T09:04:01.005Z"
   },
   {
    "duration": 12,
    "start_time": "2022-03-18T09:04:01.395Z"
   },
   {
    "duration": 521,
    "start_time": "2022-03-18T09:04:01.409Z"
   },
   {
    "duration": 0,
    "start_time": "2022-03-18T09:04:01.932Z"
   },
   {
    "duration": 0,
    "start_time": "2022-03-18T09:04:01.933Z"
   },
   {
    "duration": 0,
    "start_time": "2022-03-18T09:04:01.934Z"
   },
   {
    "duration": 0,
    "start_time": "2022-03-18T09:04:01.936Z"
   },
   {
    "duration": 0,
    "start_time": "2022-03-18T09:04:01.937Z"
   },
   {
    "duration": 0,
    "start_time": "2022-03-18T09:04:01.938Z"
   },
   {
    "duration": 0,
    "start_time": "2022-03-18T09:04:01.939Z"
   },
   {
    "duration": 0,
    "start_time": "2022-03-18T09:04:01.940Z"
   },
   {
    "duration": 0,
    "start_time": "2022-03-18T09:04:01.941Z"
   },
   {
    "duration": 0,
    "start_time": "2022-03-18T09:04:01.942Z"
   },
   {
    "duration": 0,
    "start_time": "2022-03-18T09:04:01.943Z"
   },
   {
    "duration": 0,
    "start_time": "2022-03-18T09:04:01.944Z"
   },
   {
    "duration": 0,
    "start_time": "2022-03-18T09:04:01.945Z"
   },
   {
    "duration": 0,
    "start_time": "2022-03-18T09:04:01.946Z"
   },
   {
    "duration": 0,
    "start_time": "2022-03-18T09:04:01.947Z"
   },
   {
    "duration": 0,
    "start_time": "2022-03-18T09:04:01.948Z"
   },
   {
    "duration": 0,
    "start_time": "2022-03-18T09:04:01.949Z"
   },
   {
    "duration": 0,
    "start_time": "2022-03-18T09:04:01.950Z"
   },
   {
    "duration": 0,
    "start_time": "2022-03-18T09:04:01.951Z"
   },
   {
    "duration": 0,
    "start_time": "2022-03-18T09:04:01.952Z"
   },
   {
    "duration": 0,
    "start_time": "2022-03-18T09:04:01.953Z"
   },
   {
    "duration": 1744,
    "start_time": "2022-03-18T10:01:25.639Z"
   },
   {
    "duration": 44,
    "start_time": "2022-03-18T10:01:27.387Z"
   },
   {
    "duration": 8,
    "start_time": "2022-03-18T10:01:27.433Z"
   },
   {
    "duration": 16,
    "start_time": "2022-03-18T10:01:27.444Z"
   },
   {
    "duration": 17,
    "start_time": "2022-03-18T10:01:27.462Z"
   },
   {
    "duration": 22,
    "start_time": "2022-03-18T10:01:27.481Z"
   },
   {
    "duration": 46,
    "start_time": "2022-03-18T10:01:27.505Z"
   },
   {
    "duration": 11,
    "start_time": "2022-03-18T10:01:27.828Z"
   },
   {
    "duration": 50,
    "start_time": "2022-03-18T10:01:27.995Z"
   },
   {
    "duration": 11,
    "start_time": "2022-03-18T10:01:28.472Z"
   },
   {
    "duration": 36,
    "start_time": "2022-03-18T10:01:28.642Z"
   },
   {
    "duration": 21,
    "start_time": "2022-03-18T10:01:29.279Z"
   },
   {
    "duration": 5,
    "start_time": "2022-03-18T10:01:29.441Z"
   },
   {
    "duration": 18,
    "start_time": "2022-03-18T10:01:29.622Z"
   },
   {
    "duration": 16,
    "start_time": "2022-03-18T10:01:29.777Z"
   },
   {
    "duration": 6,
    "start_time": "2022-03-18T10:01:29.956Z"
   },
   {
    "duration": 23,
    "start_time": "2022-03-18T10:01:30.792Z"
   },
   {
    "duration": 7,
    "start_time": "2022-03-18T10:01:32.198Z"
   },
   {
    "duration": 17,
    "start_time": "2022-03-18T10:01:38.363Z"
   },
   {
    "duration": 17,
    "start_time": "2022-03-18T10:01:38.703Z"
   },
   {
    "duration": 8,
    "start_time": "2022-03-18T10:01:39.668Z"
   },
   {
    "duration": 511,
    "start_time": "2022-03-18T10:01:39.817Z"
   },
   {
    "duration": 12,
    "start_time": "2022-03-18T10:01:40.331Z"
   },
   {
    "duration": 784,
    "start_time": "2022-03-18T10:01:40.346Z"
   },
   {
    "duration": 589,
    "start_time": "2022-03-18T10:01:41.133Z"
   },
   {
    "duration": 9,
    "start_time": "2022-03-18T10:01:41.888Z"
   },
   {
    "duration": 16,
    "start_time": "2022-03-18T10:01:44.086Z"
   },
   {
    "duration": 746,
    "start_time": "2022-03-18T10:01:44.968Z"
   },
   {
    "duration": 8,
    "start_time": "2022-03-18T10:01:49.082Z"
   },
   {
    "duration": 612,
    "start_time": "2022-03-18T10:01:50.720Z"
   },
   {
    "duration": 11,
    "start_time": "2022-03-18T10:01:52.788Z"
   },
   {
    "duration": 822,
    "start_time": "2022-03-18T10:01:55.383Z"
   },
   {
    "duration": 757,
    "start_time": "2022-03-18T10:02:59.759Z"
   },
   {
    "duration": 757,
    "start_time": "2022-03-18T10:03:44.956Z"
   },
   {
    "duration": 287,
    "start_time": "2022-03-18T10:03:57.637Z"
   },
   {
    "duration": 9,
    "start_time": "2022-03-18T10:03:58.871Z"
   },
   {
    "duration": 422,
    "start_time": "2022-03-18T10:03:59.123Z"
   },
   {
    "duration": 502,
    "start_time": "2022-03-18T10:03:59.547Z"
   },
   {
    "duration": 6,
    "start_time": "2022-03-18T10:04:00.052Z"
   },
   {
    "duration": 6,
    "start_time": "2022-03-18T10:04:00.074Z"
   },
   {
    "duration": 416,
    "start_time": "2022-03-18T10:04:00.435Z"
   },
   {
    "duration": 423,
    "start_time": "2022-03-18T10:04:00.854Z"
   },
   {
    "duration": 6,
    "start_time": "2022-03-18T10:04:01.280Z"
   },
   {
    "duration": 26,
    "start_time": "2022-03-18T10:04:01.288Z"
   },
   {
    "duration": 361,
    "start_time": "2022-03-18T10:04:02.060Z"
   },
   {
    "duration": 52,
    "start_time": "2022-03-18T10:04:02.423Z"
   },
   {
    "duration": 324,
    "start_time": "2022-03-18T10:04:02.478Z"
   },
   {
    "duration": 32,
    "start_time": "2022-03-18T10:04:02.911Z"
   },
   {
    "duration": 6,
    "start_time": "2022-03-18T10:04:03.571Z"
   },
   {
    "duration": 9,
    "start_time": "2022-03-18T10:04:03.719Z"
   },
   {
    "duration": 14,
    "start_time": "2022-03-18T10:04:04.211Z"
   },
   {
    "duration": 14,
    "start_time": "2022-03-18T10:04:04.387Z"
   },
   {
    "duration": 28,
    "start_time": "2022-03-18T10:04:04.724Z"
   },
   {
    "duration": 9,
    "start_time": "2022-03-18T10:04:05.397Z"
   },
   {
    "duration": 9,
    "start_time": "2022-03-18T10:04:05.588Z"
   },
   {
    "duration": 125,
    "start_time": "2022-03-18T10:05:59.407Z"
   },
   {
    "duration": 1480,
    "start_time": "2022-03-18T10:07:21.778Z"
   },
   {
    "duration": 43,
    "start_time": "2022-03-18T10:07:23.261Z"
   },
   {
    "duration": 9,
    "start_time": "2022-03-18T10:07:23.307Z"
   },
   {
    "duration": 11,
    "start_time": "2022-03-18T10:07:23.319Z"
   },
   {
    "duration": 8,
    "start_time": "2022-03-18T10:07:23.332Z"
   },
   {
    "duration": 24,
    "start_time": "2022-03-18T10:07:23.342Z"
   },
   {
    "duration": 53,
    "start_time": "2022-03-18T10:07:23.373Z"
   },
   {
    "duration": 12,
    "start_time": "2022-03-18T10:07:23.961Z"
   },
   {
    "duration": 48,
    "start_time": "2022-03-18T10:07:24.141Z"
   },
   {
    "duration": 12,
    "start_time": "2022-03-18T10:07:24.591Z"
   },
   {
    "duration": 38,
    "start_time": "2022-03-18T10:07:24.755Z"
   },
   {
    "duration": 20,
    "start_time": "2022-03-18T10:07:25.406Z"
   },
   {
    "duration": 4,
    "start_time": "2022-03-18T10:07:25.568Z"
   },
   {
    "duration": 16,
    "start_time": "2022-03-18T10:07:25.715Z"
   },
   {
    "duration": 17,
    "start_time": "2022-03-18T10:07:25.881Z"
   },
   {
    "duration": 6,
    "start_time": "2022-03-18T10:07:26.058Z"
   },
   {
    "duration": 21,
    "start_time": "2022-03-18T10:07:26.804Z"
   },
   {
    "duration": 7,
    "start_time": "2022-03-18T10:07:27.445Z"
   },
   {
    "duration": 17,
    "start_time": "2022-03-18T10:07:27.781Z"
   },
   {
    "duration": 15,
    "start_time": "2022-03-18T10:07:28.106Z"
   },
   {
    "duration": 10,
    "start_time": "2022-03-18T10:07:29.079Z"
   },
   {
    "duration": 618,
    "start_time": "2022-03-18T10:07:29.232Z"
   },
   {
    "duration": 13,
    "start_time": "2022-03-18T10:07:29.853Z"
   },
   {
    "duration": 800,
    "start_time": "2022-03-18T10:07:29.875Z"
   },
   {
    "duration": 636,
    "start_time": "2022-03-18T10:07:30.678Z"
   },
   {
    "duration": 11,
    "start_time": "2022-03-18T10:07:31.318Z"
   },
   {
    "duration": 41,
    "start_time": "2022-03-18T10:07:31.332Z"
   },
   {
    "duration": 667,
    "start_time": "2022-03-18T10:07:31.391Z"
   },
   {
    "duration": 8,
    "start_time": "2022-03-18T10:07:32.404Z"
   },
   {
    "duration": 630,
    "start_time": "2022-03-18T10:07:32.585Z"
   },
   {
    "duration": 12,
    "start_time": "2022-03-18T10:07:33.235Z"
   },
   {
    "duration": 698,
    "start_time": "2022-03-18T10:07:33.401Z"
   },
   {
    "duration": 339,
    "start_time": "2022-03-18T10:07:34.102Z"
   },
   {
    "duration": 30,
    "start_time": "2022-03-18T10:07:34.445Z"
   },
   {
    "duration": 442,
    "start_time": "2022-03-18T10:07:34.478Z"
   },
   {
    "duration": 423,
    "start_time": "2022-03-18T10:07:34.923Z"
   },
   {
    "duration": 6,
    "start_time": "2022-03-18T10:07:35.348Z"
   },
   {
    "duration": 21,
    "start_time": "2022-03-18T10:07:35.356Z"
   },
   {
    "duration": 423,
    "start_time": "2022-03-18T10:07:35.821Z"
   },
   {
    "duration": 488,
    "start_time": "2022-03-18T10:07:36.247Z"
   },
   {
    "duration": 6,
    "start_time": "2022-03-18T10:07:36.738Z"
   },
   {
    "duration": 30,
    "start_time": "2022-03-18T10:07:36.746Z"
   },
   {
    "duration": 363,
    "start_time": "2022-03-18T10:07:37.503Z"
   },
   {
    "duration": 51,
    "start_time": "2022-03-18T10:07:37.868Z"
   },
   {
    "duration": 324,
    "start_time": "2022-03-18T10:07:37.921Z"
   },
   {
    "duration": 34,
    "start_time": "2022-03-18T10:07:38.332Z"
   },
   {
    "duration": 8,
    "start_time": "2022-03-18T10:07:39.008Z"
   },
   {
    "duration": 11,
    "start_time": "2022-03-18T10:07:39.174Z"
   },
   {
    "duration": 13,
    "start_time": "2022-03-18T10:07:39.694Z"
   },
   {
    "duration": 13,
    "start_time": "2022-03-18T10:07:39.886Z"
   },
   {
    "duration": 30,
    "start_time": "2022-03-18T10:07:40.250Z"
   },
   {
    "duration": 10,
    "start_time": "2022-03-18T10:07:40.908Z"
   },
   {
    "duration": 11,
    "start_time": "2022-03-18T10:07:41.068Z"
   },
   {
    "duration": 1269,
    "start_time": "2022-03-19T06:27:42.610Z"
   },
   {
    "duration": 67,
    "start_time": "2022-03-19T06:27:43.880Z"
   },
   {
    "duration": 5,
    "start_time": "2022-03-19T06:27:43.949Z"
   },
   {
    "duration": 7,
    "start_time": "2022-03-19T06:27:43.956Z"
   },
   {
    "duration": 4,
    "start_time": "2022-03-19T06:27:43.965Z"
   },
   {
    "duration": 13,
    "start_time": "2022-03-19T06:27:43.971Z"
   },
   {
    "duration": 29,
    "start_time": "2022-03-19T06:27:43.985Z"
   },
   {
    "duration": 8,
    "start_time": "2022-03-19T06:27:44.015Z"
   },
   {
    "duration": 56,
    "start_time": "2022-03-19T06:27:44.025Z"
   },
   {
    "duration": 6,
    "start_time": "2022-03-19T06:27:44.082Z"
   },
   {
    "duration": 22,
    "start_time": "2022-03-19T06:27:44.090Z"
   },
   {
    "duration": 12,
    "start_time": "2022-03-19T06:27:44.113Z"
   },
   {
    "duration": 8,
    "start_time": "2022-03-19T06:27:44.126Z"
   },
   {
    "duration": 10,
    "start_time": "2022-03-19T06:27:44.137Z"
   },
   {
    "duration": 34,
    "start_time": "2022-03-19T06:27:44.148Z"
   },
   {
    "duration": 7,
    "start_time": "2022-03-19T06:27:44.183Z"
   },
   {
    "duration": 17,
    "start_time": "2022-03-19T06:27:44.191Z"
   },
   {
    "duration": 5,
    "start_time": "2022-03-19T06:27:44.209Z"
   },
   {
    "duration": 11,
    "start_time": "2022-03-19T06:27:44.216Z"
   },
   {
    "duration": 10,
    "start_time": "2022-03-19T06:27:44.229Z"
   },
   {
    "duration": 7,
    "start_time": "2022-03-19T06:27:44.240Z"
   },
   {
    "duration": 311,
    "start_time": "2022-03-19T06:27:44.248Z"
   },
   {
    "duration": 8,
    "start_time": "2022-03-19T06:27:44.560Z"
   },
   {
    "duration": 395,
    "start_time": "2022-03-19T06:27:44.582Z"
   },
   {
    "duration": 307,
    "start_time": "2022-03-19T06:27:44.979Z"
   },
   {
    "duration": 6,
    "start_time": "2022-03-19T06:27:45.288Z"
   },
   {
    "duration": 15,
    "start_time": "2022-03-19T06:27:45.296Z"
   },
   {
    "duration": 433,
    "start_time": "2022-03-19T06:27:45.313Z"
   },
   {
    "duration": 5,
    "start_time": "2022-03-19T06:27:45.748Z"
   },
   {
    "duration": 346,
    "start_time": "2022-03-19T06:27:45.755Z"
   },
   {
    "duration": 8,
    "start_time": "2022-03-19T06:27:46.103Z"
   },
   {
    "duration": 418,
    "start_time": "2022-03-19T06:27:46.112Z"
   },
   {
    "duration": 127,
    "start_time": "2022-03-19T06:27:46.531Z"
   },
   {
    "duration": 5,
    "start_time": "2022-03-19T06:27:46.660Z"
   },
   {
    "duration": 208,
    "start_time": "2022-03-19T06:27:46.667Z"
   },
   {
    "duration": 200,
    "start_time": "2022-03-19T06:27:46.876Z"
   },
   {
    "duration": 4,
    "start_time": "2022-03-19T06:27:47.080Z"
   },
   {
    "duration": 6,
    "start_time": "2022-03-19T06:27:47.085Z"
   },
   {
    "duration": 216,
    "start_time": "2022-03-19T06:27:47.092Z"
   },
   {
    "duration": 272,
    "start_time": "2022-03-19T06:27:47.309Z"
   },
   {
    "duration": 4,
    "start_time": "2022-03-19T06:27:47.585Z"
   },
   {
    "duration": 7,
    "start_time": "2022-03-19T06:27:47.590Z"
   },
   {
    "duration": 212,
    "start_time": "2022-03-19T06:27:47.599Z"
   },
   {
    "duration": 27,
    "start_time": "2022-03-19T06:27:47.813Z"
   },
   {
    "duration": 143,
    "start_time": "2022-03-19T06:27:47.841Z"
   },
   {
    "duration": 19,
    "start_time": "2022-03-19T06:27:47.986Z"
   },
   {
    "duration": 5,
    "start_time": "2022-03-19T06:27:48.007Z"
   },
   {
    "duration": 8,
    "start_time": "2022-03-19T06:27:48.013Z"
   },
   {
    "duration": 9,
    "start_time": "2022-03-19T06:27:48.022Z"
   },
   {
    "duration": 13,
    "start_time": "2022-03-19T06:27:48.032Z"
   },
   {
    "duration": 43,
    "start_time": "2022-03-19T06:27:48.047Z"
   },
   {
    "duration": 7,
    "start_time": "2022-03-19T06:27:48.092Z"
   },
   {
    "duration": 12,
    "start_time": "2022-03-19T06:27:48.100Z"
   },
   {
    "duration": 1159,
    "start_time": "2022-03-19T06:30:51.565Z"
   },
   {
    "duration": 66,
    "start_time": "2022-03-19T06:30:52.726Z"
   },
   {
    "duration": 5,
    "start_time": "2022-03-19T06:30:52.794Z"
   },
   {
    "duration": 13,
    "start_time": "2022-03-19T06:30:52.801Z"
   },
   {
    "duration": 6,
    "start_time": "2022-03-19T06:30:52.815Z"
   },
   {
    "duration": 15,
    "start_time": "2022-03-19T06:30:52.822Z"
   },
   {
    "duration": 27,
    "start_time": "2022-03-19T06:30:52.838Z"
   },
   {
    "duration": 7,
    "start_time": "2022-03-19T06:30:52.866Z"
   },
   {
    "duration": 29,
    "start_time": "2022-03-19T06:30:52.874Z"
   },
   {
    "duration": 7,
    "start_time": "2022-03-19T06:30:52.905Z"
   },
   {
    "duration": 23,
    "start_time": "2022-03-19T06:30:52.913Z"
   },
   {
    "duration": 12,
    "start_time": "2022-03-19T06:30:52.937Z"
   },
   {
    "duration": 31,
    "start_time": "2022-03-19T06:30:52.950Z"
   },
   {
    "duration": 10,
    "start_time": "2022-03-19T06:30:52.983Z"
   },
   {
    "duration": 13,
    "start_time": "2022-03-19T06:30:52.995Z"
   },
   {
    "duration": 12,
    "start_time": "2022-03-19T06:30:53.010Z"
   },
   {
    "duration": 18,
    "start_time": "2022-03-19T06:30:53.023Z"
   },
   {
    "duration": 5,
    "start_time": "2022-03-19T06:30:53.043Z"
   },
   {
    "duration": 17,
    "start_time": "2022-03-19T06:30:53.050Z"
   },
   {
    "duration": 10,
    "start_time": "2022-03-19T06:30:53.081Z"
   },
   {
    "duration": 8,
    "start_time": "2022-03-19T06:30:53.092Z"
   },
   {
    "duration": 298,
    "start_time": "2022-03-19T06:30:53.101Z"
   },
   {
    "duration": 7,
    "start_time": "2022-03-19T06:30:53.401Z"
   },
   {
    "duration": 415,
    "start_time": "2022-03-19T06:30:53.410Z"
   },
   {
    "duration": 297,
    "start_time": "2022-03-19T06:30:53.828Z"
   },
   {
    "duration": 7,
    "start_time": "2022-03-19T06:30:54.127Z"
   },
   {
    "duration": 11,
    "start_time": "2022-03-19T06:30:54.136Z"
   },
   {
    "duration": 436,
    "start_time": "2022-03-19T06:30:54.152Z"
   },
   {
    "duration": 5,
    "start_time": "2022-03-19T06:30:54.590Z"
   },
   {
    "duration": 321,
    "start_time": "2022-03-19T06:30:54.596Z"
   },
   {
    "duration": 8,
    "start_time": "2022-03-19T06:30:54.918Z"
   },
   {
    "duration": 394,
    "start_time": "2022-03-19T06:30:54.927Z"
   },
   {
    "duration": 118,
    "start_time": "2022-03-19T06:30:55.323Z"
   },
   {
    "duration": 12,
    "start_time": "2022-03-19T06:30:55.443Z"
   },
   {
    "duration": 205,
    "start_time": "2022-03-19T06:30:55.457Z"
   },
   {
    "duration": 206,
    "start_time": "2022-03-19T06:30:55.663Z"
   },
   {
    "duration": 5,
    "start_time": "2022-03-19T06:30:55.871Z"
   },
   {
    "duration": 4,
    "start_time": "2022-03-19T06:30:55.880Z"
   },
   {
    "duration": 222,
    "start_time": "2022-03-19T06:30:55.886Z"
   },
   {
    "duration": 272,
    "start_time": "2022-03-19T06:30:56.110Z"
   },
   {
    "duration": 4,
    "start_time": "2022-03-19T06:30:56.384Z"
   },
   {
    "duration": 7,
    "start_time": "2022-03-19T06:30:56.389Z"
   },
   {
    "duration": 213,
    "start_time": "2022-03-19T06:30:56.397Z"
   },
   {
    "duration": 28,
    "start_time": "2022-03-19T06:30:56.611Z"
   },
   {
    "duration": 173,
    "start_time": "2022-03-19T06:30:56.640Z"
   },
   {
    "duration": 22,
    "start_time": "2022-03-19T06:30:56.814Z"
   },
   {
    "duration": 5,
    "start_time": "2022-03-19T06:30:56.838Z"
   },
   {
    "duration": 7,
    "start_time": "2022-03-19T06:30:56.844Z"
   },
   {
    "duration": 31,
    "start_time": "2022-03-19T06:30:56.852Z"
   },
   {
    "duration": 9,
    "start_time": "2022-03-19T06:30:56.884Z"
   },
   {
    "duration": 21,
    "start_time": "2022-03-19T06:30:56.894Z"
   },
   {
    "duration": 6,
    "start_time": "2022-03-19T06:30:56.916Z"
   },
   {
    "duration": 8,
    "start_time": "2022-03-19T06:30:56.924Z"
   }
  ],
  "kernelspec": {
   "display_name": "Python 3 (ipykernel)",
   "language": "python",
   "name": "python3"
  },
  "language_info": {
   "codemirror_mode": {
    "name": "ipython",
    "version": 3
   },
   "file_extension": ".py",
   "mimetype": "text/x-python",
   "name": "python",
   "nbconvert_exporter": "python",
   "pygments_lexer": "ipython3",
   "version": "3.9.7"
  },
  "toc": {
   "base_numbering": 1,
   "nav_menu": {},
   "number_sections": true,
   "sideBar": true,
   "skip_h1_title": true,
   "title_cell": "Table of Contents",
   "title_sidebar": "Contents",
   "toc_cell": false,
   "toc_position": {},
   "toc_section_display": true,
   "toc_window_display": true
  }
 },
 "nbformat": 4,
 "nbformat_minor": 2
}
